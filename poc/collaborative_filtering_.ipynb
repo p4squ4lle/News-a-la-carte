{
 "cells": [
  {
   "cell_type": "markdown",
   "metadata": {},
   "source": [
    "## Matrix Factorization for a small subset\n",
    "In this notebook, we're going to build our first recommender system, which follows a **collaborative filtering approach** and only takes into account all the readers and all the articles in a small subset of our data. The goal with this **matrix factorization technique** is to 'learn' two embedding matrices with the repsective size of the numbers of readers/articles and an arbitrarily chosen (and thus tunable) size of latent factors. \n",
    "\n",
    "Thus, if we had 10 readers, 5 articles and were to assume we needed 3 latent factors (which could represent implicit, but substantive differences in our reader/article-base), our method will calculate two matrices (a 10 by 3 for the readers and a 3 by 5 for the articles) whose scalar products yield a new matrix the size of our original one (10 x 5), which *approximates* the original matrix best. This optimization problem is typically solved by stochastic gradient descent (although there are, of course, other possibilities) and from a once extremely sparse matrix (obviously, ervery single reader only reads/clicks a tiny fraction of the articles available to us), we get a densely populated table which now contains information on wether some reader might be more or less inclined to read certain articles. \n",
    "\n",
    "The approach might sound a bit dry and mathematic at first, but with the embeddings we actually learn some lower dimensional representations of our readers/articles and can hereby determine *resemblances in preferences*. If you ever wondered how amazon or google knew what you were interested in before you even searched for it: here you go!"
   ]
  },
  {
   "cell_type": "code",
   "execution_count": 1,
   "metadata": {},
   "outputs": [],
   "source": [
    "import pandas as pd\n",
    "import numpy as np"
   ]
  },
  {
   "cell_type": "code",
   "execution_count": 2,
   "metadata": {},
   "outputs": [],
   "source": [
    "behaviors = pd.read_csv('../../data/mind_small_train/behaviors.tsv', sep=\"\\t\", header=None)\n",
    "news= pd.read_csv('../../data/mind_small_train/news.tsv', sep=\"\\t\", header = None)"
   ]
  },
  {
   "cell_type": "markdown",
   "metadata": {},
   "source": [
    "At first, we will only need to work with the behaviors dataset, which looks like this:"
   ]
  },
  {
   "cell_type": "code",
   "execution_count": 3,
   "metadata": {},
   "outputs": [
    {
     "data": {
      "text/html": [
       "<div>\n",
       "<style scoped>\n",
       "    .dataframe tbody tr th:only-of-type {\n",
       "        vertical-align: middle;\n",
       "    }\n",
       "\n",
       "    .dataframe tbody tr th {\n",
       "        vertical-align: top;\n",
       "    }\n",
       "\n",
       "    .dataframe thead th {\n",
       "        text-align: right;\n",
       "    }\n",
       "</style>\n",
       "<table border=\"1\" class=\"dataframe\">\n",
       "  <thead>\n",
       "    <tr style=\"text-align: right;\">\n",
       "      <th></th>\n",
       "      <th>0</th>\n",
       "      <th>1</th>\n",
       "      <th>2</th>\n",
       "      <th>3</th>\n",
       "      <th>4</th>\n",
       "    </tr>\n",
       "  </thead>\n",
       "  <tbody>\n",
       "    <tr>\n",
       "      <th>0</th>\n",
       "      <td>1</td>\n",
       "      <td>U13740</td>\n",
       "      <td>11/11/2019 9:05:58 AM</td>\n",
       "      <td>N55189 N42782 N34694 N45794 N18445 N63302 N104...</td>\n",
       "      <td>N55689-1 N35729-0</td>\n",
       "    </tr>\n",
       "    <tr>\n",
       "      <th>1</th>\n",
       "      <td>2</td>\n",
       "      <td>U91836</td>\n",
       "      <td>11/12/2019 6:11:30 PM</td>\n",
       "      <td>N31739 N6072 N63045 N23979 N35656 N43353 N8129...</td>\n",
       "      <td>N20678-0 N39317-0 N58114-0 N20495-0 N42977-0 N...</td>\n",
       "    </tr>\n",
       "    <tr>\n",
       "      <th>2</th>\n",
       "      <td>3</td>\n",
       "      <td>U73700</td>\n",
       "      <td>11/14/2019 7:01:48 AM</td>\n",
       "      <td>N10732 N25792 N7563 N21087 N41087 N5445 N60384...</td>\n",
       "      <td>N50014-0 N23877-0 N35389-0 N49712-0 N16844-0 N...</td>\n",
       "    </tr>\n",
       "    <tr>\n",
       "      <th>3</th>\n",
       "      <td>4</td>\n",
       "      <td>U34670</td>\n",
       "      <td>11/11/2019 5:28:05 AM</td>\n",
       "      <td>N45729 N2203 N871 N53880 N41375 N43142 N33013 ...</td>\n",
       "      <td>N35729-0 N33632-0 N49685-1 N27581-0</td>\n",
       "    </tr>\n",
       "    <tr>\n",
       "      <th>4</th>\n",
       "      <td>5</td>\n",
       "      <td>U8125</td>\n",
       "      <td>11/12/2019 4:11:21 PM</td>\n",
       "      <td>N10078 N56514 N14904 N33740</td>\n",
       "      <td>N39985-0 N36050-0 N16096-0 N8400-1 N22407-0 N6...</td>\n",
       "    </tr>\n",
       "  </tbody>\n",
       "</table>\n",
       "</div>"
      ],
      "text/plain": [
       "   0       1                      2  \\\n",
       "0  1  U13740  11/11/2019 9:05:58 AM   \n",
       "1  2  U91836  11/12/2019 6:11:30 PM   \n",
       "2  3  U73700  11/14/2019 7:01:48 AM   \n",
       "3  4  U34670  11/11/2019 5:28:05 AM   \n",
       "4  5   U8125  11/12/2019 4:11:21 PM   \n",
       "\n",
       "                                                   3  \\\n",
       "0  N55189 N42782 N34694 N45794 N18445 N63302 N104...   \n",
       "1  N31739 N6072 N63045 N23979 N35656 N43353 N8129...   \n",
       "2  N10732 N25792 N7563 N21087 N41087 N5445 N60384...   \n",
       "3  N45729 N2203 N871 N53880 N41375 N43142 N33013 ...   \n",
       "4                        N10078 N56514 N14904 N33740   \n",
       "\n",
       "                                                   4  \n",
       "0                                  N55689-1 N35729-0  \n",
       "1  N20678-0 N39317-0 N58114-0 N20495-0 N42977-0 N...  \n",
       "2  N50014-0 N23877-0 N35389-0 N49712-0 N16844-0 N...  \n",
       "3                N35729-0 N33632-0 N49685-1 N27581-0  \n",
       "4  N39985-0 N36050-0 N16096-0 N8400-1 N22407-0 N6...  "
      ]
     },
     "execution_count": 3,
     "metadata": {},
     "output_type": "execute_result"
    }
   ],
   "source": [
    "behaviors.head()"
   ]
  },
  {
   "cell_type": "markdown",
   "metadata": {},
   "source": [
    "and needs some column-relabelling:"
   ]
  },
  {
   "cell_type": "code",
   "execution_count": 4,
   "metadata": {},
   "outputs": [],
   "source": [
    "behaviors= behaviors.rename(columns={3:'history'})\n",
    "behaviors = behaviors.rename(columns={0:'impression_id'})\n",
    "behaviors = behaviors.rename(columns= {1 : 'user_id'})\n",
    "behaviors = behaviors.rename(columns= {2 : 'time'})\n",
    "behaviors = behaviors.rename(columns= {4 : 'labels'})"
   ]
  },
  {
   "cell_type": "markdown",
   "metadata": {},
   "source": [
    "Now we want to check if there are readers with multiple sessions:"
   ]
  },
  {
   "cell_type": "code",
   "execution_count": 5,
   "metadata": {
    "collapsed": true,
    "jupyter": {
     "outputs_hidden": true
    }
   },
   "outputs": [
    {
     "data": {
      "text/plain": [
       "U32146    62\n",
       "U15740    44\n",
       "U20833    41\n",
       "U51286    40\n",
       "U44201    40\n",
       "U79449    37\n",
       "U30304    37\n",
       "U57047    36\n",
       "U47521    36\n",
       "U56120    35\n",
       "U79210    35\n",
       "U85878    34\n",
       "U63482    34\n",
       "U27166    34\n",
       "U72280    33\n",
       "U43884    33\n",
       "U21954    33\n",
       "U68925    33\n",
       "U67455    32\n",
       "U83337    32\n",
       "U19040    32\n",
       "U38387    32\n",
       "U44210    32\n",
       "U77427    32\n",
       "U58715    31\n",
       "U48826    30\n",
       "U1296     30\n",
       "U52496    30\n",
       "U17204    30\n",
       "U39770    29\n",
       "          ..\n",
       "U32770     1\n",
       "U73735     1\n",
       "U58657     1\n",
       "U62242     1\n",
       "U26579     1\n",
       "U39552     1\n",
       "U75135     1\n",
       "U83402     1\n",
       "U45318     1\n",
       "U61370     1\n",
       "U89513     1\n",
       "U90825     1\n",
       "U7167      1\n",
       "U14321     1\n",
       "U84778     1\n",
       "U18213     1\n",
       "U37761     1\n",
       "U76269     1\n",
       "U38711     1\n",
       "U37640     1\n",
       "U83505     1\n",
       "U6411      1\n",
       "U27473     1\n",
       "U91794     1\n",
       "U56520     1\n",
       "U83994     1\n",
       "U40636     1\n",
       "U55639     1\n",
       "U79895     1\n",
       "U42763     1\n",
       "Name: user_id, Length: 50000, dtype: int64"
      ]
     },
     "execution_count": 5,
     "metadata": {},
     "output_type": "execute_result"
    }
   ],
   "source": [
    "behaviors.user_id.value_counts()"
   ]
  },
  {
   "cell_type": "code",
   "execution_count": 6,
   "metadata": {},
   "outputs": [
    {
     "data": {
      "text/plain": [
       "(50000, 156965)"
      ]
     },
     "execution_count": 6,
     "metadata": {},
     "output_type": "execute_result"
    }
   ],
   "source": [
    "len(behaviors.user_id.unique()), len(behaviors.user_id)"
   ]
  },
  {
   "cell_type": "markdown",
   "metadata": {},
   "source": [
    "Apparently, there are! For matrix factorization, we only want to work with the click history, so let's see how this is looking:"
   ]
  },
  {
   "cell_type": "code",
   "execution_count": 7,
   "metadata": {},
   "outputs": [],
   "source": [
    "user_U32594 = behaviors[behaviors.user_id == 'U32594']"
   ]
  },
  {
   "cell_type": "code",
   "execution_count": 8,
   "metadata": {},
   "outputs": [
    {
     "data": {
      "text/html": [
       "<div>\n",
       "<style scoped>\n",
       "    .dataframe tbody tr th:only-of-type {\n",
       "        vertical-align: middle;\n",
       "    }\n",
       "\n",
       "    .dataframe tbody tr th {\n",
       "        vertical-align: top;\n",
       "    }\n",
       "\n",
       "    .dataframe thead th {\n",
       "        text-align: right;\n",
       "    }\n",
       "</style>\n",
       "<table border=\"1\" class=\"dataframe\">\n",
       "  <thead>\n",
       "    <tr style=\"text-align: right;\">\n",
       "      <th></th>\n",
       "      <th>impression_id</th>\n",
       "      <th>user_id</th>\n",
       "      <th>time</th>\n",
       "      <th>history</th>\n",
       "      <th>labels</th>\n",
       "    </tr>\n",
       "  </thead>\n",
       "  <tbody>\n",
       "    <tr>\n",
       "      <th>615</th>\n",
       "      <td>616</td>\n",
       "      <td>U32594</td>\n",
       "      <td>11/10/2019 4:38:09 AM</td>\n",
       "      <td>N54359 N54359 N5227 N16695 N63188 N6253 N60844...</td>\n",
       "      <td>N54595-0 N23757-0 N23820-0 N18572-0 N41220-0 N...</td>\n",
       "    </tr>\n",
       "    <tr>\n",
       "      <th>2202</th>\n",
       "      <td>2203</td>\n",
       "      <td>U32594</td>\n",
       "      <td>11/14/2019 2:27:10 AM</td>\n",
       "      <td>N54359 N54359 N5227 N16695 N63188 N6253 N60844...</td>\n",
       "      <td>N41612-0 N16148-0 N3031-0 N51954-0 N2021-0 N33...</td>\n",
       "    </tr>\n",
       "    <tr>\n",
       "      <th>4511</th>\n",
       "      <td>4512</td>\n",
       "      <td>U32594</td>\n",
       "      <td>11/14/2019 3:47:55 AM</td>\n",
       "      <td>N54359 N54359 N5227 N16695 N63188 N6253 N60844...</td>\n",
       "      <td>N16419-0 N3167-0 N30071-0 N47721-0 N16148-0 N8...</td>\n",
       "    </tr>\n",
       "    <tr>\n",
       "      <th>5095</th>\n",
       "      <td>5096</td>\n",
       "      <td>U32594</td>\n",
       "      <td>11/9/2019 12:36:17 PM</td>\n",
       "      <td>N54359 N54359 N5227 N16695 N63188 N6253 N60844...</td>\n",
       "      <td>N58051-0 N56396-0 N31372-0 N24272-0 N59852-0 N...</td>\n",
       "    </tr>\n",
       "    <tr>\n",
       "      <th>5747</th>\n",
       "      <td>5748</td>\n",
       "      <td>U32594</td>\n",
       "      <td>11/12/2019 3:05:21 AM</td>\n",
       "      <td>N54359 N54359 N5227 N16695 N63188 N6253 N60844...</td>\n",
       "      <td>N31978-0 N49157-0 N21741-0 N50675-0 N14184-0 N...</td>\n",
       "    </tr>\n",
       "    <tr>\n",
       "      <th>8648</th>\n",
       "      <td>8649</td>\n",
       "      <td>U32594</td>\n",
       "      <td>11/11/2019 1:09:11 PM</td>\n",
       "      <td>N54359 N54359 N5227 N16695 N63188 N6253 N60844...</td>\n",
       "      <td>N30998-0 N41172-0 N19542-0 N55204-0 N33964-0 N...</td>\n",
       "    </tr>\n",
       "    <tr>\n",
       "      <th>19975</th>\n",
       "      <td>19976</td>\n",
       "      <td>U32594</td>\n",
       "      <td>11/11/2019 3:29:00 AM</td>\n",
       "      <td>N54359 N54359 N5227 N16695 N63188 N6253 N60844...</td>\n",
       "      <td>N35729-0 N48759-1 N31273-0 N49685-0 N62729-0 N...</td>\n",
       "    </tr>\n",
       "    <tr>\n",
       "      <th>56570</th>\n",
       "      <td>56571</td>\n",
       "      <td>U32594</td>\n",
       "      <td>11/14/2019 7:09:36 AM</td>\n",
       "      <td>N54359 N54359 N5227 N16695 N63188 N6253 N60844...</td>\n",
       "      <td>N64174-0 N16148-0 N45509-0 N46821-0 N23446-0 N...</td>\n",
       "    </tr>\n",
       "    <tr>\n",
       "      <th>67071</th>\n",
       "      <td>67072</td>\n",
       "      <td>U32594</td>\n",
       "      <td>11/14/2019 4:01:54 AM</td>\n",
       "      <td>N54359 N54359 N5227 N16695 N63188 N6253 N60844...</td>\n",
       "      <td>N16844-0 N19391-0 N28767-0 N60550-0 N40559-0 N...</td>\n",
       "    </tr>\n",
       "    <tr>\n",
       "      <th>76277</th>\n",
       "      <td>76278</td>\n",
       "      <td>U32594</td>\n",
       "      <td>11/13/2019 10:31:37 AM</td>\n",
       "      <td>N54359 N54359 N5227 N16695 N63188 N6253 N60844...</td>\n",
       "      <td>N13907-0 N51048-0 N34876-0 N64094-1 N39010-0 N...</td>\n",
       "    </tr>\n",
       "    <tr>\n",
       "      <th>96973</th>\n",
       "      <td>96974</td>\n",
       "      <td>U32594</td>\n",
       "      <td>11/10/2019 4:06:07 AM</td>\n",
       "      <td>N54359 N54359 N5227 N16695 N63188 N6253 N60844...</td>\n",
       "      <td>N288-0 N10272-0 N41220-0 N53017-0 N23820-0 N94...</td>\n",
       "    </tr>\n",
       "    <tr>\n",
       "      <th>102839</th>\n",
       "      <td>102840</td>\n",
       "      <td>U32594</td>\n",
       "      <td>11/11/2019 11:07:43 AM</td>\n",
       "      <td>N54359 N54359 N5227 N16695 N63188 N6253 N60844...</td>\n",
       "      <td>N40725-1 N21707-0 N55204-0 N53585-0 N59981-0 N...</td>\n",
       "    </tr>\n",
       "    <tr>\n",
       "      <th>116499</th>\n",
       "      <td>116500</td>\n",
       "      <td>U32594</td>\n",
       "      <td>11/13/2019 10:32:09 AM</td>\n",
       "      <td>N54359 N54359 N5227 N16695 N63188 N6253 N60844...</td>\n",
       "      <td>N20428-0 N59673-1 N37793-0 N47061-0 N53861-0 N...</td>\n",
       "    </tr>\n",
       "    <tr>\n",
       "      <th>123060</th>\n",
       "      <td>123061</td>\n",
       "      <td>U32594</td>\n",
       "      <td>11/14/2019 3:19:10 PM</td>\n",
       "      <td>N54359 N54359 N5227 N16695 N63188 N6253 N60844...</td>\n",
       "      <td>N42515-0 N41934-0 N33828-0 N6837-0 N61233-0 N3...</td>\n",
       "    </tr>\n",
       "    <tr>\n",
       "      <th>139162</th>\n",
       "      <td>139163</td>\n",
       "      <td>U32594</td>\n",
       "      <td>11/10/2019 4:00:59 AM</td>\n",
       "      <td>N54359 N54359 N5227 N16695 N63188 N6253 N60844...</td>\n",
       "      <td>N39587-0 N61768-0 N57097-0 N25471-0 N56227-0 N...</td>\n",
       "    </tr>\n",
       "  </tbody>\n",
       "</table>\n",
       "</div>"
      ],
      "text/plain": [
       "        impression_id user_id                    time  \\\n",
       "615               616  U32594   11/10/2019 4:38:09 AM   \n",
       "2202             2203  U32594   11/14/2019 2:27:10 AM   \n",
       "4511             4512  U32594   11/14/2019 3:47:55 AM   \n",
       "5095             5096  U32594   11/9/2019 12:36:17 PM   \n",
       "5747             5748  U32594   11/12/2019 3:05:21 AM   \n",
       "8648             8649  U32594   11/11/2019 1:09:11 PM   \n",
       "19975           19976  U32594   11/11/2019 3:29:00 AM   \n",
       "56570           56571  U32594   11/14/2019 7:09:36 AM   \n",
       "67071           67072  U32594   11/14/2019 4:01:54 AM   \n",
       "76277           76278  U32594  11/13/2019 10:31:37 AM   \n",
       "96973           96974  U32594   11/10/2019 4:06:07 AM   \n",
       "102839         102840  U32594  11/11/2019 11:07:43 AM   \n",
       "116499         116500  U32594  11/13/2019 10:32:09 AM   \n",
       "123060         123061  U32594   11/14/2019 3:19:10 PM   \n",
       "139162         139163  U32594   11/10/2019 4:00:59 AM   \n",
       "\n",
       "                                                  history  \\\n",
       "615     N54359 N54359 N5227 N16695 N63188 N6253 N60844...   \n",
       "2202    N54359 N54359 N5227 N16695 N63188 N6253 N60844...   \n",
       "4511    N54359 N54359 N5227 N16695 N63188 N6253 N60844...   \n",
       "5095    N54359 N54359 N5227 N16695 N63188 N6253 N60844...   \n",
       "5747    N54359 N54359 N5227 N16695 N63188 N6253 N60844...   \n",
       "8648    N54359 N54359 N5227 N16695 N63188 N6253 N60844...   \n",
       "19975   N54359 N54359 N5227 N16695 N63188 N6253 N60844...   \n",
       "56570   N54359 N54359 N5227 N16695 N63188 N6253 N60844...   \n",
       "67071   N54359 N54359 N5227 N16695 N63188 N6253 N60844...   \n",
       "76277   N54359 N54359 N5227 N16695 N63188 N6253 N60844...   \n",
       "96973   N54359 N54359 N5227 N16695 N63188 N6253 N60844...   \n",
       "102839  N54359 N54359 N5227 N16695 N63188 N6253 N60844...   \n",
       "116499  N54359 N54359 N5227 N16695 N63188 N6253 N60844...   \n",
       "123060  N54359 N54359 N5227 N16695 N63188 N6253 N60844...   \n",
       "139162  N54359 N54359 N5227 N16695 N63188 N6253 N60844...   \n",
       "\n",
       "                                                   labels  \n",
       "615     N54595-0 N23757-0 N23820-0 N18572-0 N41220-0 N...  \n",
       "2202    N41612-0 N16148-0 N3031-0 N51954-0 N2021-0 N33...  \n",
       "4511    N16419-0 N3167-0 N30071-0 N47721-0 N16148-0 N8...  \n",
       "5095    N58051-0 N56396-0 N31372-0 N24272-0 N59852-0 N...  \n",
       "5747    N31978-0 N49157-0 N21741-0 N50675-0 N14184-0 N...  \n",
       "8648    N30998-0 N41172-0 N19542-0 N55204-0 N33964-0 N...  \n",
       "19975   N35729-0 N48759-1 N31273-0 N49685-0 N62729-0 N...  \n",
       "56570   N64174-0 N16148-0 N45509-0 N46821-0 N23446-0 N...  \n",
       "67071   N16844-0 N19391-0 N28767-0 N60550-0 N40559-0 N...  \n",
       "76277   N13907-0 N51048-0 N34876-0 N64094-1 N39010-0 N...  \n",
       "96973   N288-0 N10272-0 N41220-0 N53017-0 N23820-0 N94...  \n",
       "102839  N40725-1 N21707-0 N55204-0 N53585-0 N59981-0 N...  \n",
       "116499  N20428-0 N59673-1 N37793-0 N47061-0 N53861-0 N...  \n",
       "123060  N42515-0 N41934-0 N33828-0 N6837-0 N61233-0 N3...  \n",
       "139162  N39587-0 N61768-0 N57097-0 N25471-0 N56227-0 N...  "
      ]
     },
     "execution_count": 8,
     "metadata": {},
     "output_type": "execute_result"
    }
   ],
   "source": []
  },
  {
   "cell_type": "code",
   "execution_count": 9,
   "metadata": {},
   "outputs": [
    {
     "data": {
      "text/plain": [
       "True"
      ]
     },
     "execution_count": 9,
     "metadata": {},
     "output_type": "execute_result"
    }
   ],
   "source": [
    "user_U32594.iloc[1, 3] == user_U32594.iloc[2, 3] == user_U32594.iloc[8, 3]"
   ]
  },
  {
   "cell_type": "code",
   "execution_count": 10,
   "metadata": {},
   "outputs": [
    {
     "data": {
      "text/plain": [
       "False"
      ]
     },
     "execution_count": 10,
     "metadata": {},
     "output_type": "execute_result"
    }
   ],
   "source": [
    "user_U32594.iloc[1, 4] == user_U32594.iloc[2, 4] == user_U32594.iloc[8, 4]"
   ]
  },
  {
   "cell_type": "code",
   "execution_count": 11,
   "metadata": {},
   "outputs": [],
   "source": [
    "user_U67455 = behaviors[behaviors.user_id == 'U67455']"
   ]
  },
  {
   "cell_type": "code",
   "execution_count": 12,
   "metadata": {},
   "outputs": [
    {
     "data": {
      "text/plain": [
       "True"
      ]
     },
     "execution_count": 12,
     "metadata": {},
     "output_type": "execute_result"
    }
   ],
   "source": [
    "user_U67455.iloc[1, 3] == user_U67455.iloc[2, 3] == user_U67455.iloc[8, 3]"
   ]
  },
  {
   "cell_type": "code",
   "execution_count": 13,
   "metadata": {},
   "outputs": [
    {
     "data": {
      "text/plain": [
       "False"
      ]
     },
     "execution_count": 13,
     "metadata": {},
     "output_type": "execute_result"
    }
   ],
   "source": [
    "user_U67455.iloc[1, 4] == user_U67455.iloc[2, 4] == user_U67455.iloc[8, 4]"
   ]
  },
  {
   "cell_type": "markdown",
   "metadata": {},
   "source": [
    "It looks like the history for the users is always the same. Luckily, the recommendations and clicks are not."
   ]
  },
  {
   "cell_type": "code",
   "execution_count": 14,
   "metadata": {},
   "outputs": [
    {
     "data": {
      "text/plain": [
       "(278, 275)"
      ]
     },
     "execution_count": 14,
     "metadata": {},
     "output_type": "execute_result"
    }
   ],
   "source": [
    "x = user_U67455.history.iloc[1].split(' ')\n",
    "len(x), len(set(x))\n"
   ]
  },
  {
   "cell_type": "markdown",
   "metadata": {},
   "source": [
    "It also looks like there are readers who clicked the same articles multiple times. We treat these instances as redundancies here, which -- together with the repeating histories in general -- don't pose a problem for constructing our **original reader-article-matrix**, what we will do in the following:\n",
    "\n",
    "First of all, we want to reduce our dataset to the first 10,000 impressions for this task:"
   ]
  },
  {
   "cell_type": "code",
   "execution_count": 15,
   "metadata": {},
   "outputs": [],
   "source": [
    "behav_part_1 = behaviors.iloc[:10000, :]"
   ]
  },
  {
   "cell_type": "code",
   "execution_count": 16,
   "metadata": {},
   "outputs": [
    {
     "data": {
      "text/plain": [
       "(9796, 5)"
      ]
     },
     "execution_count": 16,
     "metadata": {},
     "output_type": "execute_result"
    }
   ],
   "source": [
    "behav_part_1 = behav_part_1.dropna()\n",
    "behav_part_1.shape"
   ]
  },
  {
   "cell_type": "code",
   "execution_count": 17,
   "metadata": {},
   "outputs": [
    {
     "data": {
      "text/plain": [
       "'U5787'"
      ]
     },
     "execution_count": 17,
     "metadata": {},
     "output_type": "execute_result"
    }
   ],
   "source": [
    "id_dict = pd.Series(behav_part_1.user_id.values,index=behav_part_1.impression_id).to_dict()\n",
    "id_dict[9999]"
   ]
  },
  {
   "cell_type": "code",
   "execution_count": 18,
   "metadata": {},
   "outputs": [],
   "source": [
    "behaviors_part_1_set = behav_part_1.set_index('user_id').history.str.split(' ', expand =True).stack().reset_index(1, drop=True).reset_index(name='article')\n",
    "\n"
   ]
  },
  {
   "cell_type": "code",
   "execution_count": 19,
   "metadata": {},
   "outputs": [
    {
     "data": {
      "text/html": [
       "<div>\n",
       "<style scoped>\n",
       "    .dataframe tbody tr th:only-of-type {\n",
       "        vertical-align: middle;\n",
       "    }\n",
       "\n",
       "    .dataframe tbody tr th {\n",
       "        vertical-align: top;\n",
       "    }\n",
       "\n",
       "    .dataframe thead th {\n",
       "        text-align: right;\n",
       "    }\n",
       "</style>\n",
       "<table border=\"1\" class=\"dataframe\">\n",
       "  <thead>\n",
       "    <tr style=\"text-align: right;\">\n",
       "      <th></th>\n",
       "      <th>user_id</th>\n",
       "      <th>article</th>\n",
       "    </tr>\n",
       "  </thead>\n",
       "  <tbody>\n",
       "    <tr>\n",
       "      <th>0</th>\n",
       "      <td>U13740</td>\n",
       "      <td>N55189</td>\n",
       "    </tr>\n",
       "    <tr>\n",
       "      <th>1</th>\n",
       "      <td>U13740</td>\n",
       "      <td>N42782</td>\n",
       "    </tr>\n",
       "    <tr>\n",
       "      <th>2</th>\n",
       "      <td>U13740</td>\n",
       "      <td>N34694</td>\n",
       "    </tr>\n",
       "    <tr>\n",
       "      <th>3</th>\n",
       "      <td>U13740</td>\n",
       "      <td>N45794</td>\n",
       "    </tr>\n",
       "    <tr>\n",
       "      <th>4</th>\n",
       "      <td>U13740</td>\n",
       "      <td>N18445</td>\n",
       "    </tr>\n",
       "    <tr>\n",
       "      <th>5</th>\n",
       "      <td>U13740</td>\n",
       "      <td>N63302</td>\n",
       "    </tr>\n",
       "    <tr>\n",
       "      <th>6</th>\n",
       "      <td>U13740</td>\n",
       "      <td>N10414</td>\n",
       "    </tr>\n",
       "    <tr>\n",
       "      <th>7</th>\n",
       "      <td>U13740</td>\n",
       "      <td>N19347</td>\n",
       "    </tr>\n",
       "    <tr>\n",
       "      <th>8</th>\n",
       "      <td>U13740</td>\n",
       "      <td>N31801</td>\n",
       "    </tr>\n",
       "    <tr>\n",
       "      <th>9</th>\n",
       "      <td>U91836</td>\n",
       "      <td>N31739</td>\n",
       "    </tr>\n",
       "    <tr>\n",
       "      <th>10</th>\n",
       "      <td>U91836</td>\n",
       "      <td>N6072</td>\n",
       "    </tr>\n",
       "    <tr>\n",
       "      <th>11</th>\n",
       "      <td>U91836</td>\n",
       "      <td>N63045</td>\n",
       "    </tr>\n",
       "    <tr>\n",
       "      <th>12</th>\n",
       "      <td>U91836</td>\n",
       "      <td>N23979</td>\n",
       "    </tr>\n",
       "    <tr>\n",
       "      <th>13</th>\n",
       "      <td>U91836</td>\n",
       "      <td>N35656</td>\n",
       "    </tr>\n",
       "    <tr>\n",
       "      <th>14</th>\n",
       "      <td>U91836</td>\n",
       "      <td>N43353</td>\n",
       "    </tr>\n",
       "    <tr>\n",
       "      <th>15</th>\n",
       "      <td>U91836</td>\n",
       "      <td>N8129</td>\n",
       "    </tr>\n",
       "    <tr>\n",
       "      <th>16</th>\n",
       "      <td>U91836</td>\n",
       "      <td>N1569</td>\n",
       "    </tr>\n",
       "    <tr>\n",
       "      <th>17</th>\n",
       "      <td>U91836</td>\n",
       "      <td>N17686</td>\n",
       "    </tr>\n",
       "    <tr>\n",
       "      <th>18</th>\n",
       "      <td>U91836</td>\n",
       "      <td>N13008</td>\n",
       "    </tr>\n",
       "    <tr>\n",
       "      <th>19</th>\n",
       "      <td>U91836</td>\n",
       "      <td>N21623</td>\n",
       "    </tr>\n",
       "    <tr>\n",
       "      <th>20</th>\n",
       "      <td>U91836</td>\n",
       "      <td>N6233</td>\n",
       "    </tr>\n",
       "    <tr>\n",
       "      <th>21</th>\n",
       "      <td>U91836</td>\n",
       "      <td>N14340</td>\n",
       "    </tr>\n",
       "    <tr>\n",
       "      <th>22</th>\n",
       "      <td>U91836</td>\n",
       "      <td>N48031</td>\n",
       "    </tr>\n",
       "    <tr>\n",
       "      <th>23</th>\n",
       "      <td>U91836</td>\n",
       "      <td>N62285</td>\n",
       "    </tr>\n",
       "    <tr>\n",
       "      <th>24</th>\n",
       "      <td>U91836</td>\n",
       "      <td>N44383</td>\n",
       "    </tr>\n",
       "    <tr>\n",
       "      <th>25</th>\n",
       "      <td>U91836</td>\n",
       "      <td>N23061</td>\n",
       "    </tr>\n",
       "    <tr>\n",
       "      <th>26</th>\n",
       "      <td>U91836</td>\n",
       "      <td>N16290</td>\n",
       "    </tr>\n",
       "    <tr>\n",
       "      <th>27</th>\n",
       "      <td>U91836</td>\n",
       "      <td>N6244</td>\n",
       "    </tr>\n",
       "    <tr>\n",
       "      <th>28</th>\n",
       "      <td>U91836</td>\n",
       "      <td>N45099</td>\n",
       "    </tr>\n",
       "    <tr>\n",
       "      <th>29</th>\n",
       "      <td>U91836</td>\n",
       "      <td>N58715</td>\n",
       "    </tr>\n",
       "    <tr>\n",
       "      <th>...</th>\n",
       "      <td>...</td>\n",
       "      <td>...</td>\n",
       "    </tr>\n",
       "    <tr>\n",
       "      <th>322748</th>\n",
       "      <td>U72585</td>\n",
       "      <td>N13244</td>\n",
       "    </tr>\n",
       "    <tr>\n",
       "      <th>322749</th>\n",
       "      <td>U72585</td>\n",
       "      <td>N56638</td>\n",
       "    </tr>\n",
       "    <tr>\n",
       "      <th>322750</th>\n",
       "      <td>U72585</td>\n",
       "      <td>N45954</td>\n",
       "    </tr>\n",
       "    <tr>\n",
       "      <th>322751</th>\n",
       "      <td>U72585</td>\n",
       "      <td>N55743</td>\n",
       "    </tr>\n",
       "    <tr>\n",
       "      <th>322752</th>\n",
       "      <td>U72585</td>\n",
       "      <td>N57318</td>\n",
       "    </tr>\n",
       "    <tr>\n",
       "      <th>322753</th>\n",
       "      <td>U72585</td>\n",
       "      <td>N60184</td>\n",
       "    </tr>\n",
       "    <tr>\n",
       "      <th>322754</th>\n",
       "      <td>U72585</td>\n",
       "      <td>N38299</td>\n",
       "    </tr>\n",
       "    <tr>\n",
       "      <th>322755</th>\n",
       "      <td>U72585</td>\n",
       "      <td>N10414</td>\n",
       "    </tr>\n",
       "    <tr>\n",
       "      <th>322756</th>\n",
       "      <td>U72585</td>\n",
       "      <td>N19347</td>\n",
       "    </tr>\n",
       "    <tr>\n",
       "      <th>322757</th>\n",
       "      <td>U72585</td>\n",
       "      <td>N54225</td>\n",
       "    </tr>\n",
       "    <tr>\n",
       "      <th>322758</th>\n",
       "      <td>U72585</td>\n",
       "      <td>N34069</td>\n",
       "    </tr>\n",
       "    <tr>\n",
       "      <th>322759</th>\n",
       "      <td>U72585</td>\n",
       "      <td>N306</td>\n",
       "    </tr>\n",
       "    <tr>\n",
       "      <th>322760</th>\n",
       "      <td>U72585</td>\n",
       "      <td>N2309</td>\n",
       "    </tr>\n",
       "    <tr>\n",
       "      <th>322761</th>\n",
       "      <td>U72585</td>\n",
       "      <td>N4526</td>\n",
       "    </tr>\n",
       "    <tr>\n",
       "      <th>322762</th>\n",
       "      <td>U72585</td>\n",
       "      <td>N33096</td>\n",
       "    </tr>\n",
       "    <tr>\n",
       "      <th>322763</th>\n",
       "      <td>U72585</td>\n",
       "      <td>N43142</td>\n",
       "    </tr>\n",
       "    <tr>\n",
       "      <th>322764</th>\n",
       "      <td>U72585</td>\n",
       "      <td>N60491</td>\n",
       "    </tr>\n",
       "    <tr>\n",
       "      <th>322765</th>\n",
       "      <td>U72585</td>\n",
       "      <td>N38961</td>\n",
       "    </tr>\n",
       "    <tr>\n",
       "      <th>322766</th>\n",
       "      <td>U72585</td>\n",
       "      <td>N42137</td>\n",
       "    </tr>\n",
       "    <tr>\n",
       "      <th>322767</th>\n",
       "      <td>U72585</td>\n",
       "      <td>N11231</td>\n",
       "    </tr>\n",
       "    <tr>\n",
       "      <th>322768</th>\n",
       "      <td>U72585</td>\n",
       "      <td>N14761</td>\n",
       "    </tr>\n",
       "    <tr>\n",
       "      <th>322769</th>\n",
       "      <td>U72585</td>\n",
       "      <td>N53275</td>\n",
       "    </tr>\n",
       "    <tr>\n",
       "      <th>322770</th>\n",
       "      <td>U72585</td>\n",
       "      <td>N32570</td>\n",
       "    </tr>\n",
       "    <tr>\n",
       "      <th>322771</th>\n",
       "      <td>U72585</td>\n",
       "      <td>N685</td>\n",
       "    </tr>\n",
       "    <tr>\n",
       "      <th>322772</th>\n",
       "      <td>U72585</td>\n",
       "      <td>N174</td>\n",
       "    </tr>\n",
       "    <tr>\n",
       "      <th>322773</th>\n",
       "      <td>U72585</td>\n",
       "      <td>N14742</td>\n",
       "    </tr>\n",
       "    <tr>\n",
       "      <th>322774</th>\n",
       "      <td>U72585</td>\n",
       "      <td>N51983</td>\n",
       "    </tr>\n",
       "    <tr>\n",
       "      <th>322775</th>\n",
       "      <td>U72585</td>\n",
       "      <td>N21189</td>\n",
       "    </tr>\n",
       "    <tr>\n",
       "      <th>322776</th>\n",
       "      <td>U72585</td>\n",
       "      <td>N46811</td>\n",
       "    </tr>\n",
       "    <tr>\n",
       "      <th>322777</th>\n",
       "      <td>U72585</td>\n",
       "      <td>N7364</td>\n",
       "    </tr>\n",
       "  </tbody>\n",
       "</table>\n",
       "<p>322778 rows × 2 columns</p>\n",
       "</div>"
      ],
      "text/plain": [
       "       user_id article\n",
       "0       U13740  N55189\n",
       "1       U13740  N42782\n",
       "2       U13740  N34694\n",
       "3       U13740  N45794\n",
       "4       U13740  N18445\n",
       "5       U13740  N63302\n",
       "6       U13740  N10414\n",
       "7       U13740  N19347\n",
       "8       U13740  N31801\n",
       "9       U91836  N31739\n",
       "10      U91836   N6072\n",
       "11      U91836  N63045\n",
       "12      U91836  N23979\n",
       "13      U91836  N35656\n",
       "14      U91836  N43353\n",
       "15      U91836   N8129\n",
       "16      U91836   N1569\n",
       "17      U91836  N17686\n",
       "18      U91836  N13008\n",
       "19      U91836  N21623\n",
       "20      U91836   N6233\n",
       "21      U91836  N14340\n",
       "22      U91836  N48031\n",
       "23      U91836  N62285\n",
       "24      U91836  N44383\n",
       "25      U91836  N23061\n",
       "26      U91836  N16290\n",
       "27      U91836   N6244\n",
       "28      U91836  N45099\n",
       "29      U91836  N58715\n",
       "...        ...     ...\n",
       "322748  U72585  N13244\n",
       "322749  U72585  N56638\n",
       "322750  U72585  N45954\n",
       "322751  U72585  N55743\n",
       "322752  U72585  N57318\n",
       "322753  U72585  N60184\n",
       "322754  U72585  N38299\n",
       "322755  U72585  N10414\n",
       "322756  U72585  N19347\n",
       "322757  U72585  N54225\n",
       "322758  U72585  N34069\n",
       "322759  U72585    N306\n",
       "322760  U72585   N2309\n",
       "322761  U72585   N4526\n",
       "322762  U72585  N33096\n",
       "322763  U72585  N43142\n",
       "322764  U72585  N60491\n",
       "322765  U72585  N38961\n",
       "322766  U72585  N42137\n",
       "322767  U72585  N11231\n",
       "322768  U72585  N14761\n",
       "322769  U72585  N53275\n",
       "322770  U72585  N32570\n",
       "322771  U72585    N685\n",
       "322772  U72585    N174\n",
       "322773  U72585  N14742\n",
       "322774  U72585  N51983\n",
       "322775  U72585  N21189\n",
       "322776  U72585  N46811\n",
       "322777  U72585   N7364\n",
       "\n",
       "[322778 rows x 2 columns]"
      ]
     },
     "execution_count": 19,
     "metadata": {},
     "output_type": "execute_result"
    }
   ],
   "source": [
    "behaviors_part_1_set"
   ]
  },
  {
   "cell_type": "code",
   "execution_count": null,
   "metadata": {},
   "outputs": [],
   "source": []
  },
  {
   "cell_type": "code",
   "execution_count": null,
   "metadata": {},
   "outputs": [],
   "source": []
  },
  {
   "cell_type": "code",
   "execution_count": 20,
   "metadata": {},
   "outputs": [],
   "source": [
    "behaviors_part_1_set['zus'] = 1"
   ]
  },
  {
   "cell_type": "code",
   "execution_count": null,
   "metadata": {},
   "outputs": [],
   "source": []
  },
  {
   "cell_type": "code",
   "execution_count": 21,
   "metadata": {},
   "outputs": [],
   "source": [
    "behaviors_part_1_pivot = behaviors_part_1_set.pivot_table(index='user_id', columns='article', values='zus').fillna(0)"
   ]
  },
  {
   "cell_type": "code",
   "execution_count": 22,
   "metadata": {},
   "outputs": [
    {
     "data": {
      "text/plain": [
       "((8502, 20688), 8502)"
      ]
     },
     "execution_count": 22,
     "metadata": {},
     "output_type": "execute_result"
    }
   ],
   "source": [
    "behaviors_part_1_pivot.shape, len(behav_part_1.user_id.unique())"
   ]
  },
  {
   "cell_type": "code",
   "execution_count": 23,
   "metadata": {},
   "outputs": [
    {
     "data": {
      "text/html": [
       "<div>\n",
       "<style scoped>\n",
       "    .dataframe tbody tr th:only-of-type {\n",
       "        vertical-align: middle;\n",
       "    }\n",
       "\n",
       "    .dataframe tbody tr th {\n",
       "        vertical-align: top;\n",
       "    }\n",
       "\n",
       "    .dataframe thead th {\n",
       "        text-align: right;\n",
       "    }\n",
       "</style>\n",
       "<table border=\"1\" class=\"dataframe\">\n",
       "  <thead>\n",
       "    <tr style=\"text-align: right;\">\n",
       "      <th>article</th>\n",
       "      <th>N100</th>\n",
       "      <th>N1000</th>\n",
       "      <th>N10001</th>\n",
       "      <th>N10003</th>\n",
       "      <th>N10009</th>\n",
       "      <th>N1001</th>\n",
       "      <th>N10014</th>\n",
       "      <th>N10016</th>\n",
       "      <th>N10021</th>\n",
       "      <th>N10024</th>\n",
       "      <th>...</th>\n",
       "      <th>N9967</th>\n",
       "      <th>N9969</th>\n",
       "      <th>N997</th>\n",
       "      <th>N9973</th>\n",
       "      <th>N9974</th>\n",
       "      <th>N9977</th>\n",
       "      <th>N9978</th>\n",
       "      <th>N9984</th>\n",
       "      <th>N9992</th>\n",
       "      <th>N9993</th>\n",
       "    </tr>\n",
       "    <tr>\n",
       "      <th>user_id</th>\n",
       "      <th></th>\n",
       "      <th></th>\n",
       "      <th></th>\n",
       "      <th></th>\n",
       "      <th></th>\n",
       "      <th></th>\n",
       "      <th></th>\n",
       "      <th></th>\n",
       "      <th></th>\n",
       "      <th></th>\n",
       "      <th></th>\n",
       "      <th></th>\n",
       "      <th></th>\n",
       "      <th></th>\n",
       "      <th></th>\n",
       "      <th></th>\n",
       "      <th></th>\n",
       "      <th></th>\n",
       "      <th></th>\n",
       "      <th></th>\n",
       "      <th></th>\n",
       "    </tr>\n",
       "  </thead>\n",
       "  <tbody>\n",
       "    <tr>\n",
       "      <th>U10022</th>\n",
       "      <td>0.0</td>\n",
       "      <td>0.0</td>\n",
       "      <td>0.0</td>\n",
       "      <td>0.0</td>\n",
       "      <td>0.0</td>\n",
       "      <td>0.0</td>\n",
       "      <td>0.0</td>\n",
       "      <td>0.0</td>\n",
       "      <td>0.0</td>\n",
       "      <td>0.0</td>\n",
       "      <td>...</td>\n",
       "      <td>0.0</td>\n",
       "      <td>0.0</td>\n",
       "      <td>0.0</td>\n",
       "      <td>0.0</td>\n",
       "      <td>0.0</td>\n",
       "      <td>0.0</td>\n",
       "      <td>0.0</td>\n",
       "      <td>0.0</td>\n",
       "      <td>0.0</td>\n",
       "      <td>0.0</td>\n",
       "    </tr>\n",
       "    <tr>\n",
       "      <th>U10043</th>\n",
       "      <td>0.0</td>\n",
       "      <td>0.0</td>\n",
       "      <td>0.0</td>\n",
       "      <td>0.0</td>\n",
       "      <td>0.0</td>\n",
       "      <td>0.0</td>\n",
       "      <td>0.0</td>\n",
       "      <td>0.0</td>\n",
       "      <td>0.0</td>\n",
       "      <td>0.0</td>\n",
       "      <td>...</td>\n",
       "      <td>0.0</td>\n",
       "      <td>0.0</td>\n",
       "      <td>0.0</td>\n",
       "      <td>0.0</td>\n",
       "      <td>0.0</td>\n",
       "      <td>0.0</td>\n",
       "      <td>0.0</td>\n",
       "      <td>0.0</td>\n",
       "      <td>0.0</td>\n",
       "      <td>0.0</td>\n",
       "    </tr>\n",
       "    <tr>\n",
       "      <th>U10045</th>\n",
       "      <td>0.0</td>\n",
       "      <td>0.0</td>\n",
       "      <td>0.0</td>\n",
       "      <td>0.0</td>\n",
       "      <td>0.0</td>\n",
       "      <td>0.0</td>\n",
       "      <td>0.0</td>\n",
       "      <td>0.0</td>\n",
       "      <td>0.0</td>\n",
       "      <td>0.0</td>\n",
       "      <td>...</td>\n",
       "      <td>0.0</td>\n",
       "      <td>0.0</td>\n",
       "      <td>0.0</td>\n",
       "      <td>0.0</td>\n",
       "      <td>0.0</td>\n",
       "      <td>0.0</td>\n",
       "      <td>0.0</td>\n",
       "      <td>0.0</td>\n",
       "      <td>0.0</td>\n",
       "      <td>0.0</td>\n",
       "    </tr>\n",
       "    <tr>\n",
       "      <th>U10059</th>\n",
       "      <td>0.0</td>\n",
       "      <td>0.0</td>\n",
       "      <td>0.0</td>\n",
       "      <td>0.0</td>\n",
       "      <td>0.0</td>\n",
       "      <td>0.0</td>\n",
       "      <td>0.0</td>\n",
       "      <td>0.0</td>\n",
       "      <td>0.0</td>\n",
       "      <td>0.0</td>\n",
       "      <td>...</td>\n",
       "      <td>0.0</td>\n",
       "      <td>0.0</td>\n",
       "      <td>0.0</td>\n",
       "      <td>0.0</td>\n",
       "      <td>0.0</td>\n",
       "      <td>0.0</td>\n",
       "      <td>0.0</td>\n",
       "      <td>0.0</td>\n",
       "      <td>0.0</td>\n",
       "      <td>0.0</td>\n",
       "    </tr>\n",
       "    <tr>\n",
       "      <th>U10062</th>\n",
       "      <td>0.0</td>\n",
       "      <td>0.0</td>\n",
       "      <td>0.0</td>\n",
       "      <td>0.0</td>\n",
       "      <td>0.0</td>\n",
       "      <td>0.0</td>\n",
       "      <td>0.0</td>\n",
       "      <td>0.0</td>\n",
       "      <td>0.0</td>\n",
       "      <td>0.0</td>\n",
       "      <td>...</td>\n",
       "      <td>0.0</td>\n",
       "      <td>0.0</td>\n",
       "      <td>0.0</td>\n",
       "      <td>0.0</td>\n",
       "      <td>0.0</td>\n",
       "      <td>0.0</td>\n",
       "      <td>0.0</td>\n",
       "      <td>0.0</td>\n",
       "      <td>0.0</td>\n",
       "      <td>0.0</td>\n",
       "    </tr>\n",
       "  </tbody>\n",
       "</table>\n",
       "<p>5 rows × 20688 columns</p>\n",
       "</div>"
      ],
      "text/plain": [
       "article  N100  N1000  N10001  N10003  N10009  N1001  N10014  N10016  N10021  \\\n",
       "user_id                                                                       \n",
       "U10022    0.0    0.0     0.0     0.0     0.0    0.0     0.0     0.0     0.0   \n",
       "U10043    0.0    0.0     0.0     0.0     0.0    0.0     0.0     0.0     0.0   \n",
       "U10045    0.0    0.0     0.0     0.0     0.0    0.0     0.0     0.0     0.0   \n",
       "U10059    0.0    0.0     0.0     0.0     0.0    0.0     0.0     0.0     0.0   \n",
       "U10062    0.0    0.0     0.0     0.0     0.0    0.0     0.0     0.0     0.0   \n",
       "\n",
       "article  N10024  ...  N9967  N9969  N997  N9973  N9974  N9977  N9978  N9984  \\\n",
       "user_id          ...                                                          \n",
       "U10022      0.0  ...    0.0    0.0   0.0    0.0    0.0    0.0    0.0    0.0   \n",
       "U10043      0.0  ...    0.0    0.0   0.0    0.0    0.0    0.0    0.0    0.0   \n",
       "U10045      0.0  ...    0.0    0.0   0.0    0.0    0.0    0.0    0.0    0.0   \n",
       "U10059      0.0  ...    0.0    0.0   0.0    0.0    0.0    0.0    0.0    0.0   \n",
       "U10062      0.0  ...    0.0    0.0   0.0    0.0    0.0    0.0    0.0    0.0   \n",
       "\n",
       "article  N9992  N9993  \n",
       "user_id                \n",
       "U10022     0.0    0.0  \n",
       "U10043     0.0    0.0  \n",
       "U10045     0.0    0.0  \n",
       "U10059     0.0    0.0  \n",
       "U10062     0.0    0.0  \n",
       "\n",
       "[5 rows x 20688 columns]"
      ]
     },
     "execution_count": 23,
     "metadata": {},
     "output_type": "execute_result"
    }
   ],
   "source": [
    "behaviors_part_1_pivot.head()"
   ]
  },
  {
   "cell_type": "code",
   "execution_count": null,
   "metadata": {},
   "outputs": [],
   "source": []
  },
  {
   "cell_type": "code",
   "execution_count": null,
   "metadata": {},
   "outputs": [],
   "source": []
  },
  {
   "cell_type": "code",
   "execution_count": 24,
   "metadata": {},
   "outputs": [],
   "source": [
    "import scipy as sp\n",
    "from scipy.sparse.linalg import svds"
   ]
  },
  {
   "cell_type": "code",
   "execution_count": 25,
   "metadata": {},
   "outputs": [],
   "source": [
    "b1 = behaviors_part_1_pivot.to_numpy(copy=True)\n",
    "b1_mean = np.mean(b1, axis=1)\n",
    "b1 -= b1_mean.reshape(-1,1)"
   ]
  },
  {
   "cell_type": "code",
   "execution_count": 26,
   "metadata": {},
   "outputs": [],
   "source": [
    "U, sigma, Vt = svds(b1, k=20)"
   ]
  },
  {
   "cell_type": "code",
   "execution_count": 27,
   "metadata": {},
   "outputs": [],
   "source": [
    "sigma = np.diag(sigma)\n"
   ]
  },
  {
   "cell_type": "code",
   "execution_count": 28,
   "metadata": {},
   "outputs": [
    {
     "data": {
      "text/plain": [
       "(20, 20)"
      ]
     },
     "execution_count": 28,
     "metadata": {},
     "output_type": "execute_result"
    }
   ],
   "source": [
    "sigma.shape"
   ]
  },
  {
   "cell_type": "code",
   "execution_count": 29,
   "metadata": {},
   "outputs": [],
   "source": [
    "recommendations_df = pd.DataFrame(np.dot(np.dot(U, sigma), Vt) + b1_mean.reshape(-1, 1))\n",
    "recommendations_df.columns = behaviors_part_1_pivot.columns\n",
    "recommendations_df['user_ids'] = behaviors_part_1_pivot.index\n",
    "recommendations_df = recommendations_df.set_index('user_ids')"
   ]
  },
  {
   "cell_type": "code",
   "execution_count": 30,
   "metadata": {},
   "outputs": [
    {
     "data": {
      "text/html": [
       "<div>\n",
       "<style scoped>\n",
       "    .dataframe tbody tr th:only-of-type {\n",
       "        vertical-align: middle;\n",
       "    }\n",
       "\n",
       "    .dataframe tbody tr th {\n",
       "        vertical-align: top;\n",
       "    }\n",
       "\n",
       "    .dataframe thead th {\n",
       "        text-align: right;\n",
       "    }\n",
       "</style>\n",
       "<table border=\"1\" class=\"dataframe\">\n",
       "  <thead>\n",
       "    <tr style=\"text-align: right;\">\n",
       "      <th>article</th>\n",
       "      <th>N100</th>\n",
       "      <th>N1000</th>\n",
       "      <th>N10001</th>\n",
       "      <th>N10003</th>\n",
       "      <th>N10009</th>\n",
       "      <th>N1001</th>\n",
       "      <th>N10014</th>\n",
       "      <th>N10016</th>\n",
       "      <th>N10021</th>\n",
       "      <th>N10024</th>\n",
       "      <th>...</th>\n",
       "      <th>N9967</th>\n",
       "      <th>N9969</th>\n",
       "      <th>N997</th>\n",
       "      <th>N9973</th>\n",
       "      <th>N9974</th>\n",
       "      <th>N9977</th>\n",
       "      <th>N9978</th>\n",
       "      <th>N9984</th>\n",
       "      <th>N9992</th>\n",
       "      <th>N9993</th>\n",
       "    </tr>\n",
       "    <tr>\n",
       "      <th>user_ids</th>\n",
       "      <th></th>\n",
       "      <th></th>\n",
       "      <th></th>\n",
       "      <th></th>\n",
       "      <th></th>\n",
       "      <th></th>\n",
       "      <th></th>\n",
       "      <th></th>\n",
       "      <th></th>\n",
       "      <th></th>\n",
       "      <th></th>\n",
       "      <th></th>\n",
       "      <th></th>\n",
       "      <th></th>\n",
       "      <th></th>\n",
       "      <th></th>\n",
       "      <th></th>\n",
       "      <th></th>\n",
       "      <th></th>\n",
       "      <th></th>\n",
       "      <th></th>\n",
       "    </tr>\n",
       "  </thead>\n",
       "  <tbody>\n",
       "    <tr>\n",
       "      <th>U10022</th>\n",
       "      <td>-0.000280</td>\n",
       "      <td>-0.000243</td>\n",
       "      <td>0.004196</td>\n",
       "      <td>0.000124</td>\n",
       "      <td>-0.000161</td>\n",
       "      <td>-0.000625</td>\n",
       "      <td>0.001704</td>\n",
       "      <td>0.007723</td>\n",
       "      <td>-0.000838</td>\n",
       "      <td>-0.002165</td>\n",
       "      <td>...</td>\n",
       "      <td>0.001413</td>\n",
       "      <td>-0.002237</td>\n",
       "      <td>-0.001649</td>\n",
       "      <td>0.003230</td>\n",
       "      <td>-0.002287</td>\n",
       "      <td>0.004048</td>\n",
       "      <td>0.003238</td>\n",
       "      <td>0.001986</td>\n",
       "      <td>-0.000648</td>\n",
       "      <td>0.000227</td>\n",
       "    </tr>\n",
       "    <tr>\n",
       "      <th>U10043</th>\n",
       "      <td>0.000978</td>\n",
       "      <td>0.001051</td>\n",
       "      <td>0.000647</td>\n",
       "      <td>0.001053</td>\n",
       "      <td>0.001231</td>\n",
       "      <td>0.001009</td>\n",
       "      <td>0.001018</td>\n",
       "      <td>0.000300</td>\n",
       "      <td>0.001030</td>\n",
       "      <td>0.001044</td>\n",
       "      <td>...</td>\n",
       "      <td>0.001074</td>\n",
       "      <td>0.000777</td>\n",
       "      <td>0.001134</td>\n",
       "      <td>0.000905</td>\n",
       "      <td>0.001014</td>\n",
       "      <td>0.001096</td>\n",
       "      <td>0.001055</td>\n",
       "      <td>0.001161</td>\n",
       "      <td>0.000896</td>\n",
       "      <td>0.001211</td>\n",
       "    </tr>\n",
       "    <tr>\n",
       "      <th>U10045</th>\n",
       "      <td>0.001679</td>\n",
       "      <td>0.001302</td>\n",
       "      <td>0.004273</td>\n",
       "      <td>0.001828</td>\n",
       "      <td>0.001645</td>\n",
       "      <td>0.001876</td>\n",
       "      <td>0.003305</td>\n",
       "      <td>-0.001754</td>\n",
       "      <td>0.001566</td>\n",
       "      <td>0.000592</td>\n",
       "      <td>...</td>\n",
       "      <td>0.003646</td>\n",
       "      <td>-0.001291</td>\n",
       "      <td>-0.000977</td>\n",
       "      <td>0.001018</td>\n",
       "      <td>0.000648</td>\n",
       "      <td>0.002572</td>\n",
       "      <td>0.000337</td>\n",
       "      <td>0.001198</td>\n",
       "      <td>0.001577</td>\n",
       "      <td>0.002121</td>\n",
       "    </tr>\n",
       "    <tr>\n",
       "      <th>U10059</th>\n",
       "      <td>0.000582</td>\n",
       "      <td>-0.000819</td>\n",
       "      <td>0.001246</td>\n",
       "      <td>-0.000453</td>\n",
       "      <td>-0.001358</td>\n",
       "      <td>-0.000569</td>\n",
       "      <td>-0.000668</td>\n",
       "      <td>0.002088</td>\n",
       "      <td>-0.001098</td>\n",
       "      <td>-0.000746</td>\n",
       "      <td>...</td>\n",
       "      <td>-0.000597</td>\n",
       "      <td>0.000823</td>\n",
       "      <td>-0.001739</td>\n",
       "      <td>0.001315</td>\n",
       "      <td>-0.000515</td>\n",
       "      <td>0.000465</td>\n",
       "      <td>0.000518</td>\n",
       "      <td>0.001193</td>\n",
       "      <td>0.001138</td>\n",
       "      <td>0.000827</td>\n",
       "    </tr>\n",
       "    <tr>\n",
       "      <th>U10062</th>\n",
       "      <td>-0.000813</td>\n",
       "      <td>-0.000512</td>\n",
       "      <td>0.001235</td>\n",
       "      <td>-0.002485</td>\n",
       "      <td>-0.002926</td>\n",
       "      <td>-0.003568</td>\n",
       "      <td>0.004105</td>\n",
       "      <td>-0.004009</td>\n",
       "      <td>-0.002954</td>\n",
       "      <td>0.001731</td>\n",
       "      <td>...</td>\n",
       "      <td>-0.001081</td>\n",
       "      <td>0.000073</td>\n",
       "      <td>-0.006820</td>\n",
       "      <td>-0.003728</td>\n",
       "      <td>-0.006758</td>\n",
       "      <td>-0.005362</td>\n",
       "      <td>-0.003010</td>\n",
       "      <td>0.004399</td>\n",
       "      <td>-0.002810</td>\n",
       "      <td>-0.000508</td>\n",
       "    </tr>\n",
       "  </tbody>\n",
       "</table>\n",
       "<p>5 rows × 20688 columns</p>\n",
       "</div>"
      ],
      "text/plain": [
       "article       N100     N1000    N10001    N10003    N10009     N1001  \\\n",
       "user_ids                                                               \n",
       "U10022   -0.000280 -0.000243  0.004196  0.000124 -0.000161 -0.000625   \n",
       "U10043    0.000978  0.001051  0.000647  0.001053  0.001231  0.001009   \n",
       "U10045    0.001679  0.001302  0.004273  0.001828  0.001645  0.001876   \n",
       "U10059    0.000582 -0.000819  0.001246 -0.000453 -0.001358 -0.000569   \n",
       "U10062   -0.000813 -0.000512  0.001235 -0.002485 -0.002926 -0.003568   \n",
       "\n",
       "article     N10014    N10016    N10021    N10024  ...     N9967     N9969  \\\n",
       "user_ids                                          ...                       \n",
       "U10022    0.001704  0.007723 -0.000838 -0.002165  ...  0.001413 -0.002237   \n",
       "U10043    0.001018  0.000300  0.001030  0.001044  ...  0.001074  0.000777   \n",
       "U10045    0.003305 -0.001754  0.001566  0.000592  ...  0.003646 -0.001291   \n",
       "U10059   -0.000668  0.002088 -0.001098 -0.000746  ... -0.000597  0.000823   \n",
       "U10062    0.004105 -0.004009 -0.002954  0.001731  ... -0.001081  0.000073   \n",
       "\n",
       "article       N997     N9973     N9974     N9977     N9978     N9984  \\\n",
       "user_ids                                                               \n",
       "U10022   -0.001649  0.003230 -0.002287  0.004048  0.003238  0.001986   \n",
       "U10043    0.001134  0.000905  0.001014  0.001096  0.001055  0.001161   \n",
       "U10045   -0.000977  0.001018  0.000648  0.002572  0.000337  0.001198   \n",
       "U10059   -0.001739  0.001315 -0.000515  0.000465  0.000518  0.001193   \n",
       "U10062   -0.006820 -0.003728 -0.006758 -0.005362 -0.003010  0.004399   \n",
       "\n",
       "article      N9992     N9993  \n",
       "user_ids                      \n",
       "U10022   -0.000648  0.000227  \n",
       "U10043    0.000896  0.001211  \n",
       "U10045    0.001577  0.002121  \n",
       "U10059    0.001138  0.000827  \n",
       "U10062   -0.002810 -0.000508  \n",
       "\n",
       "[5 rows x 20688 columns]"
      ]
     },
     "execution_count": 30,
     "metadata": {},
     "output_type": "execute_result"
    }
   ],
   "source": [
    "recommendations_df.head()"
   ]
  },
  {
   "cell_type": "code",
   "execution_count": 31,
   "metadata": {},
   "outputs": [],
   "source": [
    "comparison = list(zip(recommendations_df.loc['U10022'], behaviors_part_1_pivot.loc['U10022']))"
   ]
  },
  {
   "cell_type": "code",
   "execution_count": 32,
   "metadata": {},
   "outputs": [],
   "source": [
    "zeros = []\n",
    "ones = []\n",
    "for x in comparison:\n",
    "    if x[1] == 0:\n",
    "        zeros.append(x[0])\n",
    "    if x[1] == 1:\n",
    "        ones.append(x[0])\n",
    "        "
   ]
  },
  {
   "cell_type": "code",
   "execution_count": 33,
   "metadata": {},
   "outputs": [
    {
     "data": {
      "text/plain": [
       "(20651, 0.0014974926627323597, 37, 0.1641967303220017)"
      ]
     },
     "execution_count": 33,
     "metadata": {},
     "output_type": "execute_result"
    }
   ],
   "source": [
    "len(zeros), np.mean(zeros), len(ones),np.mean(ones)"
   ]
  },
  {
   "cell_type": "code",
   "execution_count": 34,
   "metadata": {},
   "outputs": [
    {
     "data": {
      "text/plain": [
       "(0.005595187962075218, 0.2645727751826295)"
      ]
     },
     "execution_count": 34,
     "metadata": {},
     "output_type": "execute_result"
    }
   ],
   "source": [
    "min(ones), max(zeros)"
   ]
  },
  {
   "cell_type": "code",
   "execution_count": null,
   "metadata": {},
   "outputs": [],
   "source": []
  },
  {
   "cell_type": "code",
   "execution_count": 35,
   "metadata": {},
   "outputs": [
    {
     "data": {
      "text/html": [
       "<div>\n",
       "<style scoped>\n",
       "    .dataframe tbody tr th:only-of-type {\n",
       "        vertical-align: middle;\n",
       "    }\n",
       "\n",
       "    .dataframe tbody tr th {\n",
       "        vertical-align: top;\n",
       "    }\n",
       "\n",
       "    .dataframe thead th {\n",
       "        text-align: right;\n",
       "    }\n",
       "</style>\n",
       "<table border=\"1\" class=\"dataframe\">\n",
       "  <thead>\n",
       "    <tr style=\"text-align: right;\">\n",
       "      <th></th>\n",
       "      <th>0</th>\n",
       "      <th>1</th>\n",
       "      <th>2</th>\n",
       "      <th>3</th>\n",
       "      <th>4</th>\n",
       "      <th>5</th>\n",
       "      <th>6</th>\n",
       "      <th>7</th>\n",
       "    </tr>\n",
       "  </thead>\n",
       "  <tbody>\n",
       "    <tr>\n",
       "      <th>0</th>\n",
       "      <td>N55528</td>\n",
       "      <td>lifestyle</td>\n",
       "      <td>lifestyleroyals</td>\n",
       "      <td>The Brands Queen Elizabeth, Prince Charles, an...</td>\n",
       "      <td>Shop the notebooks, jackets, and more that the...</td>\n",
       "      <td>https://assets.msn.com/labs/mind/AAGH0ET.html</td>\n",
       "      <td>[{\"Label\": \"Prince Philip, Duke of Edinburgh\",...</td>\n",
       "      <td>[]</td>\n",
       "    </tr>\n",
       "    <tr>\n",
       "      <th>1</th>\n",
       "      <td>N19639</td>\n",
       "      <td>health</td>\n",
       "      <td>weightloss</td>\n",
       "      <td>50 Worst Habits For Belly Fat</td>\n",
       "      <td>These seemingly harmless habits are holding yo...</td>\n",
       "      <td>https://assets.msn.com/labs/mind/AAB19MK.html</td>\n",
       "      <td>[{\"Label\": \"Adipose tissue\", \"Type\": \"C\", \"Wik...</td>\n",
       "      <td>[{\"Label\": \"Adipose tissue\", \"Type\": \"C\", \"Wik...</td>\n",
       "    </tr>\n",
       "    <tr>\n",
       "      <th>2</th>\n",
       "      <td>N61837</td>\n",
       "      <td>news</td>\n",
       "      <td>newsworld</td>\n",
       "      <td>The Cost of Trump's Aid Freeze in the Trenches...</td>\n",
       "      <td>Lt. Ivan Molchanets peeked over a parapet of s...</td>\n",
       "      <td>https://assets.msn.com/labs/mind/AAJgNsz.html</td>\n",
       "      <td>[]</td>\n",
       "      <td>[{\"Label\": \"Ukraine\", \"Type\": \"G\", \"WikidataId...</td>\n",
       "    </tr>\n",
       "    <tr>\n",
       "      <th>3</th>\n",
       "      <td>N53526</td>\n",
       "      <td>health</td>\n",
       "      <td>voices</td>\n",
       "      <td>I Was An NBA Wife. Here's How It Affected My M...</td>\n",
       "      <td>I felt like I was a fraud, and being an NBA wi...</td>\n",
       "      <td>https://assets.msn.com/labs/mind/AACk2N6.html</td>\n",
       "      <td>[]</td>\n",
       "      <td>[{\"Label\": \"National Basketball Association\", ...</td>\n",
       "    </tr>\n",
       "    <tr>\n",
       "      <th>4</th>\n",
       "      <td>N38324</td>\n",
       "      <td>health</td>\n",
       "      <td>medical</td>\n",
       "      <td>How to Get Rid of Skin Tags, According to a De...</td>\n",
       "      <td>They seem harmless, but there's a very good re...</td>\n",
       "      <td>https://assets.msn.com/labs/mind/AAAKEkt.html</td>\n",
       "      <td>[{\"Label\": \"Skin tag\", \"Type\": \"C\", \"WikidataI...</td>\n",
       "      <td>[{\"Label\": \"Skin tag\", \"Type\": \"C\", \"WikidataI...</td>\n",
       "    </tr>\n",
       "  </tbody>\n",
       "</table>\n",
       "</div>"
      ],
      "text/plain": [
       "        0          1                2  \\\n",
       "0  N55528  lifestyle  lifestyleroyals   \n",
       "1  N19639     health       weightloss   \n",
       "2  N61837       news        newsworld   \n",
       "3  N53526     health           voices   \n",
       "4  N38324     health          medical   \n",
       "\n",
       "                                                   3  \\\n",
       "0  The Brands Queen Elizabeth, Prince Charles, an...   \n",
       "1                      50 Worst Habits For Belly Fat   \n",
       "2  The Cost of Trump's Aid Freeze in the Trenches...   \n",
       "3  I Was An NBA Wife. Here's How It Affected My M...   \n",
       "4  How to Get Rid of Skin Tags, According to a De...   \n",
       "\n",
       "                                                   4  \\\n",
       "0  Shop the notebooks, jackets, and more that the...   \n",
       "1  These seemingly harmless habits are holding yo...   \n",
       "2  Lt. Ivan Molchanets peeked over a parapet of s...   \n",
       "3  I felt like I was a fraud, and being an NBA wi...   \n",
       "4  They seem harmless, but there's a very good re...   \n",
       "\n",
       "                                               5  \\\n",
       "0  https://assets.msn.com/labs/mind/AAGH0ET.html   \n",
       "1  https://assets.msn.com/labs/mind/AAB19MK.html   \n",
       "2  https://assets.msn.com/labs/mind/AAJgNsz.html   \n",
       "3  https://assets.msn.com/labs/mind/AACk2N6.html   \n",
       "4  https://assets.msn.com/labs/mind/AAAKEkt.html   \n",
       "\n",
       "                                                   6  \\\n",
       "0  [{\"Label\": \"Prince Philip, Duke of Edinburgh\",...   \n",
       "1  [{\"Label\": \"Adipose tissue\", \"Type\": \"C\", \"Wik...   \n",
       "2                                                 []   \n",
       "3                                                 []   \n",
       "4  [{\"Label\": \"Skin tag\", \"Type\": \"C\", \"WikidataI...   \n",
       "\n",
       "                                                   7  \n",
       "0                                                 []  \n",
       "1  [{\"Label\": \"Adipose tissue\", \"Type\": \"C\", \"Wik...  \n",
       "2  [{\"Label\": \"Ukraine\", \"Type\": \"G\", \"WikidataId...  \n",
       "3  [{\"Label\": \"National Basketball Association\", ...  \n",
       "4  [{\"Label\": \"Skin tag\", \"Type\": \"C\", \"WikidataI...  "
      ]
     },
     "execution_count": 35,
     "metadata": {},
     "output_type": "execute_result"
    }
   ],
   "source": [
    "news.head()"
   ]
  },
  {
   "cell_type": "code",
   "execution_count": 35,
   "metadata": {},
   "outputs": [],
   "source": [
    "titles_dict = pd.Series(news[3].values,index=news[0]).to_dict()"
   ]
  },
  {
   "cell_type": "code",
   "execution_count": null,
   "metadata": {},
   "outputs": [],
   "source": []
  },
  {
   "cell_type": "code",
   "execution_count": 36,
   "metadata": {},
   "outputs": [],
   "source": [
    "def give_recommendations(user, n = 5):\n",
    "    g=[]\n",
    "    cols = recommendations_df.columns.to_list()\n",
    "    \n",
    "    for value in recommendations_df.loc[user]:\n",
    "        g.append(value)\n",
    "\n",
    "    inter = list(zip(cols,g))\n",
    "    \n",
    "    recos = []\n",
    "    for x, y in inter:\n",
    "        if behaviors_part_1_pivot.loc[user][x] == 0:\n",
    "            recos.append(tuple((x,titles_dict[x],y)))\n",
    "            \n",
    "    \n",
    "    recos = sorted(recos, key=lambda tup: tup[1])    \n",
    "    recos = recos[-n:]\n",
    "    \n",
    "    \n",
    "    return recos\n",
    "       \n",
    "       \n",
    "    "
   ]
  },
  {
   "cell_type": "code",
   "execution_count": 37,
   "metadata": {},
   "outputs": [
    {
     "data": {
      "text/plain": [
       "[('N28296',\n",
       "  '\\u200b20 Funny Things People in the 1970s Were Totally Guilty of Doing',\n",
       "  0.007997864721030094),\n",
       " ('N10575',\n",
       "  '\\u200b20 Funny Things People in the 1980s Were Totally Guilty of Doing',\n",
       "  0.005278211766946482),\n",
       " ('N53209',\n",
       "  '\\u200bAre the Astros stealing signs to gain an edge in ALCS? Hopefully.',\n",
       "  -0.0035951987737860734),\n",
       " ('N33318', '\\u200bDevan Makail Bradish: Obituary', 0.00022632689518664812),\n",
       " ('N19829',\n",
       "  '\\ufeff\\ufeffPrincess Charlene of Monaco Has the Most Daring Style of All the Royals',\n",
       "  0.002462624527777522)]"
      ]
     },
     "execution_count": 37,
     "metadata": {},
     "output_type": "execute_result"
    }
   ],
   "source": [
    "give_recommendations('U91836')"
   ]
  },
  {
   "cell_type": "code",
   "execution_count": 38,
   "metadata": {},
   "outputs": [
    {
     "data": {
      "text/plain": [
       "[('N28296',\n",
       "  '\\u200b20 Funny Things People in the 1970s Were Totally Guilty of Doing',\n",
       "  9.050816445769117e-05),\n",
       " ('N10575',\n",
       "  '\\u200b20 Funny Things People in the 1980s Were Totally Guilty of Doing',\n",
       "  -0.0010660536117711192),\n",
       " ('N53209',\n",
       "  '\\u200bAre the Astros stealing signs to gain an edge in ALCS? Hopefully.',\n",
       "  0.00023019408168195826),\n",
       " ('N33318', '\\u200bDevan Makail Bradish: Obituary', -0.0005080142407107755),\n",
       " ('N19829',\n",
       "  '\\ufeff\\ufeffPrincess Charlene of Monaco Has the Most Daring Style of All the Royals',\n",
       "  -0.005494227347512183)]"
      ]
     },
     "execution_count": 38,
     "metadata": {},
     "output_type": "execute_result"
    }
   ],
   "source": [
    "give_recommendations('U10059')"
   ]
  },
  {
   "cell_type": "code",
   "execution_count": 112,
   "metadata": {},
   "outputs": [
    {
     "data": {
      "text/plain": [
       "(           0          1                    2  \\\n",
       " 4368  N28296  lifestyle  lifestyledidyouknow   \n",
       " \n",
       "                                                       3  \\\n",
       " 4368  ​20 Funny Things People in the 1970s Were Tota...   \n",
       " \n",
       "                                                       4  \\\n",
       " 4368  Here are 25 things that we all thought were pe...   \n",
       " \n",
       "                                                   5   6  \\\n",
       " 4368  https://assets.msn.com/labs/mind/AAHPd6b.html  []   \n",
       " \n",
       "                                                       7  \n",
       " 4368  [{\"Label\": \"1970s in music\", \"Type\": \"C\", \"Wik...  ,\n",
       "             0          1                2  \\\n",
       " 31387  N19829  lifestyle  lifestyleroyals   \n",
       " \n",
       "                                                        3  \\\n",
       " 31387  ﻿﻿Princess Charlene of Monaco Has the Most Dar...   \n",
       " \n",
       "                                           4  \\\n",
       " 31387  She loves to show off her shoulders.   \n",
       " \n",
       "                                                    5  \\\n",
       " 31387  https://assets.msn.com/labs/mind/BBMlsj8.html   \n",
       " \n",
       "                                                        6   7  \n",
       " 31387  [{\"Label\": \"Charlene, Princess of Monaco\", \"Ty...  []  )"
      ]
     },
     "execution_count": 112,
     "metadata": {},
     "output_type": "execute_result"
    }
   ],
   "source": [
    "news[news[0]=='N28296'] news[news[0]=='N19829']"
   ]
  },
  {
   "cell_type": "code",
   "execution_count": 114,
   "metadata": {},
   "outputs": [
    {
     "data": {
      "text/plain": [
       "31387    ﻿﻿Princess Charlene of Monaco Has the Most Dar...\n",
       "Name: 3, dtype: object"
      ]
     },
     "execution_count": 114,
     "metadata": {},
     "output_type": "execute_result"
    }
   ],
   "source": [
    "news[news[0]=='N19829'][3]"
   ]
  },
  {
   "cell_type": "code",
   "execution_count": 119,
   "metadata": {},
   "outputs": [
    {
     "data": {
      "text/plain": [
       "'Princess Charlene of Monaco Has the Most Daring Style of All the Royals'"
      ]
     },
     "execution_count": 119,
     "metadata": {},
     "output_type": "execute_result"
    }
   ],
   "source": [
    "titles_dict['N19829'].encode('ascii', 'ignore').decode()"
   ]
  },
  {
   "cell_type": "code",
   "execution_count": 125,
   "metadata": {},
   "outputs": [],
   "source": [
    "news[3] = news[3].str.encode('ascii', 'ignore').str.decode('ascii')"
   ]
  },
  {
   "cell_type": "code",
   "execution_count": 126,
   "metadata": {},
   "outputs": [
    {
     "data": {
      "text/html": [
       "<div>\n",
       "<style scoped>\n",
       "    .dataframe tbody tr th:only-of-type {\n",
       "        vertical-align: middle;\n",
       "    }\n",
       "\n",
       "    .dataframe tbody tr th {\n",
       "        vertical-align: top;\n",
       "    }\n",
       "\n",
       "    .dataframe thead th {\n",
       "        text-align: right;\n",
       "    }\n",
       "</style>\n",
       "<table border=\"1\" class=\"dataframe\">\n",
       "  <thead>\n",
       "    <tr style=\"text-align: right;\">\n",
       "      <th></th>\n",
       "      <th>0</th>\n",
       "      <th>1</th>\n",
       "      <th>2</th>\n",
       "      <th>3</th>\n",
       "      <th>4</th>\n",
       "      <th>5</th>\n",
       "      <th>6</th>\n",
       "      <th>7</th>\n",
       "    </tr>\n",
       "  </thead>\n",
       "  <tbody>\n",
       "    <tr>\n",
       "      <th>0</th>\n",
       "      <td>N55528</td>\n",
       "      <td>lifestyle</td>\n",
       "      <td>lifestyleroyals</td>\n",
       "      <td>The Brands Queen Elizabeth, Prince Charles, an...</td>\n",
       "      <td>Shop the notebooks, jackets, and more that the...</td>\n",
       "      <td>https://assets.msn.com/labs/mind/AAGH0ET.html</td>\n",
       "      <td>[{\"Label\": \"Prince Philip, Duke of Edinburgh\",...</td>\n",
       "      <td>[]</td>\n",
       "    </tr>\n",
       "    <tr>\n",
       "      <th>1</th>\n",
       "      <td>N19639</td>\n",
       "      <td>health</td>\n",
       "      <td>weightloss</td>\n",
       "      <td>50 Worst Habits For Belly Fat</td>\n",
       "      <td>These seemingly harmless habits are holding yo...</td>\n",
       "      <td>https://assets.msn.com/labs/mind/AAB19MK.html</td>\n",
       "      <td>[{\"Label\": \"Adipose tissue\", \"Type\": \"C\", \"Wik...</td>\n",
       "      <td>[{\"Label\": \"Adipose tissue\", \"Type\": \"C\", \"Wik...</td>\n",
       "    </tr>\n",
       "    <tr>\n",
       "      <th>2</th>\n",
       "      <td>N61837</td>\n",
       "      <td>news</td>\n",
       "      <td>newsworld</td>\n",
       "      <td>The Cost of Trump's Aid Freeze in the Trenches...</td>\n",
       "      <td>Lt. Ivan Molchanets peeked over a parapet of s...</td>\n",
       "      <td>https://assets.msn.com/labs/mind/AAJgNsz.html</td>\n",
       "      <td>[]</td>\n",
       "      <td>[{\"Label\": \"Ukraine\", \"Type\": \"G\", \"WikidataId...</td>\n",
       "    </tr>\n",
       "    <tr>\n",
       "      <th>3</th>\n",
       "      <td>N53526</td>\n",
       "      <td>health</td>\n",
       "      <td>voices</td>\n",
       "      <td>I Was An NBA Wife. Here's How It Affected My M...</td>\n",
       "      <td>I felt like I was a fraud, and being an NBA wi...</td>\n",
       "      <td>https://assets.msn.com/labs/mind/AACk2N6.html</td>\n",
       "      <td>[]</td>\n",
       "      <td>[{\"Label\": \"National Basketball Association\", ...</td>\n",
       "    </tr>\n",
       "    <tr>\n",
       "      <th>4</th>\n",
       "      <td>N38324</td>\n",
       "      <td>health</td>\n",
       "      <td>medical</td>\n",
       "      <td>How to Get Rid of Skin Tags, According to a De...</td>\n",
       "      <td>They seem harmless, but there's a very good re...</td>\n",
       "      <td>https://assets.msn.com/labs/mind/AAAKEkt.html</td>\n",
       "      <td>[{\"Label\": \"Skin tag\", \"Type\": \"C\", \"WikidataI...</td>\n",
       "      <td>[{\"Label\": \"Skin tag\", \"Type\": \"C\", \"WikidataI...</td>\n",
       "    </tr>\n",
       "  </tbody>\n",
       "</table>\n",
       "</div>"
      ],
      "text/plain": [
       "        0          1                2  \\\n",
       "0  N55528  lifestyle  lifestyleroyals   \n",
       "1  N19639     health       weightloss   \n",
       "2  N61837       news        newsworld   \n",
       "3  N53526     health           voices   \n",
       "4  N38324     health          medical   \n",
       "\n",
       "                                                   3  \\\n",
       "0  The Brands Queen Elizabeth, Prince Charles, an...   \n",
       "1                      50 Worst Habits For Belly Fat   \n",
       "2  The Cost of Trump's Aid Freeze in the Trenches...   \n",
       "3  I Was An NBA Wife. Here's How It Affected My M...   \n",
       "4  How to Get Rid of Skin Tags, According to a De...   \n",
       "\n",
       "                                                   4  \\\n",
       "0  Shop the notebooks, jackets, and more that the...   \n",
       "1  These seemingly harmless habits are holding yo...   \n",
       "2  Lt. Ivan Molchanets peeked over a parapet of s...   \n",
       "3  I felt like I was a fraud, and being an NBA wi...   \n",
       "4  They seem harmless, but there's a very good re...   \n",
       "\n",
       "                                               5  \\\n",
       "0  https://assets.msn.com/labs/mind/AAGH0ET.html   \n",
       "1  https://assets.msn.com/labs/mind/AAB19MK.html   \n",
       "2  https://assets.msn.com/labs/mind/AAJgNsz.html   \n",
       "3  https://assets.msn.com/labs/mind/AACk2N6.html   \n",
       "4  https://assets.msn.com/labs/mind/AAAKEkt.html   \n",
       "\n",
       "                                                   6  \\\n",
       "0  [{\"Label\": \"Prince Philip, Duke of Edinburgh\",...   \n",
       "1  [{\"Label\": \"Adipose tissue\", \"Type\": \"C\", \"Wik...   \n",
       "2                                                 []   \n",
       "3                                                 []   \n",
       "4  [{\"Label\": \"Skin tag\", \"Type\": \"C\", \"WikidataI...   \n",
       "\n",
       "                                                   7  \n",
       "0                                                 []  \n",
       "1  [{\"Label\": \"Adipose tissue\", \"Type\": \"C\", \"Wik...  \n",
       "2  [{\"Label\": \"Ukraine\", \"Type\": \"G\", \"WikidataId...  \n",
       "3  [{\"Label\": \"National Basketball Association\", ...  \n",
       "4  [{\"Label\": \"Skin tag\", \"Type\": \"C\", \"WikidataI...  "
      ]
     },
     "execution_count": 126,
     "metadata": {},
     "output_type": "execute_result"
    }
   ],
   "source": [
    "news.head()"
   ]
  },
  {
   "cell_type": "code",
   "execution_count": 133,
   "metadata": {},
   "outputs": [
    {
     "data": {
      "text/plain": [
       "[('N61307',\n",
       "  'Zooming in: A roundup of construction permits issued last week in Minneapolis',\n",
       "  -0.00012707838361855194),\n",
       " ('N32298',\n",
       "  'Zozo Championship to finish Monday because of torrential rain',\n",
       "  -0.0006325997097498927),\n",
       " ('N38486',\n",
       "  \"Zozo Championship's 140-yard par 4 10th hole had 16 eagles\",\n",
       "  -0.00026311696023084783),\n",
       " ('N31306', 'Zucchini and Feta Fritters', -0.000344880499342292),\n",
       " ('N46668',\n",
       "  'Zuckerberg San Francisco General asks for help identifying patient',\n",
       "  6.191563215537411e-05),\n",
       " ('N21585',\n",
       "  \"Zuckerberg defends Facebook's currency plans before Congress\",\n",
       "  0.0025899345940205067),\n",
       " ('N9070',\n",
       "  'eBay Find: 1964 Chevrolet Bel Air Garage Find',\n",
       "  0.011761044472512628),\n",
       " ('N32753',\n",
       "  'eBay Find: Actual \"I Am Legend\" 2007 Mustang Shelby GT500 Movie Car',\n",
       "  0.00019226813438700217),\n",
       " ('N16891',\n",
       "  \"iOS 13's Dark Mode proven to significantly boost battery life on OLED iPhones\",\n",
       "  -0.00015010788545072751),\n",
       " ('N56727', 'southern_california_erupts_in_fire', 0.0005481993107116796)]"
      ]
     },
     "execution_count": 133,
     "metadata": {},
     "output_type": "execute_result"
    }
   ],
   "source": [
    "give_recommendations('U91836', n=10)"
   ]
  },
  {
   "cell_type": "code",
   "execution_count": null,
   "metadata": {},
   "outputs": [],
   "source": []
  },
  {
   "cell_type": "code",
   "execution_count": null,
   "metadata": {},
   "outputs": [],
   "source": []
  },
  {
   "cell_type": "code",
   "execution_count": null,
   "metadata": {},
   "outputs": [],
   "source": []
  },
  {
   "cell_type": "code",
   "execution_count": null,
   "metadata": {},
   "outputs": [],
   "source": []
  },
  {
   "cell_type": "code",
   "execution_count": null,
   "metadata": {},
   "outputs": [],
   "source": []
  },
  {
   "cell_type": "code",
   "execution_count": null,
   "metadata": {},
   "outputs": [],
   "source": []
  },
  {
   "cell_type": "code",
   "execution_count": null,
   "metadata": {},
   "outputs": [],
   "source": []
  },
  {
   "cell_type": "code",
   "execution_count": null,
   "metadata": {},
   "outputs": [],
   "source": []
  },
  {
   "cell_type": "code",
   "execution_count": 5,
   "metadata": {},
   "outputs": [],
   "source": [
    "behaviors_dev = pd.read_csv('../../data/mind_small_dev/behaviors.tsv', sep=\"\\t\", header=None)"
   ]
  },
  {
   "cell_type": "code",
   "execution_count": 11,
   "metadata": {},
   "outputs": [
    {
     "data": {
      "text/plain": [
       "(5943, 50000)"
      ]
     },
     "execution_count": 11,
     "metadata": {},
     "output_type": "execute_result"
    }
   ],
   "source": [
    "len(set(behaviors_dev[1]) & set(behaviors[1])), len(set(behaviors_dev[1]))"
   ]
  },
  {
   "cell_type": "code",
   "execution_count": null,
   "metadata": {},
   "outputs": [],
   "source": []
  },
  {
   "cell_type": "code",
   "execution_count": null,
   "metadata": {},
   "outputs": [],
   "source": []
  },
  {
   "cell_type": "code",
   "execution_count": null,
   "metadata": {},
   "outputs": [],
   "source": []
  },
  {
   "cell_type": "code",
   "execution_count": null,
   "metadata": {},
   "outputs": [],
   "source": []
  },
  {
   "cell_type": "code",
   "execution_count": null,
   "metadata": {},
   "outputs": [],
   "source": []
  },
  {
   "cell_type": "code",
   "execution_count": null,
   "metadata": {},
   "outputs": [],
   "source": []
  },
  {
   "cell_type": "code",
   "execution_count": null,
   "metadata": {},
   "outputs": [],
   "source": []
  },
  {
   "cell_type": "code",
   "execution_count": null,
   "metadata": {},
   "outputs": [],
   "source": []
  },
  {
   "cell_type": "code",
   "execution_count": null,
   "metadata": {},
   "outputs": [],
   "source": []
  },
  {
   "cell_type": "code",
   "execution_count": null,
   "metadata": {},
   "outputs": [],
   "source": [
    "\n",
    "\n"
   ]
  },
  {
   "cell_type": "code",
   "execution_count": null,
   "metadata": {},
   "outputs": [],
   "source": [
    "\n"
   ]
  },
  {
   "cell_type": "code",
   "execution_count": null,
   "metadata": {},
   "outputs": [],
   "source": []
  },
  {
   "cell_type": "code",
   "execution_count": null,
   "metadata": {},
   "outputs": [],
   "source": []
  },
  {
   "cell_type": "code",
   "execution_count": null,
   "metadata": {},
   "outputs": [],
   "source": []
  },
  {
   "cell_type": "code",
   "execution_count": null,
   "metadata": {},
   "outputs": [],
   "source": []
  },
  {
   "cell_type": "code",
   "execution_count": null,
   "metadata": {},
   "outputs": [],
   "source": []
  },
  {
   "cell_type": "code",
   "execution_count": null,
   "metadata": {},
   "outputs": [],
   "source": []
  },
  {
   "cell_type": "code",
   "execution_count": null,
   "metadata": {},
   "outputs": [],
   "source": []
  },
  {
   "cell_type": "code",
   "execution_count": null,
   "metadata": {},
   "outputs": [],
   "source": []
  },
  {
   "cell_type": "code",
   "execution_count": null,
   "metadata": {},
   "outputs": [],
   "source": []
  },
  {
   "cell_type": "code",
   "execution_count": null,
   "metadata": {},
   "outputs": [],
   "source": []
  },
  {
   "cell_type": "code",
   "execution_count": 166,
   "metadata": {},
   "outputs": [],
   "source": []
  },
  {
   "cell_type": "code",
   "execution_count": null,
   "metadata": {},
   "outputs": [],
   "source": []
  },
  {
   "cell_type": "code",
   "execution_count": null,
   "metadata": {},
   "outputs": [],
   "source": []
  },
  {
   "cell_type": "code",
   "execution_count": null,
   "metadata": {},
   "outputs": [],
   "source": []
  },
  {
   "cell_type": "code",
   "execution_count": null,
   "metadata": {},
   "outputs": [],
   "source": []
  }
 ],
 "metadata": {
  "kernelspec": {
   "display_name": "Python [conda env:nf] *",
   "language": "python",
   "name": "conda-env-nf-py"
  },
  "language_info": {
   "codemirror_mode": {
    "name": "ipython",
    "version": 3
   },
   "file_extension": ".py",
   "mimetype": "text/x-python",
   "name": "python",
   "nbconvert_exporter": "python",
   "pygments_lexer": "ipython3",
   "version": "3.6.10"
  }
 },
 "nbformat": 4,
 "nbformat_minor": 4
}
