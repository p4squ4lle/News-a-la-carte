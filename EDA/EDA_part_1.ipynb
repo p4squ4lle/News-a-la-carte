{
 "cells": [
  {
   "cell_type": "markdown",
   "metadata": {},
   "source": [
    "### Exploratory Data Analysis for news consumption (Part 1)\n",
    "In this notebook, we will do some exploratory data Analysis. Since our user data is completely anonymized, this part of our project plays a rather minor role. We still want to try to **find some insights into online news consumption with the avavailable data** though. So let's start with loading the data:"
   ]
  },
  {
   "cell_type": "code",
   "execution_count": null,
   "metadata": {},
   "outputs": [],
   "source": [
    "import pandas as pd\n",
    "import numpy as np\n",
    "import scipy.sparse as sp\n",
    "\n",
    "import plotly.express as px\n",
    "import plotly.graph_objects as go\n",
    "\n",
    "from progressbar import ProgressBar"
   ]
  },
  {
   "cell_type": "code",
   "execution_count": null,
   "metadata": {},
   "outputs": [],
   "source": [
    "behaviors = pd.read_csv(\"../data/MINDlarge_train/behaviors_processed.csv\")\n",
    "news = pd.read_csv(\"../data/MINDlarge_train/news_processed.csv\")"
   ]
  },
  {
   "cell_type": "code",
   "execution_count": null,
   "metadata": {},
   "outputs": [],
   "source": [
    "behaviors.head()"
   ]
  },
  {
   "cell_type": "markdown",
   "metadata": {},
   "source": [
    "At first, we will check wether there is some **weekday sepcific click behavior**. For this task, we want to transform the times of the online sessions to the **pandas datetime format**, so that we can also extract the specific weekday:"
   ]
  },
  {
   "cell_type": "code",
   "execution_count": null,
   "metadata": {},
   "outputs": [],
   "source": [
    "behaviors['time'] = pd.to_datetime(behaviors['time'])"
   ]
  },
  {
   "cell_type": "code",
   "execution_count": null,
   "metadata": {},
   "outputs": [],
   "source": [
    "behaviors.head(3)"
   ]
  },
  {
   "cell_type": "code",
   "execution_count": null,
   "metadata": {},
   "outputs": [],
   "source": [
    "behaviors_by_date = behaviors.sort_values(by=['time']).copy()"
   ]
  },
  {
   "cell_type": "code",
   "execution_count": null,
   "metadata": {},
   "outputs": [],
   "source": [
    "behaviors_by_date['date'] = behaviors_by_date['time'].dt.date"
   ]
  },
  {
   "cell_type": "code",
   "execution_count": null,
   "metadata": {},
   "outputs": [],
   "source": [
    "behaviors_by_date['weekday'] = behaviors_by_date['time'].dt.weekday"
   ]
  },
  {
   "cell_type": "code",
   "execution_count": null,
   "metadata": {},
   "outputs": [],
   "source": [
    "behaviors_by_date.weekday = behaviors_by_date.weekday.replace([0,1,2,3,4,5,6], \n",
    "                                                              ['Monday', 'Tuesday', 'Wednesday', 'Thursday', 'Friday',\n",
    "                                                              'Saturday', 'Sunday'])"
   ]
  },
  {
   "cell_type": "code",
   "execution_count": null,
   "metadata": {},
   "outputs": [],
   "source": [
    "behaviors_by_date.head(3)"
   ]
  },
  {
   "cell_type": "code",
   "execution_count": null,
   "metadata": {},
   "outputs": [],
   "source": [
    "behaviors_by_date.tail(3)"
   ]
  },
  {
   "cell_type": "markdown",
   "metadata": {},
   "source": [
    "Now that we have this extra information, let's **save this expanded dataframe to a .csv file**:"
   ]
  },
  {
   "cell_type": "code",
   "execution_count": null,
   "metadata": {},
   "outputs": [],
   "source": [
    "behaviors_by_date.to_csv(\"../../data/MINDlarge_train/behaviors_by_date_large.csv\", index=False)"
   ]
  },
  {
   "cell_type": "markdown",
   "metadata": {},
   "source": [
    "Given that extracting the weekdays worked, let's check the **general click behavior for our time span**:"
   ]
  },
  {
   "cell_type": "code",
   "execution_count": null,
   "metadata": {},
   "outputs": [],
   "source": [
    "hist_date = px.histogram(behaviors_by_date.weekday)"
   ]
  },
  {
   "cell_type": "code",
   "execution_count": null,
   "metadata": {},
   "outputs": [],
   "source": [
    "hist_date.show()"
   ]
  },
  {
   "cell_type": "markdown",
   "metadata": {},
   "source": [
    "Apparently, MSN is generating **roughly twice as many clicks on working days than on weekend days**. Let's now check wether there are **dynamics in the compostioin of clicked categories** . In order to do this, we need to map the articles' IDs to their categories:"
   ]
  },
  {
   "cell_type": "code",
   "execution_count": null,
   "metadata": {},
   "outputs": [],
   "source": [
    "behaviors_by_date.history = behaviors_by_date.history.str.split(' ')\n",
    "behaviors_by_date.impressions = behaviors_by_date.impressions.str.split(' ')"
   ]
  },
  {
   "cell_type": "code",
   "execution_count": null,
   "metadata": {},
   "outputs": [],
   "source": [
    "behaviors_by_date_np = behaviors_by_date.to_numpy()"
   ]
  },
  {
   "cell_type": "code",
   "execution_count": null,
   "metadata": {},
   "outputs": [],
   "source": [
    "clicked=[]\n",
    "for row in behaviors_by_date_np:\n",
    "    clicked_per_user=[]\n",
    "    for impression in row[4]:\n",
    "        if impression[-1] == '1':\n",
    "            clicked_per_user.append(impression[:-2])\n",
    "    clicked.append(clicked_per_user)"
   ]
  },
  {
   "cell_type": "code",
   "execution_count": null,
   "metadata": {},
   "outputs": [],
   "source": [
    "clicked[:10]"
   ]
  },
  {
   "cell_type": "code",
   "execution_count": null,
   "metadata": {},
   "outputs": [],
   "source": [
    "news.head(3)"
   ]
  },
  {
   "cell_type": "code",
   "execution_count": null,
   "metadata": {},
   "outputs": [],
   "source": [
    "news_np = news.to_numpy()"
   ]
  },
  {
   "cell_type": "code",
   "execution_count": null,
   "metadata": {},
   "outputs": [],
   "source": [
    "keys = []\n",
    "values = []\n",
    "for row in news_np:\n",
    "    keys.append(row[0]) \n",
    "    values.append(row[1])\n",
    "\n",
    "category_dict = dict(zip(keys, values))\n",
    "    \n",
    "    "
   ]
  },
  {
   "cell_type": "code",
   "execution_count": null,
   "metadata": {},
   "outputs": [],
   "source": [
    "clicked_categories = []\n",
    "for clicks in clicked:\n",
    "    clicks_per_session=[]\n",
    "    for click in clicks:\n",
    "        clicks_per_session.append(category_dict[click])\n",
    "    clicked_categories.append(clicks_per_session)\n"
   ]
  },
  {
   "cell_type": "code",
   "execution_count": null,
   "metadata": {},
   "outputs": [],
   "source": [
    "clicked_categories[:5]"
   ]
  },
  {
   "cell_type": "code",
   "execution_count": null,
   "metadata": {},
   "outputs": [],
   "source": [
    "weekdays = []\n",
    "for row in behaviors_by_date_np:\n",
    "    weekdays.append(row[7])"
   ]
  },
  {
   "cell_type": "code",
   "execution_count": null,
   "metadata": {},
   "outputs": [],
   "source": [
    "len(weekdays), len(clicked_categories)"
   ]
  },
  {
   "cell_type": "code",
   "execution_count": null,
   "metadata": {},
   "outputs": [],
   "source": [
    "category = []\n",
    "weekday=[]\n",
    "for i, cats in enumerate(clicked_categories):\n",
    "    for cat in cats:\n",
    "        category.append(cat)\n",
    "        weekday.append(weekdays[i])\n",
    "    \n",
    "    "
   ]
  },
  {
   "cell_type": "code",
   "execution_count": null,
   "metadata": {},
   "outputs": [],
   "source": [
    "len(category), len(weekday)"
   ]
  },
  {
   "cell_type": "code",
   "execution_count": null,
   "metadata": {},
   "outputs": [],
   "source": [
    "category_weekday_df = pd.DataFrame(list(zip(category, weekday)),\n",
    "                                  columns= ['category', 'weekday'])"
   ]
  },
  {
   "cell_type": "markdown",
   "metadata": {},
   "source": [
    "Now that we have a **dataframe that combines every single clicked category with a weekday**, let's save it to a .csv file:"
   ]
  },
  {
   "cell_type": "code",
   "execution_count": null,
   "metadata": {},
   "outputs": [],
   "source": [
    "category_weekday_df.to_csv(\"../../data/MINDlarge_train/category_weekday_df.csv\", index=False)"
   ]
  },
  {
   "cell_type": "code",
   "execution_count": null,
   "metadata": {},
   "outputs": [],
   "source": [
    "#news = pd.read_csv(\"../data/MINDlarge_train/news_processed.csv\")\n",
    "#behaviors_by_date = pd.read_csv(\"../data/MINDlarge_train/behaviors_by_date_large.csv\")\n",
    "#category_weekday_df = pd.read_csv(\"../data/MINDlarge_train/category_weekday_df.csv\")"
   ]
  },
  {
   "cell_type": "markdown",
   "metadata": {},
   "source": [
    "We can now plot the **Weekdays with the respective proportions of clicked categories**:"
   ]
  },
  {
   "cell_type": "code",
   "execution_count": null,
   "metadata": {},
   "outputs": [],
   "source": [
    "hist_clicks_cats = px.histogram(category_weekday_df, x= 'weekday',color= 'category',\n",
    "                                color_discrete_sequence=px.colors.cyclical.HSV, \n",
    "                                labels={'category': 'Categories', 'weekday': 'Weekdays', 'count': 'Number of Clicks'})\n",
    "hist_clicks_cats.update_layout({\n",
    "'plot_bgcolor': 'rgba(0, 0, 0, 0)',\n",
    "'paper_bgcolor': 'rgba(0, 0, 0, 0)',\n",
    "'font_color' : 'white'\n",
    "})"
   ]
  },
  {
   "cell_type": "markdown",
   "metadata": {},
   "source": [
    "The labeling is intentionally set to white, so that we can use it in combination with the dark background of our presentation. But there are **too many small categories**! Let's **remap the smaller to more general ones**:"
   ]
  },
  {
   "cell_type": "code",
   "execution_count": null,
   "metadata": {},
   "outputs": [],
   "source": [
    "category_weekday_df.category.value_counts()"
   ]
  },
  {
   "cell_type": "code",
   "execution_count": null,
   "metadata": {},
   "outputs": [],
   "source": [
    "news.category.value_counts()"
   ]
  },
  {
   "cell_type": "code",
   "execution_count": null,
   "metadata": {},
   "outputs": [],
   "source": [
    "category_weekday_df.category.value_counts()"
   ]
  },
  {
   "cell_type": "code",
   "execution_count": null,
   "metadata": {},
   "outputs": [],
   "source": [
    "rename_dict = {'news': 'News', 'sports': 'Sports', 'lifestyle': 'Lifestyle', 'foodanddrink': 'Lifestyle', 'health': 'Lifestyle',\n",
    "              'finance': 'Finance', 'entertainment': 'Entertainment', 'music': 'Entertainment', 'tv': 'Entertainment', 'video': \n",
    "              'Entertainment', 'movies': 'Entertainment', 'travel': 'Travel', 'kids': 'Other', 'northamerica': 'Other', 'middleeast': 'Other',\n",
    "              'games': 'Other', 'autos': 'Other', 'weather': 'Weather'}"
   ]
  },
  {
   "cell_type": "code",
   "execution_count": null,
   "metadata": {},
   "outputs": [],
   "source": [
    "rename_dict['foodanddrink']"
   ]
  },
  {
   "cell_type": "code",
   "execution_count": null,
   "metadata": {},
   "outputs": [],
   "source": [
    "category_weekday_df['unified'] = [rename_dict[x] for x in category_weekday_df.category]"
   ]
  },
  {
   "cell_type": "code",
   "execution_count": null,
   "metadata": {},
   "outputs": [],
   "source": [
    "category_weekday_df.head()"
   ]
  },
  {
   "cell_type": "code",
   "execution_count": null,
   "metadata": {},
   "outputs": [],
   "source": [
    "news['unified'] = [rename_dict[x] for x in news.category]"
   ]
  },
  {
   "cell_type": "code",
   "execution_count": null,
   "metadata": {},
   "outputs": [],
   "source": [
    "news.head(3)"
   ]
  },
  {
   "cell_type": "code",
   "execution_count": null,
   "metadata": {},
   "outputs": [],
   "source": [
    "hist_clicks_unified = px.histogram(category_weekday_df, x= 'weekday',color= 'unified',\n",
    "                                color_discrete_sequence=px.colors.cyclical.HSV, \n",
    "                                labels={'unified': 'Categories', 'weekday': 'Weekdays', 'count': 'Number of Clicks'})\n",
    "hist_clicks_unified.update_layout({\n",
    "'plot_bgcolor': 'rgba(0, 0, 0, 0)',\n",
    "'paper_bgcolor': 'rgba(0, 0, 0, 0)',\n",
    "'font_color' : 'white'\n",
    "})"
   ]
  },
  {
   "cell_type": "markdown",
   "metadata": {},
   "source": [
    "With the more general categories, we have a much clearer view on how they are distributed over the weekdays. The only noticable difference though, is that **sports articles seem to be clicked more frequenlty during working days**. This could have to do with sports events *happening* on the weekend, whereas their coverage and and reports on surrounding events take place during the week. \n",
    "\n",
    "Unfortunately, we can't say on what times specific articles are available, but we can **compare all the available articles and their categories in our *news* dataset to the clicked categories**. In order to do this, let's write out the respective proportions:"
   ]
  },
  {
   "cell_type": "code",
   "execution_count": null,
   "metadata": {},
   "outputs": [],
   "source": [
    "news_values = news.unified.value_counts().to_frame()"
   ]
  },
  {
   "cell_type": "code",
   "execution_count": null,
   "metadata": {},
   "outputs": [],
   "source": [
    "news_values['share'] = [x/news.shape[0] for x in news_values.unified]"
   ]
  },
  {
   "cell_type": "code",
   "execution_count": null,
   "metadata": {},
   "outputs": [],
   "source": [
    "news_values "
   ]
  },
  {
   "cell_type": "code",
   "execution_count": null,
   "metadata": {},
   "outputs": [],
   "source": [
    "clicks_values = category_weekday_df.unified.value_counts().to_frame()"
   ]
  },
  {
   "cell_type": "code",
   "execution_count": null,
   "metadata": {},
   "outputs": [],
   "source": [
    "clicks_values['share_clicks'] = [x/category_weekday_df.shape[0] for x in clicks_values.unified]"
   ]
  },
  {
   "cell_type": "code",
   "execution_count": null,
   "metadata": {},
   "outputs": [],
   "source": []
  },
  {
   "cell_type": "code",
   "execution_count": null,
   "metadata": {},
   "outputs": [],
   "source": [
    "clicks_values = clicks_values.sort_index()\n",
    "news_values = news_values.sort_index()"
   ]
  },
  {
   "cell_type": "code",
   "execution_count": null,
   "metadata": {},
   "outputs": [],
   "source": [
    "clicks_values['cat'] = clicks_values.index\n",
    "news_values['cat'] = news_values.index"
   ]
  },
  {
   "cell_type": "code",
   "execution_count": null,
   "metadata": {},
   "outputs": [],
   "source": [
    "news_values['share_clicks'] = clicks_values['share_clicks']"
   ]
  },
  {
   "cell_type": "code",
   "execution_count": null,
   "metadata": {},
   "outputs": [],
   "source": [
    "news_values"
   ]
  },
  {
   "cell_type": "code",
   "execution_count": null,
   "metadata": {},
   "outputs": [],
   "source": [
    "comparison = go.Figure(data=[\n",
    "    go.Bar(name='Proportion of Category in All Articles', x=news_values.cat, y=news_values.share, marker_color=px.colors.qualitative.Alphabet[25] ),\n",
    "    go.Bar(name='Proportion of Category in Clicked Articles', x=news_values.cat, y=news_values.share_clicks, marker_color=px.colors.qualitative.Alphabet[6])\n",
    "])\n",
    "comparison.update_layout({\n",
    "'plot_bgcolor': 'rgba(0, 0, 0, 0)',\n",
    "'paper_bgcolor': 'rgba(0, 0, 0, 0)',\n",
    "'font_color' : 'white'\n",
    "})"
   ]
  },
  {
   "cell_type": "markdown",
   "metadata": {},
   "source": [
    "As we can see, there are clearly a couple of categories over-represented in the clicking behaviors. Whereas proper news articles are clicked pretty much proportional to their general occurence, **sports articles are actually much more seldomly clicked** than they're available. It's the opposite situation for **entertainment and lifestyle articles** (with finance showing the same tendency), which are **being more clicked proportionally**. This information could potentially be used when it comes to fine tuning recommender systems (substantially -- not hyperparameter wise).\n",
    "\n",
    "Our exploratory data analysis will continue in the second notebook!"
   ]
  }
 ],
 "metadata": {
  "kernelspec": {
   "display_name": "Python [conda env:nf] *",
   "language": "python",
   "name": "conda-env-nf-py"
  },
  "language_info": {
   "codemirror_mode": {
    "name": "ipython",
    "version": 3
   },
   "file_extension": ".py",
   "mimetype": "text/x-python",
   "name": "python",
   "nbconvert_exporter": "python",
   "pygments_lexer": "ipython3",
   "version": "3.6.10"
  }
 },
 "nbformat": 4,
 "nbformat_minor": 4
}
