{
 "cells": [
  {
   "cell_type": "markdown",
   "metadata": {},
   "source": [
    "# Generalized Matrix Factorization (GMF)"
   ]
  },
  {
   "cell_type": "code",
   "execution_count": 1,
   "metadata": {},
   "outputs": [],
   "source": [
    "import numpy as np\n",
    "import math\n",
    "import tensorflow as tf\n",
    "import scipy.sparse as sp\n",
    "import heapq"
   ]
  },
  {
   "cell_type": "code",
   "execution_count": 2,
   "metadata": {},
   "outputs": [],
   "source": [
    "from tensorflow.keras.regularizers import l2\n",
    "from tensorflow.keras.models import Sequential, Model"
   ]
  },
  {
   "cell_type": "code",
   "execution_count": 1,
   "metadata": {},
   "outputs": [],
   "source": [
    "from tensorflow.keras.layers import Embedding, Input, Dense, Reshape, Flatten, Dropout\n",
    "from tensorflow.keras.layers import Concatenate, Multiply\n",
    "from tensorflow.keras.optimizers import Adam\n",
    "from tensorflow.keras import initializers\n",
    "\n",
    "from tensorflow.keras.metrics import MeanSquaredError, Precision, AUC"
   ]
  },
  {
   "cell_type": "markdown",
   "metadata": {},
   "source": [
    "## Import Train and Test Data"
   ]
  },
  {
   "cell_type": "code",
   "execution_count": 7,
   "metadata": {},
   "outputs": [],
   "source": [
    "train_filename = \"small_train.csv\"\n",
    "\n",
    "num_users, num_articles = 0, 0\n",
    "with open(train_filename, \"r\") as f:\n",
    "    header = f.readline()\n",
    "    line = f.readline()\n",
    "    while line != None and line != \"\":\n",
    "        line_list = line.split(\",\")\n",
    "        u, i = int(line_list[2]), int(line_list[3])\n",
    "        num_users = max(num_users, u)\n",
    "        num_articles = max(num_articles, i)\n",
    "        line = f.readline()\n",
    "\n",
    "num_users += 1\n",
    "num_articles += 1"
   ]
  },
  {
   "cell_type": "code",
   "execution_count": 8,
   "metadata": {},
   "outputs": [
    {
     "data": {
      "text/plain": [
       "(40331, 31415)"
      ]
     },
     "execution_count": 8,
     "metadata": {},
     "output_type": "execute_result"
    }
   ],
   "source": [
    "num_users, num_articles"
   ]
  },
  {
   "cell_type": "code",
   "execution_count": 9,
   "metadata": {},
   "outputs": [
    {
     "name": "stdout",
     "output_type": "stream",
     "text": [
      "user_id,article,user_id_code,article_id_code\n",
      "\n"
     ]
    }
   ],
   "source": [
    "train = sp.dok_matrix((num_users, num_articles), dtype=np.float32)\n",
    "\n",
    "with open(train_filename, \"r\") as f:\n",
    "    header = f.readline()\n",
    "    print(header)\n",
    "    line = f.readline()\n",
    "    while line != None and line != \"\":\n",
    "        line_list = line.split(\",\")\n",
    "        user, article = int(line_list[2]), int(line_list[3])\n",
    "        train[user, article] = 1.0\n",
    "        line = f.readline()"
   ]
  },
  {
   "cell_type": "code",
   "execution_count": 10,
   "metadata": {},
   "outputs": [
    {
     "name": "stdout",
     "output_type": "stream",
     "text": [
      "user_id,article,user_id_code,article_id_code\n",
      "\n",
      "U13740,N31801,1810,11677\n",
      "\n"
     ]
    }
   ],
   "source": [
    "test_filename = \"small_test.csv\"\n",
    "\n",
    "test_positives = []\n",
    "with open(test_filename, \"r\") as f:\n",
    "    header = f.readline()\n",
    "    print(header)\n",
    "    line = f.readline()\n",
    "    print(line)\n",
    "    while line != None and line != \"\":\n",
    "        line_list = line.split(\",\")\n",
    "        #print(line_list)\n",
    "        user, article = int(line_list[2]), int(line_list[3])\n",
    "        #print(user, article)                                            \n",
    "        test_positives.append([user, article])\n",
    "        line = f.readline()"
   ]
  },
  {
   "cell_type": "code",
   "execution_count": 11,
   "metadata": {},
   "outputs": [
    {
     "data": {
      "text/plain": [
       "39846"
      ]
     },
     "execution_count": 11,
     "metadata": {},
     "output_type": "execute_result"
    }
   ],
   "source": [
    "len(test_positives)"
   ]
  },
  {
   "cell_type": "code",
   "execution_count": 12,
   "metadata": {},
   "outputs": [],
   "source": [
    "test_neg_filename = \"small_test_negatives.tsv\"\n",
    "\n",
    "test_negatives = []\n",
    "with open(test_neg_filename, \"r\") as f:\n",
    "    line = f.readline()\n",
    "    while line != None and line != \"\":\n",
    "        line_list = line.split(\"\\t\")\n",
    "        #print(line_list)\n",
    "        negatives = []\n",
    "        for neg in line_list[1: ]:\n",
    "            negatives.append(int(neg))\n",
    "        test_negatives.append(negatives)\n",
    "        line = f.readline()"
   ]
  },
  {
   "cell_type": "code",
   "execution_count": 13,
   "metadata": {},
   "outputs": [
    {
     "data": {
      "text/plain": [
       "39846"
      ]
     },
     "execution_count": 13,
     "metadata": {},
     "output_type": "execute_result"
    }
   ],
   "source": [
    "len(test_negatives)"
   ]
  },
  {
   "cell_type": "markdown",
   "metadata": {},
   "source": [
    "## Initialize Model Parameters"
   ]
  },
  {
   "cell_type": "code",
   "execution_count": 5,
   "metadata": {},
   "outputs": [],
   "source": [
    "EPOCHS = 20\n",
    "BATCH_SIZE = 256\n",
    "NUM_FACTORS = 8\n",
    "REGS = [0, 0]\n",
    "NUM_NEG = 4\n",
    "LR = 0.001\n",
    "LEARNER = \"adam\""
   ]
  },
  {
   "cell_type": "code",
   "execution_count": 6,
   "metadata": {},
   "outputs": [],
   "source": [
    "topK = 10"
   ]
  },
  {
   "cell_type": "markdown",
   "metadata": {},
   "source": [
    "## Build Model"
   ]
  },
  {
   "cell_type": "code",
   "execution_count": 14,
   "metadata": {},
   "outputs": [],
   "source": [
    "user_input = Input(shape=(1,), dtype='int32', name='user_input')\n",
    "article_input = Input(shape=(1,), dtype='int32', name='article_input')"
   ]
  },
  {
   "cell_type": "code",
   "execution_count": 15,
   "metadata": {},
   "outputs": [
    {
     "name": "stdout",
     "output_type": "stream",
     "text": [
      "WARNING:tensorflow:From /opt/anaconda3/envs/nf/lib/python3.6/site-packages/tensorflow/python/keras/initializers.py:119: calling RandomUniform.__init__ (from tensorflow.python.ops.init_ops) with dtype is deprecated and will be removed in a future version.\n",
      "Instructions for updating:\n",
      "Call initializer instance with the dtype argument instead of passing it to the constructor\n"
     ]
    }
   ],
   "source": [
    "MF_Embedding_User = Embedding(input_dim=num_users, \n",
    "                              output_dim=NUM_FACTORS, \n",
    "                              name='user_embedding',\n",
    "                              input_length=1)"
   ]
  },
  {
   "cell_type": "code",
   "execution_count": 16,
   "metadata": {},
   "outputs": [],
   "source": [
    "MF_Embedding_Article = Embedding(input_dim=num_articles, \n",
    "                                 output_dim=NUM_FACTORS, \n",
    "                                 name = 'article_embedding',\n",
    "                                 input_length=1)"
   ]
  },
  {
   "cell_type": "code",
   "execution_count": 17,
   "metadata": {},
   "outputs": [],
   "source": [
    "user_latent = Flatten()(MF_Embedding_User(user_input))\n",
    "article_latent = Flatten()(MF_Embedding_Article(article_input))"
   ]
  },
  {
   "cell_type": "code",
   "execution_count": 36,
   "metadata": {},
   "outputs": [],
   "source": [
    "predict_vector = Multiply()([user_latent, article_latent])"
   ]
  },
  {
   "cell_type": "code",
   "execution_count": 37,
   "metadata": {},
   "outputs": [],
   "source": [
    "prediction = Dense(1, activation='sigmoid', \n",
    "                   kernel_initializer='lecun_uniform', \n",
    "                   name = 'prediction')(predict_vector)"
   ]
  },
  {
   "cell_type": "code",
   "execution_count": 41,
   "metadata": {},
   "outputs": [],
   "source": [
    "model = Model([user_input, article_input], prediction)"
   ]
  },
  {
   "cell_type": "code",
   "execution_count": 48,
   "metadata": {},
   "outputs": [],
   "source": [
    "from tensorflow.keras.metrics import MeanSquaredError, Precision, AUC"
   ]
  },
  {
   "cell_type": "code",
   "execution_count": 50,
   "metadata": {},
   "outputs": [],
   "source": [
    "model.compile(optimizer=Adam(lr=LR), loss='binary_crossentropy',\n",
    "              metrics=[MeanSquaredError(), Precision(), AUC()])"
   ]
  },
  {
   "cell_type": "code",
   "execution_count": 51,
   "metadata": {},
   "outputs": [
    {
     "name": "stdout",
     "output_type": "stream",
     "text": [
      "Model: \"model_2\"\n",
      "__________________________________________________________________________________________________\n",
      "Layer (type)                    Output Shape         Param #     Connected to                     \n",
      "==================================================================================================\n",
      "user_input (InputLayer)         [(None, 1)]          0                                            \n",
      "__________________________________________________________________________________________________\n",
      "article_input (InputLayer)      [(None, 1)]          0                                            \n",
      "__________________________________________________________________________________________________\n",
      "user_embedding (Embedding)      (None, 1, 8)         322648      user_input[0][0]                 \n",
      "__________________________________________________________________________________________________\n",
      "article_embedding (Embedding)   (None, 1, 8)         251320      article_input[0][0]              \n",
      "__________________________________________________________________________________________________\n",
      "flatten (Flatten)               (None, 8)            0           user_embedding[0][0]             \n",
      "__________________________________________________________________________________________________\n",
      "flatten_1 (Flatten)             (None, 8)            0           article_embedding[0][0]          \n",
      "__________________________________________________________________________________________________\n",
      "multiply (Multiply)             (None, 8)            0           flatten[0][0]                    \n",
      "                                                                 flatten_1[0][0]                  \n",
      "__________________________________________________________________________________________________\n",
      "prediction (Dense)              (None, 1)            9           multiply[0][0]                   \n",
      "==================================================================================================\n",
      "Total params: 573,977\n",
      "Trainable params: 573,977\n",
      "Non-trainable params: 0\n",
      "__________________________________________________________________________________________________\n"
     ]
    }
   ],
   "source": [
    "model.summary()"
   ]
  },
  {
   "cell_type": "code",
   "execution_count": 52,
   "metadata": {},
   "outputs": [],
   "source": [
    "user_input, article_input, labels = [],[],[]\n",
    "for (u, i) in train.keys():\n",
    "    # positive instance\n",
    "    user_input.append(u)\n",
    "    article_input.append(i)\n",
    "    labels.append(1)\n",
    "    # negative instances\n",
    "    for t in range(NUM_NEG):\n",
    "        j = np.random.randint(num_articles)\n",
    "        while (u, j) in train.keys():\n",
    "            j = np.random.randint(num_articles)\n",
    "        user_input.append(u)\n",
    "        article_input.append(j)\n",
    "        labels.append(0)"
   ]
  },
  {
   "cell_type": "code",
   "execution_count": 63,
   "metadata": {},
   "outputs": [
    {
     "name": "stdout",
     "output_type": "stream",
     "text": [
      "Epoch 1/19\n",
      "4042170/4042170 [==============================] - 55s 14us/sample - loss: 0.2714 - mean_squared_error: 0.0833 - precision_1: 0.7525 - auc: 0.9217\n",
      "Epoch 2/19\n",
      "4042170/4042170 [==============================] - 54s 13us/sample - loss: 0.2618 - mean_squared_error: 0.0805 - precision_1: 0.7569 - auc: 0.9276\n",
      "Epoch 3/19\n",
      "4042170/4042170 [==============================] - 52s 13us/sample - loss: 0.2562 - mean_squared_error: 0.0788 - precision_1: 0.7591 - auc: 0.9310\n",
      "Epoch 4/19\n",
      "4042170/4042170 [==============================] - 53s 13us/sample - loss: 0.2521 - mean_squared_error: 0.0775 - precision_1: 0.7617 - auc: 0.9334\n",
      "Epoch 5/19\n",
      "4042170/4042170 [==============================] - 51s 13us/sample - loss: 0.2489 - mean_squared_error: 0.0764 - precision_1: 0.7637 - auc: 0.9352 - loss: 0.2486 - mean_squ - ETA: 0s - loss: 0.2489 - mean_squared_error: 0.0764 - precision_1: 0.7637 - auc: 0.\n",
      "Epoch 6/19\n",
      "4042170/4042170 [==============================] - 51s 13us/sample - loss: 0.2462 - mean_squared_error: 0.0756 - precision_1: 0.7656 - auc: 0.9367\n",
      "Epoch 7/19\n",
      "4042170/4042170 [==============================] - 73s 18us/sample - loss: 0.2439 - mean_squared_error: 0.0748 - precision_1: 0.7679 - auc: 0.9380\n",
      "Epoch 8/19\n",
      "4042170/4042170 [==============================] - 65s 16us/sample - loss: 0.2419 - mean_squared_error: 0.0741 - precision_1: 0.7697 - auc: 0.9392\n",
      "Epoch 9/19\n",
      "4042170/4042170 [==============================] - 72s 18us/sample - loss: 0.2400 - mean_squared_error: 0.0735 - precision_1: 0.7718 - auc: 0.9402\n",
      "Epoch 10/19\n",
      "4042170/4042170 [==============================] - 70s 17us/sample - loss: 0.2382 - mean_squared_error: 0.0729 - precision_1: 0.7731 - auc: 0.9411\n",
      "Epoch 11/19\n",
      "4042170/4042170 [==============================] - 76s 19us/sample - loss: 0.2365 - mean_squared_error: 0.0723 - precision_1: 0.7751 - auc: 0.9420\n",
      "Epoch 12/19\n",
      "4042170/4042170 [==============================] - 73s 18us/sample - loss: 0.2350 - mean_squared_error: 0.0717 - precision_1: 0.7768 - auc: 0.9428\n",
      "Epoch 13/19\n",
      "4042170/4042170 [==============================] - 92s 23us/sample - loss: 0.2335 - mean_squared_error: 0.0712 - precision_1: 0.7782 - auc: 0.9436 - loss: 0.2332 - me - ETA: 4s - ETA: 1s - loss: 0.2334 - mean_squar - ETA: 0s - loss: 0.2335 - mean_squared_error: 0.0712 - precision_1: 0.7782 -\n",
      "Epoch 14/19\n",
      "4042170/4042170 [==============================] - 90s 22us/sample - loss: 0.2320 - mean_squared_error: 0.0707 - precision_1: 0.7798 - auc: 0.9443\n",
      "Epoch 15/19\n",
      "4042170/4042170 [==============================] - 99s 24us/sample - loss: 0.2306 - mean_squared_error: 0.0702 - precision_1: 0.7814 - auc: 0.9450\n",
      "Epoch 16/19\n",
      "4042170/4042170 [==============================] - 93s 23us/sample - loss: 0.2292 - mean_squared_error: 0.0697 - precision_1: 0.7829 - auc: 0.9457 - loss: 0.2292 - mean_squared_error: 0.0697 - precision_1: 0.\n",
      "Epoch 17/19\n",
      "4042170/4042170 [==============================] - 77s 19us/sample - loss: 0.2279 - mean_squared_error: 0.0692 - precision_1: 0.7844 - auc: 0.9463\n",
      "Epoch 18/19\n",
      "4042170/4042170 [==============================] - 77s 19us/sample - loss: 0.2266 - mean_squared_error: 0.0688 - precision_1: 0.7858 - auc: 0.9469\n",
      "Epoch 19/19\n",
      "4042170/4042170 [==============================] - 85s 21us/sample - loss: 0.2254 - mean_squared_error: 0.0684 - precision_1: 0.7873 - auc: 0.9475\n"
     ]
    }
   ],
   "source": [
    "hist = model.fit([np.array(user_input), np.array(article_input)], #input\n",
    "                 np.array(labels), # labels \n",
    "                 batch_size=BATCH_SIZE, \n",
    "                 epochs=19, \n",
    "                 verbose=1, \n",
    "                 shuffle=True)"
   ]
  },
  {
   "cell_type": "code",
   "execution_count": 59,
   "metadata": {},
   "outputs": [],
   "source": [
    "def eval_one_rating(idx, topK):\n",
    "    rating = test_positives[idx]\n",
    "    items = test_negatives[idx]\n",
    "    u = rating[0]\n",
    "    get_item = rating[1]\n",
    "    items.append(get_item)\n",
    "    # Get prediction scores\n",
    "    map_item_score = {}\n",
    "    users = np.full(len(items), u, dtype = 'int32')\n",
    "    predictions = model.predict([users, np.array(items)], \n",
    "                                batch_size=100, verbose=0)\n",
    "    for i in range(len(items)):\n",
    "        item = items[i]\n",
    "        map_item_score[item] = predictions[i]\n",
    "    items.pop()\n",
    "    \n",
    "    # Evaluate top rank list\n",
    "    ranklist = heapq.nlargest(topK, map_item_score, key=map_item_score.get)\n",
    "    \n",
    "    if get_item in ranklist:\n",
    "        hr = 1\n",
    "        i = ranklist.index(get_item)\n",
    "        ndcg = math.log(2) / math.log(i+2)\n",
    "        rr = 1/(i+1)\n",
    "    else:\n",
    "        hr = 0\n",
    "        ndcg = 0\n",
    "        rr = 0\n",
    "   \n",
    "    return (hr, ndcg, rr)"
   ]
  },
  {
   "cell_type": "code",
   "execution_count": 64,
   "metadata": {},
   "outputs": [],
   "source": [
    "hits, ndcgs, rrs = [], [], []\n",
    "for idx in range(len(test_positives)):\n",
    "    hr, ndcg, rr = eval_one_rating(idx, topK)\n",
    "    hits.append(hr)\n",
    "    ndcgs.append(ndcg)\n",
    "    rrs.append(rr)"
   ]
  },
  {
   "cell_type": "code",
   "execution_count": 65,
   "metadata": {},
   "outputs": [],
   "source": [
    "hr = np.array(hits).mean()\n",
    "mrr = np.array(rrs).mean()\n",
    "ndcg = np.array(ndcgs).mean()\n",
    "\n",
    "print(\"Hit ratio:            \", hr)\n",
    "print(\"Mean reciprocal rank: \", mrr)\n",
    "print(\"NDCG@10:              \", ndcg)"
   ]
  },
  {
   "cell_type": "code",
   "execution_count": null,
   "metadata": {},
   "outputs": [],
   "source": []
  }
 ],
 "metadata": {
  "kernelspec": {
   "display_name": "Python [conda env:nf] *",
   "language": "python",
   "name": "conda-env-nf-py"
  },
  "language_info": {
   "codemirror_mode": {
    "name": "ipython",
    "version": 3
   },
   "file_extension": ".py",
   "mimetype": "text/x-python",
   "name": "python",
   "nbconvert_exporter": "python",
   "pygments_lexer": "ipython3",
   "version": "3.6.11"
  }
 },
 "nbformat": 4,
 "nbformat_minor": 4
}
