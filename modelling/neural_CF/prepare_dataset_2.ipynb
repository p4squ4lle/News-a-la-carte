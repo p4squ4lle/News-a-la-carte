{
 "cells": [
  {
   "cell_type": "markdown",
   "metadata": {},
   "source": [
    "# Preperation of MIND dataset for Neural Collaborative Filtering"
   ]
  },
  {
   "cell_type": "code",
   "execution_count": 1,
   "metadata": {},
   "outputs": [],
   "source": [
    "import csv\n",
    "import numpy as np\n",
    "import pandas as pd\n",
    "import scipy.sparse as sp"
   ]
  },
  {
   "cell_type": "code",
   "execution_count": 2,
   "metadata": {},
   "outputs": [],
   "source": [
    "behaviors = pd.read_csv(\"../../../data/mind_small_train/behaviors_processed.csv\")\n",
    "news = pd.read_csv(\"../../../data/mind_small_train/news_processed.csv\")"
   ]
  },
  {
   "cell_type": "code",
   "execution_count": 3,
   "metadata": {},
   "outputs": [],
   "source": [
    "behaviors.drop_duplicates(subset=\"user_id\", inplace=True)\n",
    "behaviors.drop(['impression_id', 'time'], axis=1, inplace=True)"
   ]
  },
  {
   "cell_type": "code",
   "execution_count": 4,
   "metadata": {},
   "outputs": [],
   "source": [
    "behaviors['history_list'] = behaviors.history.str.split()"
   ]
  },
  {
   "cell_type": "code",
   "execution_count": 5,
   "metadata": {},
   "outputs": [],
   "source": [
    "behav = behaviors[behaviors['history_list'].map(len) >= 5].copy()"
   ]
  },
  {
   "cell_type": "code",
   "execution_count": 6,
   "metadata": {},
   "outputs": [],
   "source": [
    "behav.reset_index(inplace=True, drop=True)"
   ]
  },
  {
   "cell_type": "code",
   "execution_count": 7,
   "metadata": {},
   "outputs": [
    {
     "data": {
      "text/html": [
       "<div>\n",
       "<style scoped>\n",
       "    .dataframe tbody tr th:only-of-type {\n",
       "        vertical-align: middle;\n",
       "    }\n",
       "\n",
       "    .dataframe tbody tr th {\n",
       "        vertical-align: top;\n",
       "    }\n",
       "\n",
       "    .dataframe thead th {\n",
       "        text-align: right;\n",
       "    }\n",
       "</style>\n",
       "<table border=\"1\" class=\"dataframe\">\n",
       "  <thead>\n",
       "    <tr style=\"text-align: right;\">\n",
       "      <th></th>\n",
       "      <th>user_id</th>\n",
       "      <th>history</th>\n",
       "      <th>labels</th>\n",
       "      <th>history_list</th>\n",
       "    </tr>\n",
       "  </thead>\n",
       "  <tbody>\n",
       "    <tr>\n",
       "      <th>0</th>\n",
       "      <td>U13740</td>\n",
       "      <td>N55189 N42782 N34694 N45794 N18445 N63302 N104...</td>\n",
       "      <td>N55689-1 N35729-0</td>\n",
       "      <td>[N55189, N42782, N34694, N45794, N18445, N6330...</td>\n",
       "    </tr>\n",
       "    <tr>\n",
       "      <th>1</th>\n",
       "      <td>U91836</td>\n",
       "      <td>N31739 N6072 N63045 N23979 N35656 N43353 N8129...</td>\n",
       "      <td>N20678-0 N39317-0 N58114-0 N20495-0 N42977-0 N...</td>\n",
       "      <td>[N31739, N6072, N63045, N23979, N35656, N43353...</td>\n",
       "    </tr>\n",
       "    <tr>\n",
       "      <th>2</th>\n",
       "      <td>U73700</td>\n",
       "      <td>N10732 N25792 N7563 N21087 N41087 N5445 N60384...</td>\n",
       "      <td>N50014-0 N23877-0 N35389-0 N49712-0 N16844-0 N...</td>\n",
       "      <td>[N10732, N25792, N7563, N21087, N41087, N5445,...</td>\n",
       "    </tr>\n",
       "    <tr>\n",
       "      <th>3</th>\n",
       "      <td>U34670</td>\n",
       "      <td>N45729 N2203 N871 N53880 N41375 N43142 N33013 ...</td>\n",
       "      <td>N35729-0 N33632-0 N49685-1 N27581-0</td>\n",
       "      <td>[N45729, N2203, N871, N53880, N41375, N43142, ...</td>\n",
       "    </tr>\n",
       "    <tr>\n",
       "      <th>4</th>\n",
       "      <td>U19739</td>\n",
       "      <td>N39074 N14343 N32607 N32320 N22007 N442 N19001...</td>\n",
       "      <td>N21119-1 N53696-0 N33619-1 N25722-0 N2869-0</td>\n",
       "      <td>[N39074, N14343, N32607, N32320, N22007, N442,...</td>\n",
       "    </tr>\n",
       "    <tr>\n",
       "      <th>...</th>\n",
       "      <td>...</td>\n",
       "      <td>...</td>\n",
       "      <td>...</td>\n",
       "      <td>...</td>\n",
       "    </tr>\n",
       "    <tr>\n",
       "      <th>40326</th>\n",
       "      <td>U36425</td>\n",
       "      <td>N56253 N55189 N6233 N11894 N5183 N10414 N64467...</td>\n",
       "      <td>N38783-0 N57097-1 N63478-0 N11830-0</td>\n",
       "      <td>[N56253, N55189, N6233, N11894, N5183, N10414,...</td>\n",
       "    </tr>\n",
       "    <tr>\n",
       "      <th>40327</th>\n",
       "      <td>U6794</td>\n",
       "      <td>N20059 N27448 N42458 N2203 N3595 N22058 N54416...</td>\n",
       "      <td>N20079-0 N52773-0 N26142-1 N31978-0</td>\n",
       "      <td>[N20059, N27448, N42458, N2203, N3595, N22058,...</td>\n",
       "    </tr>\n",
       "    <tr>\n",
       "      <th>40328</th>\n",
       "      <td>U23127</td>\n",
       "      <td>N51591 N18073 N3653 N49640 N56253 N41049 N2203...</td>\n",
       "      <td>N28248-0 N58660-0 N5652-0 N16589-0 N58814-0 N1...</td>\n",
       "      <td>[N51591, N18073, N3653, N49640, N56253, N41049...</td>\n",
       "    </tr>\n",
       "    <tr>\n",
       "      <th>40329</th>\n",
       "      <td>U43157</td>\n",
       "      <td>N62285 N43086 N17254 N64775 N24721 N12988 N304...</td>\n",
       "      <td>N62688-1 N38960-0 N7821-0 N29952-0 N43368-0 N2...</td>\n",
       "      <td>[N62285, N43086, N17254, N64775, N24721, N1298...</td>\n",
       "    </tr>\n",
       "    <tr>\n",
       "      <th>40330</th>\n",
       "      <td>U66493</td>\n",
       "      <td>N22570 N37720 N52946 N37720 N35022 N50638 N573...</td>\n",
       "      <td>N51048-1 N61032-0 N11817-1 N20746-0 N21420-0 N...</td>\n",
       "      <td>[N22570, N37720, N52946, N37720, N35022, N5063...</td>\n",
       "    </tr>\n",
       "  </tbody>\n",
       "</table>\n",
       "<p>40331 rows × 4 columns</p>\n",
       "</div>"
      ],
      "text/plain": [
       "      user_id                                            history  \\\n",
       "0      U13740  N55189 N42782 N34694 N45794 N18445 N63302 N104...   \n",
       "1      U91836  N31739 N6072 N63045 N23979 N35656 N43353 N8129...   \n",
       "2      U73700  N10732 N25792 N7563 N21087 N41087 N5445 N60384...   \n",
       "3      U34670  N45729 N2203 N871 N53880 N41375 N43142 N33013 ...   \n",
       "4      U19739  N39074 N14343 N32607 N32320 N22007 N442 N19001...   \n",
       "...       ...                                                ...   \n",
       "40326  U36425  N56253 N55189 N6233 N11894 N5183 N10414 N64467...   \n",
       "40327   U6794  N20059 N27448 N42458 N2203 N3595 N22058 N54416...   \n",
       "40328  U23127  N51591 N18073 N3653 N49640 N56253 N41049 N2203...   \n",
       "40329  U43157  N62285 N43086 N17254 N64775 N24721 N12988 N304...   \n",
       "40330  U66493  N22570 N37720 N52946 N37720 N35022 N50638 N573...   \n",
       "\n",
       "                                                  labels  \\\n",
       "0                                      N55689-1 N35729-0   \n",
       "1      N20678-0 N39317-0 N58114-0 N20495-0 N42977-0 N...   \n",
       "2      N50014-0 N23877-0 N35389-0 N49712-0 N16844-0 N...   \n",
       "3                    N35729-0 N33632-0 N49685-1 N27581-0   \n",
       "4            N21119-1 N53696-0 N33619-1 N25722-0 N2869-0   \n",
       "...                                                  ...   \n",
       "40326                N38783-0 N57097-1 N63478-0 N11830-0   \n",
       "40327                N20079-0 N52773-0 N26142-1 N31978-0   \n",
       "40328  N28248-0 N58660-0 N5652-0 N16589-0 N58814-0 N1...   \n",
       "40329  N62688-1 N38960-0 N7821-0 N29952-0 N43368-0 N2...   \n",
       "40330  N51048-1 N61032-0 N11817-1 N20746-0 N21420-0 N...   \n",
       "\n",
       "                                            history_list  \n",
       "0      [N55189, N42782, N34694, N45794, N18445, N6330...  \n",
       "1      [N31739, N6072, N63045, N23979, N35656, N43353...  \n",
       "2      [N10732, N25792, N7563, N21087, N41087, N5445,...  \n",
       "3      [N45729, N2203, N871, N53880, N41375, N43142, ...  \n",
       "4      [N39074, N14343, N32607, N32320, N22007, N442,...  \n",
       "...                                                  ...  \n",
       "40326  [N56253, N55189, N6233, N11894, N5183, N10414,...  \n",
       "40327  [N20059, N27448, N42458, N2203, N3595, N22058,...  \n",
       "40328  [N51591, N18073, N3653, N49640, N56253, N41049...  \n",
       "40329  [N62285, N43086, N17254, N64775, N24721, N1298...  \n",
       "40330  [N22570, N37720, N52946, N37720, N35022, N5063...  \n",
       "\n",
       "[40331 rows x 4 columns]"
      ]
     },
     "execution_count": 7,
     "metadata": {},
     "output_type": "execute_result"
    }
   ],
   "source": [
    "behav"
   ]
  },
  {
   "cell_type": "markdown",
   "metadata": {},
   "source": [
    "## Create User Article Interaction Table"
   ]
  },
  {
   "cell_type": "code",
   "execution_count": 8,
   "metadata": {},
   "outputs": [],
   "source": [
    "uai = behav.set_index('user_id').history.str.split(' ', expand=True)\n",
    "uai = uai.stack().reset_index(1, drop=True).reset_index(name='article')"
   ]
  },
  {
   "cell_type": "code",
   "execution_count": 9,
   "metadata": {},
   "outputs": [
    {
     "data": {
      "text/html": [
       "<div>\n",
       "<style scoped>\n",
       "    .dataframe tbody tr th:only-of-type {\n",
       "        vertical-align: middle;\n",
       "    }\n",
       "\n",
       "    .dataframe tbody tr th {\n",
       "        vertical-align: top;\n",
       "    }\n",
       "\n",
       "    .dataframe thead th {\n",
       "        text-align: right;\n",
       "    }\n",
       "</style>\n",
       "<table border=\"1\" class=\"dataframe\">\n",
       "  <thead>\n",
       "    <tr style=\"text-align: right;\">\n",
       "      <th></th>\n",
       "      <th>user_id</th>\n",
       "      <th>article</th>\n",
       "    </tr>\n",
       "  </thead>\n",
       "  <tbody>\n",
       "    <tr>\n",
       "      <th>0</th>\n",
       "      <td>U13740</td>\n",
       "      <td>N55189</td>\n",
       "    </tr>\n",
       "    <tr>\n",
       "      <th>1</th>\n",
       "      <td>U13740</td>\n",
       "      <td>N42782</td>\n",
       "    </tr>\n",
       "    <tr>\n",
       "      <th>2</th>\n",
       "      <td>U13740</td>\n",
       "      <td>N34694</td>\n",
       "    </tr>\n",
       "    <tr>\n",
       "      <th>3</th>\n",
       "      <td>U13740</td>\n",
       "      <td>N45794</td>\n",
       "    </tr>\n",
       "    <tr>\n",
       "      <th>4</th>\n",
       "      <td>U13740</td>\n",
       "      <td>N18445</td>\n",
       "    </tr>\n",
       "    <tr>\n",
       "      <th>5</th>\n",
       "      <td>U13740</td>\n",
       "      <td>N63302</td>\n",
       "    </tr>\n",
       "    <tr>\n",
       "      <th>6</th>\n",
       "      <td>U13740</td>\n",
       "      <td>N10414</td>\n",
       "    </tr>\n",
       "    <tr>\n",
       "      <th>7</th>\n",
       "      <td>U13740</td>\n",
       "      <td>N19347</td>\n",
       "    </tr>\n",
       "    <tr>\n",
       "      <th>8</th>\n",
       "      <td>U13740</td>\n",
       "      <td>N31801</td>\n",
       "    </tr>\n",
       "    <tr>\n",
       "      <th>9</th>\n",
       "      <td>U91836</td>\n",
       "      <td>N31739</td>\n",
       "    </tr>\n",
       "  </tbody>\n",
       "</table>\n",
       "</div>"
      ],
      "text/plain": [
       "  user_id article\n",
       "0  U13740  N55189\n",
       "1  U13740  N42782\n",
       "2  U13740  N34694\n",
       "3  U13740  N45794\n",
       "4  U13740  N18445\n",
       "5  U13740  N63302\n",
       "6  U13740  N10414\n",
       "7  U13740  N19347\n",
       "8  U13740  N31801\n",
       "9  U91836  N31739"
      ]
     },
     "execution_count": 9,
     "metadata": {},
     "output_type": "execute_result"
    }
   ],
   "source": [
    "uai.head(10)"
   ]
  },
  {
   "cell_type": "code",
   "execution_count": 10,
   "metadata": {},
   "outputs": [],
   "source": [
    "uai_array = uai.to_numpy()"
   ]
  },
  {
   "cell_type": "code",
   "execution_count": 11,
   "metadata": {},
   "outputs": [],
   "source": [
    "uai_train = []\n",
    "uai_test = []\n",
    "user_init = uai_array[0][0]\n",
    "\n",
    "for row in uai_array:\n",
    "    row = list(row)\n",
    "    user = row[0]\n",
    "    if user == user_init:\n",
    "        uai_train.append(row)\n",
    "        user_init = user\n",
    "        last_row = row\n",
    "    elif user != user_init:\n",
    "        uai_train.pop()\n",
    "        uai_test.append(last_row)\n",
    "        user_init = user\n",
    "        \n",
    "uai_test.append(uai_train.pop())"
   ]
  },
  {
   "cell_type": "code",
   "execution_count": 12,
   "metadata": {},
   "outputs": [
    {
     "data": {
      "text/plain": [
       "[['U13740', 'N31801'],\n",
       " ['U91836', 'N25785'],\n",
       " ['U73700', 'N18870'],\n",
       " ['U34670', 'N51891'],\n",
       " ['U19739', 'N52121']]"
      ]
     },
     "execution_count": 12,
     "metadata": {},
     "output_type": "execute_result"
    }
   ],
   "source": [
    "uai_test[:5]"
   ]
  },
  {
   "cell_type": "code",
   "execution_count": 13,
   "metadata": {},
   "outputs": [],
   "source": [
    "train_articles = [elem[1] for elem in uai_train]\n",
    "test_articles = [elem[1] for elem in uai_test]"
   ]
  },
  {
   "cell_type": "code",
   "execution_count": 14,
   "metadata": {},
   "outputs": [],
   "source": [
    "articles_to_drop = set(test_articles)-set(train_articles)"
   ]
  },
  {
   "cell_type": "code",
   "execution_count": 15,
   "metadata": {},
   "outputs": [],
   "source": [
    "uai_test_red = [ele for ele in uai_test if ele[1] not in articles_to_drop]\n",
    "uai_test_red_articles = [ele[1] for ele in uai_test_red]"
   ]
  },
  {
   "cell_type": "code",
   "execution_count": 16,
   "metadata": {},
   "outputs": [],
   "source": [
    "uai_train_df = pd.DataFrame(uai_train, columns=uai.columns)\n",
    "uai_test_df = pd.DataFrame(uai_test_red, columns=uai.columns)"
   ]
  },
  {
   "cell_type": "code",
   "execution_count": 17,
   "metadata": {},
   "outputs": [],
   "source": [
    "uai_train_df['user_id_code'] = uai_train_df.user_id.astype('category').cat.codes"
   ]
  },
  {
   "cell_type": "code",
   "execution_count": 18,
   "metadata": {},
   "outputs": [],
   "source": [
    "uai_train_df['article_id_code'] = uai_train_df.article.astype('category').cat.codes"
   ]
  },
  {
   "cell_type": "code",
   "execution_count": 19,
   "metadata": {},
   "outputs": [
    {
     "data": {
      "text/html": [
       "<div>\n",
       "<style scoped>\n",
       "    .dataframe tbody tr th:only-of-type {\n",
       "        vertical-align: middle;\n",
       "    }\n",
       "\n",
       "    .dataframe tbody tr th {\n",
       "        vertical-align: top;\n",
       "    }\n",
       "\n",
       "    .dataframe thead th {\n",
       "        text-align: right;\n",
       "    }\n",
       "</style>\n",
       "<table border=\"1\" class=\"dataframe\">\n",
       "  <thead>\n",
       "    <tr style=\"text-align: right;\">\n",
       "      <th></th>\n",
       "      <th>user_id</th>\n",
       "      <th>article</th>\n",
       "      <th>user_id_code</th>\n",
       "      <th>article_id_code</th>\n",
       "    </tr>\n",
       "  </thead>\n",
       "  <tbody>\n",
       "    <tr>\n",
       "      <th>0</th>\n",
       "      <td>U13740</td>\n",
       "      <td>N55189</td>\n",
       "      <td>1810</td>\n",
       "      <td>24230</td>\n",
       "    </tr>\n",
       "    <tr>\n",
       "      <th>1</th>\n",
       "      <td>U13740</td>\n",
       "      <td>N42782</td>\n",
       "      <td>1810</td>\n",
       "      <td>17587</td>\n",
       "    </tr>\n",
       "    <tr>\n",
       "      <th>2</th>\n",
       "      <td>U13740</td>\n",
       "      <td>N34694</td>\n",
       "      <td>1810</td>\n",
       "      <td>13230</td>\n",
       "    </tr>\n",
       "    <tr>\n",
       "      <th>3</th>\n",
       "      <td>U13740</td>\n",
       "      <td>N45794</td>\n",
       "      <td>1810</td>\n",
       "      <td>19224</td>\n",
       "    </tr>\n",
       "    <tr>\n",
       "      <th>4</th>\n",
       "      <td>U13740</td>\n",
       "      <td>N18445</td>\n",
       "      <td>1810</td>\n",
       "      <td>4500</td>\n",
       "    </tr>\n",
       "  </tbody>\n",
       "</table>\n",
       "</div>"
      ],
      "text/plain": [
       "  user_id article  user_id_code  article_id_code\n",
       "0  U13740  N55189          1810            24230\n",
       "1  U13740  N42782          1810            17587\n",
       "2  U13740  N34694          1810            13230\n",
       "3  U13740  N45794          1810            19224\n",
       "4  U13740  N18445          1810             4500"
      ]
     },
     "execution_count": 19,
     "metadata": {},
     "output_type": "execute_result"
    }
   ],
   "source": [
    "uai_train_df.head()"
   ]
  },
  {
   "cell_type": "code",
   "execution_count": 20,
   "metadata": {},
   "outputs": [
    {
     "data": {
      "text/plain": [
       "31415"
      ]
     },
     "execution_count": 20,
     "metadata": {},
     "output_type": "execute_result"
    }
   ],
   "source": [
    "uai_train_df.article.nunique()"
   ]
  },
  {
   "cell_type": "code",
   "execution_count": 21,
   "metadata": {},
   "outputs": [],
   "source": [
    "user_code_dict = pd.Series(uai_train_df.user_id_code.values,\n",
    "                           index=uai_train_df.user_id).to_dict()"
   ]
  },
  {
   "cell_type": "code",
   "execution_count": 22,
   "metadata": {},
   "outputs": [],
   "source": [
    "article_code_dict = pd.Series(uai_train_df.article_id_code.values,\n",
    "                              index=uai_train_df.article).to_dict()"
   ]
  },
  {
   "cell_type": "code",
   "execution_count": 23,
   "metadata": {},
   "outputs": [],
   "source": [
    "uai_test_df['user_id_code'] = [user_code_dict[user] for user in uai_test_df.user_id]"
   ]
  },
  {
   "cell_type": "code",
   "execution_count": 24,
   "metadata": {},
   "outputs": [],
   "source": [
    "uai_test_df['article_id_code'] = [article_code_dict[art] for art in uai_test_df.article]"
   ]
  },
  {
   "cell_type": "code",
   "execution_count": 25,
   "metadata": {},
   "outputs": [
    {
     "data": {
      "text/html": [
       "<div>\n",
       "<style scoped>\n",
       "    .dataframe tbody tr th:only-of-type {\n",
       "        vertical-align: middle;\n",
       "    }\n",
       "\n",
       "    .dataframe tbody tr th {\n",
       "        vertical-align: top;\n",
       "    }\n",
       "\n",
       "    .dataframe thead th {\n",
       "        text-align: right;\n",
       "    }\n",
       "</style>\n",
       "<table border=\"1\" class=\"dataframe\">\n",
       "  <thead>\n",
       "    <tr style=\"text-align: right;\">\n",
       "      <th></th>\n",
       "      <th>user_id</th>\n",
       "      <th>article</th>\n",
       "      <th>user_id_code</th>\n",
       "      <th>article_id_code</th>\n",
       "    </tr>\n",
       "  </thead>\n",
       "  <tbody>\n",
       "    <tr>\n",
       "      <th>0</th>\n",
       "      <td>U13740</td>\n",
       "      <td>N31801</td>\n",
       "      <td>1810</td>\n",
       "      <td>11677</td>\n",
       "    </tr>\n",
       "    <tr>\n",
       "      <th>1</th>\n",
       "      <td>U91836</td>\n",
       "      <td>N25785</td>\n",
       "      <td>39005</td>\n",
       "      <td>8499</td>\n",
       "    </tr>\n",
       "    <tr>\n",
       "      <th>2</th>\n",
       "      <td>U73700</td>\n",
       "      <td>N18870</td>\n",
       "      <td>30277</td>\n",
       "      <td>4749</td>\n",
       "    </tr>\n",
       "    <tr>\n",
       "      <th>3</th>\n",
       "      <td>U34670</td>\n",
       "      <td>N51891</td>\n",
       "      <td>11801</td>\n",
       "      <td>22468</td>\n",
       "    </tr>\n",
       "    <tr>\n",
       "      <th>4</th>\n",
       "      <td>U19739</td>\n",
       "      <td>N52121</td>\n",
       "      <td>4695</td>\n",
       "      <td>22601</td>\n",
       "    </tr>\n",
       "  </tbody>\n",
       "</table>\n",
       "</div>"
      ],
      "text/plain": [
       "  user_id article  user_id_code  article_id_code\n",
       "0  U13740  N31801          1810            11677\n",
       "1  U91836  N25785         39005             8499\n",
       "2  U73700  N18870         30277             4749\n",
       "3  U34670  N51891         11801            22468\n",
       "4  U19739  N52121          4695            22601"
      ]
     },
     "execution_count": 25,
     "metadata": {},
     "output_type": "execute_result"
    }
   ],
   "source": [
    "uai_test_df.head()"
   ]
  },
  {
   "cell_type": "code",
   "execution_count": 26,
   "metadata": {},
   "outputs": [],
   "source": [
    "uai_train_df.to_csv(\"small_train.csv\", index=False)"
   ]
  },
  {
   "cell_type": "code",
   "execution_count": 27,
   "metadata": {},
   "outputs": [],
   "source": [
    "uai_test_df.to_csv(\"small_test.csv\", index=False)"
   ]
  },
  {
   "cell_type": "markdown",
   "metadata": {},
   "source": [
    "## Create Interaction Matrix"
   ]
  },
  {
   "cell_type": "code",
   "execution_count": 28,
   "metadata": {},
   "outputs": [],
   "source": [
    "train_filename = \"small_train.csv\""
   ]
  },
  {
   "cell_type": "code",
   "execution_count": 29,
   "metadata": {},
   "outputs": [],
   "source": [
    "num_users, num_articles = 0, 0\n",
    "with open(train_filename, \"r\") as f:\n",
    "    header = f.readline()\n",
    "    line = f.readline()\n",
    "    while line != None and line != \"\":\n",
    "        line_list = line.split(\",\")\n",
    "        u, i = int(line_list[2]), int(line_list[3])\n",
    "        num_users = max(num_users, u)\n",
    "        num_articles = max(num_articles, i)\n",
    "        line = f.readline()"
   ]
  },
  {
   "cell_type": "code",
   "execution_count": 30,
   "metadata": {},
   "outputs": [
    {
     "data": {
      "text/plain": [
       "(40330, 31414)"
      ]
     },
     "execution_count": 30,
     "metadata": {},
     "output_type": "execute_result"
    }
   ],
   "source": [
    "num_users, num_articles"
   ]
  },
  {
   "cell_type": "code",
   "execution_count": 31,
   "metadata": {},
   "outputs": [],
   "source": [
    "mat = sp.dok_matrix((num_users+1, num_articles+1), dtype=np.float32)\n",
    "\n",
    "with open(train_filename, \"r\") as f:\n",
    "    header = f.readline()\n",
    "    line = f.readline()\n",
    "    while line != None and line != \"\":\n",
    "        line_list = line.split(\",\")\n",
    "        user, article = int(line_list[2]), int(line_list[3])\n",
    "        mat[user, article] = 1.0\n",
    "        line = f.readline()"
   ]
  },
  {
   "cell_type": "markdown",
   "metadata": {},
   "source": [
    "## Create Test Negative File"
   ]
  },
  {
   "cell_type": "code",
   "execution_count": 32,
   "metadata": {},
   "outputs": [
    {
     "data": {
      "text/html": [
       "<div>\n",
       "<style scoped>\n",
       "    .dataframe tbody tr th:only-of-type {\n",
       "        vertical-align: middle;\n",
       "    }\n",
       "\n",
       "    .dataframe tbody tr th {\n",
       "        vertical-align: top;\n",
       "    }\n",
       "\n",
       "    .dataframe thead th {\n",
       "        text-align: right;\n",
       "    }\n",
       "</style>\n",
       "<table border=\"1\" class=\"dataframe\">\n",
       "  <thead>\n",
       "    <tr style=\"text-align: right;\">\n",
       "      <th></th>\n",
       "      <th>user_id</th>\n",
       "      <th>article</th>\n",
       "      <th>user_id_code</th>\n",
       "      <th>article_id_code</th>\n",
       "    </tr>\n",
       "  </thead>\n",
       "  <tbody>\n",
       "    <tr>\n",
       "      <th>0</th>\n",
       "      <td>U13740</td>\n",
       "      <td>N31801</td>\n",
       "      <td>1810</td>\n",
       "      <td>11677</td>\n",
       "    </tr>\n",
       "    <tr>\n",
       "      <th>1</th>\n",
       "      <td>U91836</td>\n",
       "      <td>N25785</td>\n",
       "      <td>39005</td>\n",
       "      <td>8499</td>\n",
       "    </tr>\n",
       "    <tr>\n",
       "      <th>2</th>\n",
       "      <td>U73700</td>\n",
       "      <td>N18870</td>\n",
       "      <td>30277</td>\n",
       "      <td>4749</td>\n",
       "    </tr>\n",
       "    <tr>\n",
       "      <th>3</th>\n",
       "      <td>U34670</td>\n",
       "      <td>N51891</td>\n",
       "      <td>11801</td>\n",
       "      <td>22468</td>\n",
       "    </tr>\n",
       "    <tr>\n",
       "      <th>4</th>\n",
       "      <td>U19739</td>\n",
       "      <td>N52121</td>\n",
       "      <td>4695</td>\n",
       "      <td>22601</td>\n",
       "    </tr>\n",
       "    <tr>\n",
       "      <th>...</th>\n",
       "      <td>...</td>\n",
       "      <td>...</td>\n",
       "      <td>...</td>\n",
       "      <td>...</td>\n",
       "    </tr>\n",
       "    <tr>\n",
       "      <th>39841</th>\n",
       "      <td>U36425</td>\n",
       "      <td>N38783</td>\n",
       "      <td>12622</td>\n",
       "      <td>15460</td>\n",
       "    </tr>\n",
       "    <tr>\n",
       "      <th>39842</th>\n",
       "      <td>U6794</td>\n",
       "      <td>N47847</td>\n",
       "      <td>27522</td>\n",
       "      <td>20329</td>\n",
       "    </tr>\n",
       "    <tr>\n",
       "      <th>39843</th>\n",
       "      <td>U23127</td>\n",
       "      <td>N13429</td>\n",
       "      <td>6303</td>\n",
       "      <td>1810</td>\n",
       "    </tr>\n",
       "    <tr>\n",
       "      <th>39844</th>\n",
       "      <td>U43157</td>\n",
       "      <td>N14006</td>\n",
       "      <td>15721</td>\n",
       "      <td>2107</td>\n",
       "    </tr>\n",
       "    <tr>\n",
       "      <th>39845</th>\n",
       "      <td>U66493</td>\n",
       "      <td>N56889</td>\n",
       "      <td>26834</td>\n",
       "      <td>25122</td>\n",
       "    </tr>\n",
       "  </tbody>\n",
       "</table>\n",
       "<p>39846 rows × 4 columns</p>\n",
       "</div>"
      ],
      "text/plain": [
       "      user_id article  user_id_code  article_id_code\n",
       "0      U13740  N31801          1810            11677\n",
       "1      U91836  N25785         39005             8499\n",
       "2      U73700  N18870         30277             4749\n",
       "3      U34670  N51891         11801            22468\n",
       "4      U19739  N52121          4695            22601\n",
       "...       ...     ...           ...              ...\n",
       "39841  U36425  N38783         12622            15460\n",
       "39842   U6794  N47847         27522            20329\n",
       "39843  U23127  N13429          6303             1810\n",
       "39844  U43157  N14006         15721             2107\n",
       "39845  U66493  N56889         26834            25122\n",
       "\n",
       "[39846 rows x 4 columns]"
      ]
     },
     "execution_count": 32,
     "metadata": {},
     "output_type": "execute_result"
    }
   ],
   "source": [
    "uai_test_df"
   ]
  },
  {
   "cell_type": "code",
   "execution_count": 33,
   "metadata": {},
   "outputs": [
    {
     "data": {
      "text/plain": [
       "[(1810, 11677), (39005, 8499), (30277, 4749), (11801, 22468), (4695, 22601)]"
      ]
     },
     "execution_count": 33,
     "metadata": {},
     "output_type": "execute_result"
    }
   ],
   "source": [
    "ua_tuples = list(zip(uai_test_df.user_id_code, uai_test_df.article_id_code))\n",
    "ua_tuples[:5]"
   ]
  },
  {
   "cell_type": "code",
   "execution_count": 34,
   "metadata": {},
   "outputs": [],
   "source": [
    "num_negatives = 99\n",
    "num_articles = uai_train_df.article.nunique()"
   ]
  },
  {
   "cell_type": "code",
   "execution_count": 35,
   "metadata": {},
   "outputs": [],
   "source": [
    "complete_list = []\n",
    "for u, i in ua_tuples:\n",
    "    negatives = []\n",
    "    for t in range(num_negatives):\n",
    "        j = np.random.randint(num_articles)\n",
    "        while (u, j) in mat.keys():\n",
    "            j = np.random.randint(num_articles)\n",
    "        negatives.append(j)\n",
    "    complete_list.append(negatives)"
   ]
  },
  {
   "cell_type": "code",
   "execution_count": 36,
   "metadata": {},
   "outputs": [
    {
     "data": {
      "text/plain": [
       "(39846, 39846, 99)"
      ]
     },
     "execution_count": 36,
     "metadata": {},
     "output_type": "execute_result"
    }
   ],
   "source": [
    "len(ua_tuples), len(complete_list), len(complete_list[0])"
   ]
  },
  {
   "cell_type": "code",
   "execution_count": 37,
   "metadata": {},
   "outputs": [],
   "source": [
    "output = complete_list[:]"
   ]
  },
  {
   "cell_type": "code",
   "execution_count": 38,
   "metadata": {},
   "outputs": [],
   "source": [
    "for i in range(len(ua_tuples)):\n",
    "    output[i].insert(0, ua_tuples[i])"
   ]
  },
  {
   "cell_type": "code",
   "execution_count": 39,
   "metadata": {},
   "outputs": [],
   "source": [
    "with open('small_test_negatives.tsv', 'w') as f:\n",
    "    for line in output:\n",
    "        line_str = '\\t'.join(str(ele) for ele in line) + \"\\n\"\n",
    "        f.write(line_str)"
   ]
  }
 ],
 "metadata": {
  "kernelspec": {
   "display_name": "Python [conda env:nf] *",
   "language": "python",
   "name": "conda-env-nf-py"
  },
  "language_info": {
   "codemirror_mode": {
    "name": "ipython",
    "version": 3
   },
   "file_extension": ".py",
   "mimetype": "text/x-python",
   "name": "python",
   "nbconvert_exporter": "python",
   "pygments_lexer": "ipython3",
   "version": "3.6.10"
  }
 },
 "nbformat": 4,
 "nbformat_minor": 4
}
