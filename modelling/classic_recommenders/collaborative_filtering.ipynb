{
 "cells": [
  {
   "cell_type": "markdown",
   "metadata": {},
   "source": [
    "# Matrix Factorization for a small subset"
   ]
  },
  {
   "cell_type": "markdown",
   "metadata": {},
   "source": [
    "In this notebook, we're going to build our first recommender system, which follows a **collaborative filtering approach** and only takes into account all the readers and all the articles in a small subset of our data. The goal with this **matrix factorization technique** is to 'learn' two embedding matrices with the respective size of the numbers of readers/articles and an arbitrarily chosen (and thus tunable) size of latent factors. \n",
    "\n",
    "Thus, if we had 10 readers, 5 articles and were to assume we needed 3 latent factors (which could represent implicit, but substantive differences in our reader/article-base), our method will calculate two matrices (a 10 by 3 for the readers and a 3 by 5 for the articles) whose scalar products yield a new matrix the size of our original one (10 x 5), which *approximates* the original matrix best. This optimization problem is typically solved by stochastic gradient descent (although there are, of course, other possibilities) and from a once extremely sparse matrix (obviously, ervery single reader only reads/clicks a tiny fraction of the articles available to us), we get a densely populated table which now contains information on wether some reader might be more or less inclined to read certain articles. \n",
    "\n",
    "The approach might sound a bit dry and mathematic at first, but with the embeddings we actually learn some lower dimensional representations of our readers/articles and can hereby determine *resemblances in preferences*. If you ever wondered how amazon or google knew what you were interested in before you even searched for it: here you go!"
   ]
  },
  {
   "cell_type": "markdown",
   "metadata": {},
   "source": [
    "## Python Imports"
   ]
  },
  {
   "cell_type": "code",
   "execution_count": 61,
   "metadata": {},
   "outputs": [],
   "source": [
    "import pandas as pd\n",
    "import numpy as np\n",
    "\n",
    "from sklearn.model_selection import train_test_split\n",
    "from scipy.sparse.linalg import svds\n",
    "\n",
    "from sklearn.preprocessing import binarize\n",
    "from sklearn.preprocessing import normalize"
   ]
  },
  {
   "cell_type": "markdown",
   "metadata": {},
   "source": [
    "## Data Import"
   ]
  },
  {
   "cell_type": "code",
   "execution_count": 2,
   "metadata": {},
   "outputs": [],
   "source": [
    "behaviors = pd.read_csv(\"../../data/mind_small_train/behaviors_processed.csv\")\n",
    "news = pd.read_csv(\"../../data/mind_small_train/news_processed.csv\")"
   ]
  },
  {
   "cell_type": "code",
   "execution_count": 3,
   "metadata": {},
   "outputs": [
    {
     "data": {
      "text/html": [
       "<div>\n",
       "<style scoped>\n",
       "    .dataframe tbody tr th:only-of-type {\n",
       "        vertical-align: middle;\n",
       "    }\n",
       "\n",
       "    .dataframe tbody tr th {\n",
       "        vertical-align: top;\n",
       "    }\n",
       "\n",
       "    .dataframe thead th {\n",
       "        text-align: right;\n",
       "    }\n",
       "</style>\n",
       "<table border=\"1\" class=\"dataframe\">\n",
       "  <thead>\n",
       "    <tr style=\"text-align: right;\">\n",
       "      <th></th>\n",
       "      <th>impression_id</th>\n",
       "      <th>user_id</th>\n",
       "      <th>time</th>\n",
       "      <th>history</th>\n",
       "      <th>labels</th>\n",
       "    </tr>\n",
       "  </thead>\n",
       "  <tbody>\n",
       "    <tr>\n",
       "      <th>0</th>\n",
       "      <td>1</td>\n",
       "      <td>U13740</td>\n",
       "      <td>11/11/2019 9:05:58 AM</td>\n",
       "      <td>N55189 N42782 N34694 N45794 N18445 N63302 N104...</td>\n",
       "      <td>N55689-1 N35729-0</td>\n",
       "    </tr>\n",
       "    <tr>\n",
       "      <th>1</th>\n",
       "      <td>2</td>\n",
       "      <td>U91836</td>\n",
       "      <td>11/12/2019 6:11:30 PM</td>\n",
       "      <td>N31739 N6072 N63045 N23979 N35656 N43353 N8129...</td>\n",
       "      <td>N20678-0 N39317-0 N58114-0 N20495-0 N42977-0 N...</td>\n",
       "    </tr>\n",
       "    <tr>\n",
       "      <th>2</th>\n",
       "      <td>3</td>\n",
       "      <td>U73700</td>\n",
       "      <td>11/14/2019 7:01:48 AM</td>\n",
       "      <td>N10732 N25792 N7563 N21087 N41087 N5445 N60384...</td>\n",
       "      <td>N50014-0 N23877-0 N35389-0 N49712-0 N16844-0 N...</td>\n",
       "    </tr>\n",
       "  </tbody>\n",
       "</table>\n",
       "</div>"
      ],
      "text/plain": [
       "   impression_id user_id                   time  \\\n",
       "0              1  U13740  11/11/2019 9:05:58 AM   \n",
       "1              2  U91836  11/12/2019 6:11:30 PM   \n",
       "2              3  U73700  11/14/2019 7:01:48 AM   \n",
       "\n",
       "                                             history  \\\n",
       "0  N55189 N42782 N34694 N45794 N18445 N63302 N104...   \n",
       "1  N31739 N6072 N63045 N23979 N35656 N43353 N8129...   \n",
       "2  N10732 N25792 N7563 N21087 N41087 N5445 N60384...   \n",
       "\n",
       "                                              labels  \n",
       "0                                  N55689-1 N35729-0  \n",
       "1  N20678-0 N39317-0 N58114-0 N20495-0 N42977-0 N...  \n",
       "2  N50014-0 N23877-0 N35389-0 N49712-0 N16844-0 N...  "
      ]
     },
     "execution_count": 3,
     "metadata": {},
     "output_type": "execute_result"
    }
   ],
   "source": [
    "behaviors.drop_duplicates(subset=\"user_id\", inplace=True)\n",
    "behaviors.head(3)"
   ]
  },
  {
   "cell_type": "code",
   "execution_count": 4,
   "metadata": {},
   "outputs": [
    {
     "data": {
      "text/html": [
       "<div>\n",
       "<style scoped>\n",
       "    .dataframe tbody tr th:only-of-type {\n",
       "        vertical-align: middle;\n",
       "    }\n",
       "\n",
       "    .dataframe tbody tr th {\n",
       "        vertical-align: top;\n",
       "    }\n",
       "\n",
       "    .dataframe thead th {\n",
       "        text-align: right;\n",
       "    }\n",
       "</style>\n",
       "<table border=\"1\" class=\"dataframe\">\n",
       "  <thead>\n",
       "    <tr style=\"text-align: right;\">\n",
       "      <th></th>\n",
       "      <th>article_id</th>\n",
       "      <th>category</th>\n",
       "      <th>subcategory</th>\n",
       "      <th>title</th>\n",
       "      <th>abstract</th>\n",
       "      <th>url</th>\n",
       "      <th>title_entities</th>\n",
       "      <th>abstract_entities</th>\n",
       "    </tr>\n",
       "  </thead>\n",
       "  <tbody>\n",
       "    <tr>\n",
       "      <th>0</th>\n",
       "      <td>N55528</td>\n",
       "      <td>lifestyle</td>\n",
       "      <td>lifestyleroyals</td>\n",
       "      <td>The Brands Queen Elizabeth, Prince Charles, an...</td>\n",
       "      <td>Shop the notebooks, jackets, and more that the...</td>\n",
       "      <td>https://assets.msn.com/labs/mind/AAGH0ET.html</td>\n",
       "      <td>[{\"Label\": \"Prince Philip, Duke of Edinburgh\",...</td>\n",
       "      <td>[]</td>\n",
       "    </tr>\n",
       "    <tr>\n",
       "      <th>1</th>\n",
       "      <td>N19639</td>\n",
       "      <td>health</td>\n",
       "      <td>weightloss</td>\n",
       "      <td>50 Worst Habits For Belly Fat</td>\n",
       "      <td>These seemingly harmless habits are holding yo...</td>\n",
       "      <td>https://assets.msn.com/labs/mind/AAB19MK.html</td>\n",
       "      <td>[{\"Label\": \"Adipose tissue\", \"Type\": \"C\", \"Wik...</td>\n",
       "      <td>[{\"Label\": \"Adipose tissue\", \"Type\": \"C\", \"Wik...</td>\n",
       "    </tr>\n",
       "    <tr>\n",
       "      <th>2</th>\n",
       "      <td>N61837</td>\n",
       "      <td>news</td>\n",
       "      <td>newsworld</td>\n",
       "      <td>The Cost of Trump's Aid Freeze in the Trenches...</td>\n",
       "      <td>Lt. Ivan Molchanets peeked over a parapet of s...</td>\n",
       "      <td>https://assets.msn.com/labs/mind/AAJgNsz.html</td>\n",
       "      <td>[]</td>\n",
       "      <td>[{\"Label\": \"Ukraine\", \"Type\": \"G\", \"WikidataId...</td>\n",
       "    </tr>\n",
       "  </tbody>\n",
       "</table>\n",
       "</div>"
      ],
      "text/plain": [
       "  article_id   category      subcategory  \\\n",
       "0     N55528  lifestyle  lifestyleroyals   \n",
       "1     N19639     health       weightloss   \n",
       "2     N61837       news        newsworld   \n",
       "\n",
       "                                               title  \\\n",
       "0  The Brands Queen Elizabeth, Prince Charles, an...   \n",
       "1                      50 Worst Habits For Belly Fat   \n",
       "2  The Cost of Trump's Aid Freeze in the Trenches...   \n",
       "\n",
       "                                            abstract  \\\n",
       "0  Shop the notebooks, jackets, and more that the...   \n",
       "1  These seemingly harmless habits are holding yo...   \n",
       "2  Lt. Ivan Molchanets peeked over a parapet of s...   \n",
       "\n",
       "                                             url  \\\n",
       "0  https://assets.msn.com/labs/mind/AAGH0ET.html   \n",
       "1  https://assets.msn.com/labs/mind/AAB19MK.html   \n",
       "2  https://assets.msn.com/labs/mind/AAJgNsz.html   \n",
       "\n",
       "                                      title_entities  \\\n",
       "0  [{\"Label\": \"Prince Philip, Duke of Edinburgh\",...   \n",
       "1  [{\"Label\": \"Adipose tissue\", \"Type\": \"C\", \"Wik...   \n",
       "2                                                 []   \n",
       "\n",
       "                                   abstract_entities  \n",
       "0                                                 []  \n",
       "1  [{\"Label\": \"Adipose tissue\", \"Type\": \"C\", \"Wik...  \n",
       "2  [{\"Label\": \"Ukraine\", \"Type\": \"G\", \"WikidataId...  "
      ]
     },
     "execution_count": 4,
     "metadata": {},
     "output_type": "execute_result"
    }
   ],
   "source": [
    "news.head(3)"
   ]
  },
  {
   "cell_type": "markdown",
   "metadata": {},
   "source": [
    "## Data preparation for the model"
   ]
  },
  {
   "cell_type": "markdown",
   "metadata": {},
   "source": [
    "### Restrict data size and create user-article table"
   ]
  },
  {
   "cell_type": "markdown",
   "metadata": {},
   "source": [
    "In order to reduce computing time, we want to reduce our dataset to the first 10,000 impressions for this task:"
   ]
  },
  {
   "cell_type": "code",
   "execution_count": 5,
   "metadata": {},
   "outputs": [],
   "source": [
    "behav_part_1 = behaviors.iloc[:10000, :]"
   ]
  },
  {
   "cell_type": "code",
   "execution_count": 6,
   "metadata": {},
   "outputs": [
    {
     "data": {
      "text/plain": [
       "(10000, 5)"
      ]
     },
     "execution_count": 6,
     "metadata": {},
     "output_type": "execute_result"
    }
   ],
   "source": [
    "behav_part_1.shape"
   ]
  },
  {
   "cell_type": "markdown",
   "metadata": {},
   "source": [
    "Create a dictonary that maps impression IDs to corresponding user IDs for later use in evaluation."
   ]
  },
  {
   "cell_type": "code",
   "execution_count": 7,
   "metadata": {},
   "outputs": [],
   "source": [
    "id_dict = pd.Series(behav_part_1.user_id.values,\n",
    "                    index=behav_part_1.impression_id\n",
    "                   ).to_dict()"
   ]
  },
  {
   "cell_type": "markdown",
   "metadata": {},
   "source": [
    "Create table which lists all the user-article pairs and labels them as read."
   ]
  },
  {
   "cell_type": "code",
   "execution_count": 8,
   "metadata": {},
   "outputs": [],
   "source": [
    "x = behav_part_1.set_index('user_id').history.str.split(' ', expand =True)\n",
    "x = x.stack().reset_index(1, drop=True).reset_index(name='article')\n",
    "behaviors_part_1_set = x"
   ]
  },
  {
   "cell_type": "code",
   "execution_count": 9,
   "metadata": {},
   "outputs": [],
   "source": [
    "behaviors_part_1_set['read'] = 1"
   ]
  },
  {
   "cell_type": "code",
   "execution_count": 10,
   "metadata": {},
   "outputs": [
    {
     "data": {
      "text/html": [
       "<div>\n",
       "<style scoped>\n",
       "    .dataframe tbody tr th:only-of-type {\n",
       "        vertical-align: middle;\n",
       "    }\n",
       "\n",
       "    .dataframe tbody tr th {\n",
       "        vertical-align: top;\n",
       "    }\n",
       "\n",
       "    .dataframe thead th {\n",
       "        text-align: right;\n",
       "    }\n",
       "</style>\n",
       "<table border=\"1\" class=\"dataframe\">\n",
       "  <thead>\n",
       "    <tr style=\"text-align: right;\">\n",
       "      <th></th>\n",
       "      <th>user_id</th>\n",
       "      <th>article</th>\n",
       "      <th>read</th>\n",
       "    </tr>\n",
       "  </thead>\n",
       "  <tbody>\n",
       "    <tr>\n",
       "      <th>0</th>\n",
       "      <td>U13740</td>\n",
       "      <td>N55189</td>\n",
       "      <td>1</td>\n",
       "    </tr>\n",
       "    <tr>\n",
       "      <th>1</th>\n",
       "      <td>U13740</td>\n",
       "      <td>N42782</td>\n",
       "      <td>1</td>\n",
       "    </tr>\n",
       "    <tr>\n",
       "      <th>2</th>\n",
       "      <td>U13740</td>\n",
       "      <td>N34694</td>\n",
       "      <td>1</td>\n",
       "    </tr>\n",
       "    <tr>\n",
       "      <th>3</th>\n",
       "      <td>U13740</td>\n",
       "      <td>N45794</td>\n",
       "      <td>1</td>\n",
       "    </tr>\n",
       "    <tr>\n",
       "      <th>4</th>\n",
       "      <td>U13740</td>\n",
       "      <td>N18445</td>\n",
       "      <td>1</td>\n",
       "    </tr>\n",
       "  </tbody>\n",
       "</table>\n",
       "</div>"
      ],
      "text/plain": [
       "  user_id article  read\n",
       "0  U13740  N55189     1\n",
       "1  U13740  N42782     1\n",
       "2  U13740  N34694     1\n",
       "3  U13740  N45794     1\n",
       "4  U13740  N18445     1"
      ]
     },
     "execution_count": 10,
     "metadata": {},
     "output_type": "execute_result"
    }
   ],
   "source": [
    "behaviors_part_1_set.head()"
   ]
  },
  {
   "cell_type": "markdown",
   "metadata": {},
   "source": [
    "### Train Test Split"
   ]
  },
  {
   "cell_type": "markdown",
   "metadata": {},
   "source": [
    "Next we will perform the train-test-split on the user-article table. Then we want to make sure we have a good overlap of the same users and articles in the two splits. This is important for the evaluation of the model later on, as we can only give recommendations for users the model already saw in training. "
   ]
  },
  {
   "cell_type": "code",
   "execution_count": 11,
   "metadata": {},
   "outputs": [],
   "source": [
    "train, test = train_test_split(behaviors_part_1_set, \n",
    "                               test_size=0.5, \n",
    "                               random_state=420)"
   ]
  },
  {
   "cell_type": "code",
   "execution_count": 12,
   "metadata": {},
   "outputs": [
    {
     "name": "stdout",
     "output_type": "stream",
     "text": [
      "User ID overlap in train and test split:     9519 / 10000 \n",
      "Article ID overlap in train and test split:  11490 / 21798\n"
     ]
    }
   ],
   "source": [
    "user_intersection = set(train.user_id) & set(test.user_id)\n",
    "article_intersection = set(train.article) & set(test.article)\n",
    "print(\"User ID overlap in train and test split:    \",\n",
    "      f\"{len(user_intersection)} / {behaviors_part_1_set.user_id.nunique()}\",\n",
    "      \"\\n\"\n",
    "      \"Article ID overlap in train and test split: \",\n",
    "      f\"{len(article_intersection)} / {behaviors_part_1_set.article.nunique()}\")   "
   ]
  },
  {
   "cell_type": "markdown",
   "metadata": {},
   "source": [
    "As we can see from the numbers above we have a sufficient amount of the same users and articles in both of the splits."
   ]
  },
  {
   "cell_type": "markdown",
   "metadata": {},
   "source": [
    "### Create Pivot Table"
   ]
  },
  {
   "cell_type": "markdown",
   "metadata": {},
   "source": [
    "Now we create the user-article matrix from our train set, which we then approximate by singular value decomposition aka matrix factorization."
   ]
  },
  {
   "cell_type": "code",
   "execution_count": 31,
   "metadata": {},
   "outputs": [],
   "source": [
    "original_matrix = train.pivot_table(index='user_id', \n",
    "                                    columns='article',\n",
    "                                    values='read',\n",
    "                                    fill_value=0,\n",
    "                                 #   aggfunc=np.sum\n",
    "                                   )"
   ]
  },
  {
   "cell_type": "code",
   "execution_count": 32,
   "metadata": {},
   "outputs": [
    {
     "data": {
      "text/html": [
       "<div>\n",
       "<style scoped>\n",
       "    .dataframe tbody tr th:only-of-type {\n",
       "        vertical-align: middle;\n",
       "    }\n",
       "\n",
       "    .dataframe tbody tr th {\n",
       "        vertical-align: top;\n",
       "    }\n",
       "\n",
       "    .dataframe thead th {\n",
       "        text-align: right;\n",
       "    }\n",
       "</style>\n",
       "<table border=\"1\" class=\"dataframe\">\n",
       "  <thead>\n",
       "    <tr style=\"text-align: right;\">\n",
       "      <th>article</th>\n",
       "      <th>N1001</th>\n",
       "      <th>N10016</th>\n",
       "      <th>N10021</th>\n",
       "      <th>N10024</th>\n",
       "      <th>N10025</th>\n",
       "      <th>N10034</th>\n",
       "      <th>N10040</th>\n",
       "      <th>N10041</th>\n",
       "      <th>N10047</th>\n",
       "      <th>N10048</th>\n",
       "      <th>...</th>\n",
       "      <th>N9955</th>\n",
       "      <th>N9958</th>\n",
       "      <th>N996</th>\n",
       "      <th>N9969</th>\n",
       "      <th>N997</th>\n",
       "      <th>N9973</th>\n",
       "      <th>N9974</th>\n",
       "      <th>N9977</th>\n",
       "      <th>N9978</th>\n",
       "      <th>N9992</th>\n",
       "    </tr>\n",
       "    <tr>\n",
       "      <th>user_id</th>\n",
       "      <th></th>\n",
       "      <th></th>\n",
       "      <th></th>\n",
       "      <th></th>\n",
       "      <th></th>\n",
       "      <th></th>\n",
       "      <th></th>\n",
       "      <th></th>\n",
       "      <th></th>\n",
       "      <th></th>\n",
       "      <th></th>\n",
       "      <th></th>\n",
       "      <th></th>\n",
       "      <th></th>\n",
       "      <th></th>\n",
       "      <th></th>\n",
       "      <th></th>\n",
       "      <th></th>\n",
       "      <th></th>\n",
       "      <th></th>\n",
       "      <th></th>\n",
       "    </tr>\n",
       "  </thead>\n",
       "  <tbody>\n",
       "    <tr>\n",
       "      <th>U10022</th>\n",
       "      <td>0.0</td>\n",
       "      <td>0.0</td>\n",
       "      <td>0.0</td>\n",
       "      <td>0.0</td>\n",
       "      <td>0.0</td>\n",
       "      <td>0.0</td>\n",
       "      <td>0.0</td>\n",
       "      <td>0.0</td>\n",
       "      <td>0.0</td>\n",
       "      <td>0.0</td>\n",
       "      <td>...</td>\n",
       "      <td>0.0</td>\n",
       "      <td>0.0</td>\n",
       "      <td>0.0</td>\n",
       "      <td>0.0</td>\n",
       "      <td>0.0</td>\n",
       "      <td>0.0</td>\n",
       "      <td>0.0</td>\n",
       "      <td>0.0</td>\n",
       "      <td>0.0</td>\n",
       "      <td>0.0</td>\n",
       "    </tr>\n",
       "    <tr>\n",
       "      <th>U10043</th>\n",
       "      <td>0.0</td>\n",
       "      <td>0.0</td>\n",
       "      <td>0.0</td>\n",
       "      <td>0.0</td>\n",
       "      <td>0.0</td>\n",
       "      <td>0.0</td>\n",
       "      <td>0.0</td>\n",
       "      <td>0.0</td>\n",
       "      <td>0.0</td>\n",
       "      <td>0.0</td>\n",
       "      <td>...</td>\n",
       "      <td>0.0</td>\n",
       "      <td>0.0</td>\n",
       "      <td>0.0</td>\n",
       "      <td>0.0</td>\n",
       "      <td>0.0</td>\n",
       "      <td>0.0</td>\n",
       "      <td>0.0</td>\n",
       "      <td>0.0</td>\n",
       "      <td>0.0</td>\n",
       "      <td>0.0</td>\n",
       "    </tr>\n",
       "    <tr>\n",
       "      <th>U10045</th>\n",
       "      <td>0.0</td>\n",
       "      <td>0.0</td>\n",
       "      <td>0.0</td>\n",
       "      <td>0.0</td>\n",
       "      <td>0.0</td>\n",
       "      <td>0.0</td>\n",
       "      <td>0.0</td>\n",
       "      <td>0.0</td>\n",
       "      <td>0.0</td>\n",
       "      <td>0.0</td>\n",
       "      <td>...</td>\n",
       "      <td>0.0</td>\n",
       "      <td>0.0</td>\n",
       "      <td>0.0</td>\n",
       "      <td>0.0</td>\n",
       "      <td>0.0</td>\n",
       "      <td>0.0</td>\n",
       "      <td>0.0</td>\n",
       "      <td>0.0</td>\n",
       "      <td>0.0</td>\n",
       "      <td>0.0</td>\n",
       "    </tr>\n",
       "    <tr>\n",
       "      <th>U10059</th>\n",
       "      <td>0.0</td>\n",
       "      <td>0.0</td>\n",
       "      <td>0.0</td>\n",
       "      <td>0.0</td>\n",
       "      <td>0.0</td>\n",
       "      <td>0.0</td>\n",
       "      <td>0.0</td>\n",
       "      <td>0.0</td>\n",
       "      <td>0.0</td>\n",
       "      <td>0.0</td>\n",
       "      <td>...</td>\n",
       "      <td>0.0</td>\n",
       "      <td>0.0</td>\n",
       "      <td>0.0</td>\n",
       "      <td>0.0</td>\n",
       "      <td>0.0</td>\n",
       "      <td>0.0</td>\n",
       "      <td>0.0</td>\n",
       "      <td>0.0</td>\n",
       "      <td>0.0</td>\n",
       "      <td>0.0</td>\n",
       "    </tr>\n",
       "    <tr>\n",
       "      <th>U10062</th>\n",
       "      <td>0.0</td>\n",
       "      <td>0.0</td>\n",
       "      <td>0.0</td>\n",
       "      <td>0.0</td>\n",
       "      <td>0.0</td>\n",
       "      <td>0.0</td>\n",
       "      <td>0.0</td>\n",
       "      <td>0.0</td>\n",
       "      <td>0.0</td>\n",
       "      <td>0.0</td>\n",
       "      <td>...</td>\n",
       "      <td>0.0</td>\n",
       "      <td>0.0</td>\n",
       "      <td>0.0</td>\n",
       "      <td>0.0</td>\n",
       "      <td>0.0</td>\n",
       "      <td>0.0</td>\n",
       "      <td>0.0</td>\n",
       "      <td>0.0</td>\n",
       "      <td>0.0</td>\n",
       "      <td>0.0</td>\n",
       "    </tr>\n",
       "  </tbody>\n",
       "</table>\n",
       "<p>5 rows × 16597 columns</p>\n",
       "</div>"
      ],
      "text/plain": [
       "article  N1001  N10016  N10021  N10024  N10025  N10034  N10040  N10041  \\\n",
       "user_id                                                                  \n",
       "U10022     0.0     0.0     0.0     0.0     0.0     0.0     0.0     0.0   \n",
       "U10043     0.0     0.0     0.0     0.0     0.0     0.0     0.0     0.0   \n",
       "U10045     0.0     0.0     0.0     0.0     0.0     0.0     0.0     0.0   \n",
       "U10059     0.0     0.0     0.0     0.0     0.0     0.0     0.0     0.0   \n",
       "U10062     0.0     0.0     0.0     0.0     0.0     0.0     0.0     0.0   \n",
       "\n",
       "article  N10047  N10048  ...  N9955  N9958  N996  N9969  N997  N9973  N9974  \\\n",
       "user_id                  ...                                                  \n",
       "U10022      0.0     0.0  ...    0.0    0.0   0.0    0.0   0.0    0.0    0.0   \n",
       "U10043      0.0     0.0  ...    0.0    0.0   0.0    0.0   0.0    0.0    0.0   \n",
       "U10045      0.0     0.0  ...    0.0    0.0   0.0    0.0   0.0    0.0    0.0   \n",
       "U10059      0.0     0.0  ...    0.0    0.0   0.0    0.0   0.0    0.0    0.0   \n",
       "U10062      0.0     0.0  ...    0.0    0.0   0.0    0.0   0.0    0.0    0.0   \n",
       "\n",
       "article  N9977  N9978  N9992  \n",
       "user_id                       \n",
       "U10022     0.0    0.0    0.0  \n",
       "U10043     0.0    0.0    0.0  \n",
       "U10045     0.0    0.0    0.0  \n",
       "U10059     0.0    0.0    0.0  \n",
       "U10062     0.0    0.0    0.0  \n",
       "\n",
       "[5 rows x 16597 columns]"
      ]
     },
     "execution_count": 32,
     "metadata": {},
     "output_type": "execute_result"
    }
   ],
   "source": [
    "original_matrix = original_matrix.astype(np.float64)\n",
    "original_matrix.head()"
   ]
  },
  {
   "cell_type": "markdown",
   "metadata": {},
   "source": [
    "## Model Fitting"
   ]
  },
  {
   "cell_type": "code",
   "execution_count": 33,
   "metadata": {},
   "outputs": [],
   "source": [
    "original_matrix_np = original_matrix.to_numpy(copy=True)\n",
    "original_matrix_np_mean = np.mean(b1, axis=1)\n",
    "original_matrix_np -= original_matrix_np_mean.reshape(-1,1)"
   ]
  },
  {
   "cell_type": "code",
   "execution_count": 34,
   "metadata": {},
   "outputs": [],
   "source": [
    "U, sigma, Vt = svds(original_matrix_np, k=5)"
   ]
  },
  {
   "cell_type": "code",
   "execution_count": 35,
   "metadata": {},
   "outputs": [],
   "source": [
    "Sigma = np.diag(sigma)"
   ]
  },
  {
   "cell_type": "code",
   "execution_count": 36,
   "metadata": {},
   "outputs": [
    {
     "data": {
      "text/plain": [
       "(5, 5)"
      ]
     },
     "execution_count": 36,
     "metadata": {},
     "output_type": "execute_result"
    }
   ],
   "source": [
    "Sigma.shape"
   ]
  },
  {
   "cell_type": "code",
   "execution_count": 38,
   "metadata": {},
   "outputs": [],
   "source": [
    "approx_matrix = np.dot(np.dot(U, Sigma), Vt) + original_matrix_np_mean.reshape(-1, 1)\n",
    "approx_matrix_df = pd.DataFrame(recommendations)\n",
    "approx_matrix_df.columns = original_matrix.columns\n",
    "approx_matrix_df['user_ids'] = original_matrix.index\n",
    "approx_matrix_df.set_index('user_ids', inplace=True)"
   ]
  },
  {
   "cell_type": "code",
   "execution_count": 63,
   "metadata": {},
   "outputs": [],
   "source": [
    "#norm1 = approx_matrix / np.linalg.norm(approx_matrix)\n",
    "norm2 = normalize(approx_matrix, axis=0)\n",
    "#print np.all(norm1 == norm2)"
   ]
  },
  {
   "cell_type": "code",
   "execution_count": 74,
   "metadata": {},
   "outputs": [],
   "source": [
    "maxi = np.max(approx_matrix)\n",
    "mini = np.min(approx_matrix)\n",
    "norm = (approx_matrix - mini) / (maxi-mini)"
   ]
  },
  {
   "cell_type": "code",
   "execution_count": 71,
   "metadata": {},
   "outputs": [
    {
     "data": {
      "text/plain": [
       "(1.4849397745290152, -0.7104377895120427)"
      ]
     },
     "execution_count": 71,
     "metadata": {},
     "output_type": "execute_result"
    }
   ],
   "source": [
    "maxi, mini"
   ]
  },
  {
   "cell_type": "code",
   "execution_count": 76,
   "metadata": {},
   "outputs": [
    {
     "data": {
      "text/plain": [
       "(1.0, 0.0)"
      ]
     },
     "execution_count": 76,
     "metadata": {},
     "output_type": "execute_result"
    }
   ],
   "source": [
    "np.max(norm), np.min(norm)"
   ]
  },
  {
   "cell_type": "code",
   "execution_count": 80,
   "metadata": {},
   "outputs": [
    {
     "data": {
      "text/html": [
       "<div>\n",
       "<style scoped>\n",
       "    .dataframe tbody tr th:only-of-type {\n",
       "        vertical-align: middle;\n",
       "    }\n",
       "\n",
       "    .dataframe tbody tr th {\n",
       "        vertical-align: top;\n",
       "    }\n",
       "\n",
       "    .dataframe thead th {\n",
       "        text-align: right;\n",
       "    }\n",
       "</style>\n",
       "<table border=\"1\" class=\"dataframe\">\n",
       "  <thead>\n",
       "    <tr style=\"text-align: right;\">\n",
       "      <th></th>\n",
       "      <th>0</th>\n",
       "      <th>1</th>\n",
       "      <th>2</th>\n",
       "      <th>3</th>\n",
       "      <th>4</th>\n",
       "      <th>5</th>\n",
       "      <th>6</th>\n",
       "      <th>7</th>\n",
       "      <th>8</th>\n",
       "      <th>9</th>\n",
       "    </tr>\n",
       "  </thead>\n",
       "  <tbody>\n",
       "    <tr>\n",
       "      <th>count</th>\n",
       "      <td>9748.000000</td>\n",
       "      <td>9748.000000</td>\n",
       "      <td>9748.000000</td>\n",
       "      <td>9748.000000</td>\n",
       "      <td>9748.000000</td>\n",
       "      <td>9748.000000</td>\n",
       "      <td>9748.000000</td>\n",
       "      <td>9748.000000</td>\n",
       "      <td>9748.000000</td>\n",
       "      <td>9748.000000</td>\n",
       "    </tr>\n",
       "    <tr>\n",
       "      <th>mean</th>\n",
       "      <td>0.323631</td>\n",
       "      <td>0.324030</td>\n",
       "      <td>0.323643</td>\n",
       "      <td>0.323717</td>\n",
       "      <td>0.323668</td>\n",
       "      <td>0.323739</td>\n",
       "      <td>0.323874</td>\n",
       "      <td>0.323685</td>\n",
       "      <td>0.323704</td>\n",
       "      <td>0.323645</td>\n",
       "    </tr>\n",
       "    <tr>\n",
       "      <th>std</th>\n",
       "      <td>0.000141</td>\n",
       "      <td>0.000765</td>\n",
       "      <td>0.000229</td>\n",
       "      <td>0.000309</td>\n",
       "      <td>0.000225</td>\n",
       "      <td>0.000279</td>\n",
       "      <td>0.000563</td>\n",
       "      <td>0.000171</td>\n",
       "      <td>0.000142</td>\n",
       "      <td>0.000099</td>\n",
       "    </tr>\n",
       "    <tr>\n",
       "      <th>min</th>\n",
       "      <td>0.322901</td>\n",
       "      <td>0.321191</td>\n",
       "      <td>0.322134</td>\n",
       "      <td>0.322243</td>\n",
       "      <td>0.322595</td>\n",
       "      <td>0.322258</td>\n",
       "      <td>0.321269</td>\n",
       "      <td>0.322966</td>\n",
       "      <td>0.323390</td>\n",
       "      <td>0.323204</td>\n",
       "    </tr>\n",
       "    <tr>\n",
       "      <th>25%</th>\n",
       "      <td>0.323596</td>\n",
       "      <td>0.323656</td>\n",
       "      <td>0.323568</td>\n",
       "      <td>0.323604</td>\n",
       "      <td>0.323586</td>\n",
       "      <td>0.323605</td>\n",
       "      <td>0.323612</td>\n",
       "      <td>0.323608</td>\n",
       "      <td>0.323623</td>\n",
       "      <td>0.323605</td>\n",
       "    </tr>\n",
       "    <tr>\n",
       "      <th>50%</th>\n",
       "      <td>0.323617</td>\n",
       "      <td>0.323832</td>\n",
       "      <td>0.323602</td>\n",
       "      <td>0.323645</td>\n",
       "      <td>0.323620</td>\n",
       "      <td>0.323645</td>\n",
       "      <td>0.323725</td>\n",
       "      <td>0.323641</td>\n",
       "      <td>0.323660</td>\n",
       "      <td>0.323621</td>\n",
       "    </tr>\n",
       "    <tr>\n",
       "      <th>75%</th>\n",
       "      <td>0.323664</td>\n",
       "      <td>0.324265</td>\n",
       "      <td>0.323634</td>\n",
       "      <td>0.323770</td>\n",
       "      <td>0.323701</td>\n",
       "      <td>0.323777</td>\n",
       "      <td>0.324020</td>\n",
       "      <td>0.323726</td>\n",
       "      <td>0.323740</td>\n",
       "      <td>0.323667</td>\n",
       "    </tr>\n",
       "    <tr>\n",
       "      <th>max</th>\n",
       "      <td>0.325498</td>\n",
       "      <td>0.330740</td>\n",
       "      <td>0.325136</td>\n",
       "      <td>0.326922</td>\n",
       "      <td>0.325377</td>\n",
       "      <td>0.326225</td>\n",
       "      <td>0.331564</td>\n",
       "      <td>0.326157</td>\n",
       "      <td>0.325110</td>\n",
       "      <td>0.324535</td>\n",
       "    </tr>\n",
       "  </tbody>\n",
       "</table>\n",
       "</div>"
      ],
      "text/plain": [
       "                 0            1            2            3            4  \\\n",
       "count  9748.000000  9748.000000  9748.000000  9748.000000  9748.000000   \n",
       "mean      0.323631     0.324030     0.323643     0.323717     0.323668   \n",
       "std       0.000141     0.000765     0.000229     0.000309     0.000225   \n",
       "min       0.322901     0.321191     0.322134     0.322243     0.322595   \n",
       "25%       0.323596     0.323656     0.323568     0.323604     0.323586   \n",
       "50%       0.323617     0.323832     0.323602     0.323645     0.323620   \n",
       "75%       0.323664     0.324265     0.323634     0.323770     0.323701   \n",
       "max       0.325498     0.330740     0.325136     0.326922     0.325377   \n",
       "\n",
       "                 5            6            7            8            9  \n",
       "count  9748.000000  9748.000000  9748.000000  9748.000000  9748.000000  \n",
       "mean      0.323739     0.323874     0.323685     0.323704     0.323645  \n",
       "std       0.000279     0.000563     0.000171     0.000142     0.000099  \n",
       "min       0.322258     0.321269     0.322966     0.323390     0.323204  \n",
       "25%       0.323605     0.323612     0.323608     0.323623     0.323605  \n",
       "50%       0.323645     0.323725     0.323641     0.323660     0.323621  \n",
       "75%       0.323777     0.324020     0.323726     0.323740     0.323667  \n",
       "max       0.326225     0.331564     0.326157     0.325110     0.324535  "
      ]
     },
     "execution_count": 80,
     "metadata": {},
     "output_type": "execute_result"
    }
   ],
   "source": [
    "norm_df = pd.DataFrame(norm)\n",
    "norm_df.iloc[:, :10].describe()"
   ]
  },
  {
   "cell_type": "code",
   "execution_count": 83,
   "metadata": {},
   "outputs": [
    {
     "data": {
      "text/html": [
       "<div>\n",
       "<style scoped>\n",
       "    .dataframe tbody tr th:only-of-type {\n",
       "        vertical-align: middle;\n",
       "    }\n",
       "\n",
       "    .dataframe tbody tr th {\n",
       "        vertical-align: top;\n",
       "    }\n",
       "\n",
       "    .dataframe thead th {\n",
       "        text-align: right;\n",
       "    }\n",
       "</style>\n",
       "<table border=\"1\" class=\"dataframe\">\n",
       "  <thead>\n",
       "    <tr style=\"text-align: right;\">\n",
       "      <th>article</th>\n",
       "      <th>N1001</th>\n",
       "      <th>N10016</th>\n",
       "      <th>N10021</th>\n",
       "      <th>N10024</th>\n",
       "      <th>N10025</th>\n",
       "      <th>N10034</th>\n",
       "      <th>N10040</th>\n",
       "      <th>N10041</th>\n",
       "      <th>N10047</th>\n",
       "      <th>N10048</th>\n",
       "    </tr>\n",
       "  </thead>\n",
       "  <tbody>\n",
       "    <tr>\n",
       "      <th>count</th>\n",
       "      <td>9748.000000</td>\n",
       "      <td>9748.000000</td>\n",
       "      <td>9748.000000</td>\n",
       "      <td>9748.000000</td>\n",
       "      <td>9748.000000</td>\n",
       "      <td>9748.000000</td>\n",
       "      <td>9748.000000</td>\n",
       "      <td>9748.000000</td>\n",
       "      <td>9748.000000</td>\n",
       "      <td>9748.000000</td>\n",
       "    </tr>\n",
       "    <tr>\n",
       "      <th>mean</th>\n",
       "      <td>0.000121</td>\n",
       "      <td>0.000871</td>\n",
       "      <td>0.000156</td>\n",
       "      <td>0.000276</td>\n",
       "      <td>0.000212</td>\n",
       "      <td>0.000324</td>\n",
       "      <td>0.000648</td>\n",
       "      <td>0.000234</td>\n",
       "      <td>0.000274</td>\n",
       "      <td>0.000154</td>\n",
       "    </tr>\n",
       "    <tr>\n",
       "      <th>std</th>\n",
       "      <td>0.000669</td>\n",
       "      <td>0.001579</td>\n",
       "      <td>0.000774</td>\n",
       "      <td>0.000894</td>\n",
       "      <td>0.000762</td>\n",
       "      <td>0.000820</td>\n",
       "      <td>0.001348</td>\n",
       "      <td>0.000685</td>\n",
       "      <td>0.000650</td>\n",
       "      <td>0.000628</td>\n",
       "    </tr>\n",
       "    <tr>\n",
       "      <th>min</th>\n",
       "      <td>-0.003658</td>\n",
       "      <td>-0.004789</td>\n",
       "      <td>-0.004043</td>\n",
       "      <td>-0.004315</td>\n",
       "      <td>-0.004879</td>\n",
       "      <td>-0.003061</td>\n",
       "      <td>-0.004035</td>\n",
       "      <td>-0.003274</td>\n",
       "      <td>-0.002337</td>\n",
       "      <td>-0.002864</td>\n",
       "    </tr>\n",
       "    <tr>\n",
       "      <th>25%</th>\n",
       "      <td>-0.000138</td>\n",
       "      <td>0.000133</td>\n",
       "      <td>-0.000160</td>\n",
       "      <td>-0.000053</td>\n",
       "      <td>-0.000094</td>\n",
       "      <td>-0.000043</td>\n",
       "      <td>0.000073</td>\n",
       "      <td>-0.000047</td>\n",
       "      <td>-0.000015</td>\n",
       "      <td>-0.000124</td>\n",
       "    </tr>\n",
       "    <tr>\n",
       "      <th>50%</th>\n",
       "      <td>0.000080</td>\n",
       "      <td>0.000485</td>\n",
       "      <td>0.000076</td>\n",
       "      <td>0.000154</td>\n",
       "      <td>0.000110</td>\n",
       "      <td>0.000144</td>\n",
       "      <td>0.000360</td>\n",
       "      <td>0.000130</td>\n",
       "      <td>0.000143</td>\n",
       "      <td>0.000074</td>\n",
       "    </tr>\n",
       "    <tr>\n",
       "      <th>75%</th>\n",
       "      <td>0.000328</td>\n",
       "      <td>0.001269</td>\n",
       "      <td>0.000354</td>\n",
       "      <td>0.000508</td>\n",
       "      <td>0.000404</td>\n",
       "      <td>0.000492</td>\n",
       "      <td>0.000984</td>\n",
       "      <td>0.000410</td>\n",
       "      <td>0.000429</td>\n",
       "      <td>0.000325</td>\n",
       "    </tr>\n",
       "    <tr>\n",
       "      <th>max</th>\n",
       "      <td>0.010376</td>\n",
       "      <td>0.021052</td>\n",
       "      <td>0.010573</td>\n",
       "      <td>0.013038</td>\n",
       "      <td>0.010254</td>\n",
       "      <td>0.012224</td>\n",
       "      <td>0.022178</td>\n",
       "      <td>0.011677</td>\n",
       "      <td>0.012276</td>\n",
       "      <td>0.011757</td>\n",
       "    </tr>\n",
       "  </tbody>\n",
       "</table>\n",
       "</div>"
      ],
      "text/plain": [
       "article        N1001       N10016       N10021       N10024       N10025  \\\n",
       "count    9748.000000  9748.000000  9748.000000  9748.000000  9748.000000   \n",
       "mean        0.000121     0.000871     0.000156     0.000276     0.000212   \n",
       "std         0.000669     0.001579     0.000774     0.000894     0.000762   \n",
       "min        -0.003658    -0.004789    -0.004043    -0.004315    -0.004879   \n",
       "25%        -0.000138     0.000133    -0.000160    -0.000053    -0.000094   \n",
       "50%         0.000080     0.000485     0.000076     0.000154     0.000110   \n",
       "75%         0.000328     0.001269     0.000354     0.000508     0.000404   \n",
       "max         0.010376     0.021052     0.010573     0.013038     0.010254   \n",
       "\n",
       "article       N10034       N10040       N10041       N10047       N10048  \n",
       "count    9748.000000  9748.000000  9748.000000  9748.000000  9748.000000  \n",
       "mean        0.000324     0.000648     0.000234     0.000274     0.000154  \n",
       "std         0.000820     0.001348     0.000685     0.000650     0.000628  \n",
       "min        -0.003061    -0.004035    -0.003274    -0.002337    -0.002864  \n",
       "25%        -0.000043     0.000073    -0.000047    -0.000015    -0.000124  \n",
       "50%         0.000144     0.000360     0.000130     0.000143     0.000074  \n",
       "75%         0.000492     0.000984     0.000410     0.000429     0.000325  \n",
       "max         0.012224     0.022178     0.011677     0.012276     0.011757  "
      ]
     },
     "execution_count": 83,
     "metadata": {},
     "output_type": "execute_result"
    }
   ],
   "source": [
    "approx_matrix_df.iloc[:, :10].describe()"
   ]
  },
  {
   "cell_type": "code",
   "execution_count": 39,
   "metadata": {},
   "outputs": [
    {
     "data": {
      "text/html": [
       "<div>\n",
       "<style scoped>\n",
       "    .dataframe tbody tr th:only-of-type {\n",
       "        vertical-align: middle;\n",
       "    }\n",
       "\n",
       "    .dataframe tbody tr th {\n",
       "        vertical-align: top;\n",
       "    }\n",
       "\n",
       "    .dataframe thead th {\n",
       "        text-align: right;\n",
       "    }\n",
       "</style>\n",
       "<table border=\"1\" class=\"dataframe\">\n",
       "  <thead>\n",
       "    <tr style=\"text-align: right;\">\n",
       "      <th>article</th>\n",
       "      <th>N1001</th>\n",
       "      <th>N10016</th>\n",
       "      <th>N10021</th>\n",
       "      <th>N10024</th>\n",
       "      <th>N10025</th>\n",
       "      <th>N10034</th>\n",
       "      <th>N10040</th>\n",
       "      <th>N10041</th>\n",
       "      <th>N10047</th>\n",
       "      <th>N10048</th>\n",
       "      <th>...</th>\n",
       "      <th>N9955</th>\n",
       "      <th>N9958</th>\n",
       "      <th>N996</th>\n",
       "      <th>N9969</th>\n",
       "      <th>N997</th>\n",
       "      <th>N9973</th>\n",
       "      <th>N9974</th>\n",
       "      <th>N9977</th>\n",
       "      <th>N9978</th>\n",
       "      <th>N9992</th>\n",
       "    </tr>\n",
       "    <tr>\n",
       "      <th>user_ids</th>\n",
       "      <th></th>\n",
       "      <th></th>\n",
       "      <th></th>\n",
       "      <th></th>\n",
       "      <th></th>\n",
       "      <th></th>\n",
       "      <th></th>\n",
       "      <th></th>\n",
       "      <th></th>\n",
       "      <th></th>\n",
       "      <th></th>\n",
       "      <th></th>\n",
       "      <th></th>\n",
       "      <th></th>\n",
       "      <th></th>\n",
       "      <th></th>\n",
       "      <th></th>\n",
       "      <th></th>\n",
       "      <th></th>\n",
       "      <th></th>\n",
       "      <th></th>\n",
       "    </tr>\n",
       "  </thead>\n",
       "  <tbody>\n",
       "    <tr>\n",
       "      <th>U10022</th>\n",
       "      <td>-0.000528</td>\n",
       "      <td>0.001132</td>\n",
       "      <td>-0.000470</td>\n",
       "      <td>0.000051</td>\n",
       "      <td>-0.000225</td>\n",
       "      <td>-0.000446</td>\n",
       "      <td>0.000941</td>\n",
       "      <td>-0.000224</td>\n",
       "      <td>-0.000154</td>\n",
       "      <td>-0.000528</td>\n",
       "      <td>...</td>\n",
       "      <td>0.006270</td>\n",
       "      <td>-0.000570</td>\n",
       "      <td>0.010480</td>\n",
       "      <td>-0.000392</td>\n",
       "      <td>-0.000520</td>\n",
       "      <td>-0.000445</td>\n",
       "      <td>-0.000496</td>\n",
       "      <td>-0.000288</td>\n",
       "      <td>-0.000511</td>\n",
       "      <td>-0.000417</td>\n",
       "    </tr>\n",
       "    <tr>\n",
       "      <th>U10043</th>\n",
       "      <td>0.000769</td>\n",
       "      <td>0.001360</td>\n",
       "      <td>0.000829</td>\n",
       "      <td>0.000783</td>\n",
       "      <td>0.000697</td>\n",
       "      <td>0.000980</td>\n",
       "      <td>0.000740</td>\n",
       "      <td>0.000785</td>\n",
       "      <td>0.000854</td>\n",
       "      <td>0.000920</td>\n",
       "      <td>...</td>\n",
       "      <td>0.000894</td>\n",
       "      <td>0.000873</td>\n",
       "      <td>0.002221</td>\n",
       "      <td>0.000871</td>\n",
       "      <td>0.000767</td>\n",
       "      <td>0.000805</td>\n",
       "      <td>0.000693</td>\n",
       "      <td>0.000930</td>\n",
       "      <td>0.001000</td>\n",
       "      <td>0.000790</td>\n",
       "    </tr>\n",
       "    <tr>\n",
       "      <th>U10045</th>\n",
       "      <td>0.000951</td>\n",
       "      <td>0.001591</td>\n",
       "      <td>0.001087</td>\n",
       "      <td>0.001037</td>\n",
       "      <td>0.000935</td>\n",
       "      <td>0.001228</td>\n",
       "      <td>0.000932</td>\n",
       "      <td>0.000986</td>\n",
       "      <td>0.001080</td>\n",
       "      <td>0.001121</td>\n",
       "      <td>...</td>\n",
       "      <td>0.001501</td>\n",
       "      <td>0.001077</td>\n",
       "      <td>0.002711</td>\n",
       "      <td>0.001116</td>\n",
       "      <td>0.000971</td>\n",
       "      <td>0.001073</td>\n",
       "      <td>0.000952</td>\n",
       "      <td>0.001175</td>\n",
       "      <td>0.001179</td>\n",
       "      <td>0.000993</td>\n",
       "    </tr>\n",
       "  </tbody>\n",
       "</table>\n",
       "<p>3 rows × 16597 columns</p>\n",
       "</div>"
      ],
      "text/plain": [
       "article      N1001    N10016    N10021    N10024    N10025    N10034  \\\n",
       "user_ids                                                               \n",
       "U10022   -0.000528  0.001132 -0.000470  0.000051 -0.000225 -0.000446   \n",
       "U10043    0.000769  0.001360  0.000829  0.000783  0.000697  0.000980   \n",
       "U10045    0.000951  0.001591  0.001087  0.001037  0.000935  0.001228   \n",
       "\n",
       "article     N10040    N10041    N10047    N10048  ...     N9955     N9958  \\\n",
       "user_ids                                          ...                       \n",
       "U10022    0.000941 -0.000224 -0.000154 -0.000528  ...  0.006270 -0.000570   \n",
       "U10043    0.000740  0.000785  0.000854  0.000920  ...  0.000894  0.000873   \n",
       "U10045    0.000932  0.000986  0.001080  0.001121  ...  0.001501  0.001077   \n",
       "\n",
       "article       N996     N9969      N997     N9973     N9974     N9977  \\\n",
       "user_ids                                                               \n",
       "U10022    0.010480 -0.000392 -0.000520 -0.000445 -0.000496 -0.000288   \n",
       "U10043    0.002221  0.000871  0.000767  0.000805  0.000693  0.000930   \n",
       "U10045    0.002711  0.001116  0.000971  0.001073  0.000952  0.001175   \n",
       "\n",
       "article      N9978     N9992  \n",
       "user_ids                      \n",
       "U10022   -0.000511 -0.000417  \n",
       "U10043    0.001000  0.000790  \n",
       "U10045    0.001179  0.000993  \n",
       "\n",
       "[3 rows x 16597 columns]"
      ]
     },
     "execution_count": 39,
     "metadata": {},
     "output_type": "execute_result"
    }
   ],
   "source": [
    "approx_matrix_df.head(3)"
   ]
  },
  {
   "cell_type": "code",
   "execution_count": 40,
   "metadata": {},
   "outputs": [
    {
     "data": {
      "text/plain": [
       "(-0.7104377895120427, 1.4849397745290152)"
      ]
     },
     "execution_count": 40,
     "metadata": {},
     "output_type": "execute_result"
    }
   ],
   "source": [
    "np.min(approx_matrix), np.max(approx_matrix)"
   ]
  },
  {
   "cell_type": "code",
   "execution_count": 45,
   "metadata": {},
   "outputs": [
    {
     "data": {
      "text/html": [
       "<div>\n",
       "<style scoped>\n",
       "    .dataframe tbody tr th:only-of-type {\n",
       "        vertical-align: middle;\n",
       "    }\n",
       "\n",
       "    .dataframe tbody tr th {\n",
       "        vertical-align: top;\n",
       "    }\n",
       "\n",
       "    .dataframe thead th {\n",
       "        text-align: right;\n",
       "    }\n",
       "</style>\n",
       "<table border=\"1\" class=\"dataframe\">\n",
       "  <thead>\n",
       "    <tr style=\"text-align: right;\">\n",
       "      <th></th>\n",
       "      <th>user_id</th>\n",
       "      <th>article</th>\n",
       "      <th>read</th>\n",
       "    </tr>\n",
       "  </thead>\n",
       "  <tbody>\n",
       "    <tr>\n",
       "      <th>101887</th>\n",
       "      <td>U10022</td>\n",
       "      <td>N27448</td>\n",
       "      <td>1</td>\n",
       "    </tr>\n",
       "    <tr>\n",
       "      <th>101884</th>\n",
       "      <td>U10022</td>\n",
       "      <td>N879</td>\n",
       "      <td>1</td>\n",
       "    </tr>\n",
       "    <tr>\n",
       "      <th>101890</th>\n",
       "      <td>U10022</td>\n",
       "      <td>N16233</td>\n",
       "      <td>1</td>\n",
       "    </tr>\n",
       "    <tr>\n",
       "      <th>101897</th>\n",
       "      <td>U10022</td>\n",
       "      <td>N40716</td>\n",
       "      <td>1</td>\n",
       "    </tr>\n",
       "    <tr>\n",
       "      <th>101904</th>\n",
       "      <td>U10022</td>\n",
       "      <td>N56240</td>\n",
       "      <td>1</td>\n",
       "    </tr>\n",
       "    <tr>\n",
       "      <th>...</th>\n",
       "      <td>...</td>\n",
       "      <td>...</td>\n",
       "      <td>...</td>\n",
       "    </tr>\n",
       "    <tr>\n",
       "      <th>130454</th>\n",
       "      <td>U999</td>\n",
       "      <td>N42937</td>\n",
       "      <td>1</td>\n",
       "    </tr>\n",
       "    <tr>\n",
       "      <th>130459</th>\n",
       "      <td>U999</td>\n",
       "      <td>N20028</td>\n",
       "      <td>1</td>\n",
       "    </tr>\n",
       "    <tr>\n",
       "      <th>130455</th>\n",
       "      <td>U999</td>\n",
       "      <td>N42768</td>\n",
       "      <td>1</td>\n",
       "    </tr>\n",
       "    <tr>\n",
       "      <th>182303</th>\n",
       "      <td>U9991</td>\n",
       "      <td>N47472</td>\n",
       "      <td>1</td>\n",
       "    </tr>\n",
       "    <tr>\n",
       "      <th>182302</th>\n",
       "      <td>U9991</td>\n",
       "      <td>N813</td>\n",
       "      <td>1</td>\n",
       "    </tr>\n",
       "  </tbody>\n",
       "</table>\n",
       "<p>145991 rows × 3 columns</p>\n",
       "</div>"
      ],
      "text/plain": [
       "       user_id article  read\n",
       "101887  U10022  N27448     1\n",
       "101884  U10022    N879     1\n",
       "101890  U10022  N16233     1\n",
       "101897  U10022  N40716     1\n",
       "101904  U10022  N56240     1\n",
       "...        ...     ...   ...\n",
       "130454    U999  N42937     1\n",
       "130459    U999  N20028     1\n",
       "130455    U999  N42768     1\n",
       "182303   U9991  N47472     1\n",
       "182302   U9991    N813     1\n",
       "\n",
       "[145991 rows x 3 columns]"
      ]
     },
     "execution_count": 45,
     "metadata": {},
     "output_type": "execute_result"
    }
   ],
   "source": [
    "test.sort_values(by=\"user_id\")"
   ]
  },
  {
   "cell_type": "code",
   "execution_count": 52,
   "metadata": {},
   "outputs": [
    {
     "ename": "SyntaxError",
     "evalue": "unexpected EOF while parsing (<ipython-input-52-dc3ae5dfb754>, line 4)",
     "output_type": "error",
     "traceback": [
      "\u001b[0;36m  File \u001b[0;32m\"<ipython-input-52-dc3ae5dfb754>\"\u001b[0;36m, line \u001b[0;32m4\u001b[0m\n\u001b[0;31m    \u001b[0m\n\u001b[0m    ^\u001b[0m\n\u001b[0;31mSyntaxError\u001b[0m\u001b[0;31m:\u001b[0m unexpected EOF while parsing\n"
     ]
    }
   ],
   "source": [
    "try:\n",
    "    approx = approx_matrix_df.loc['U10022', 'N27448']\n",
    "except KeyError as e:\n",
    "    "
   ]
  },
  {
   "cell_type": "code",
   "execution_count": 54,
   "metadata": {},
   "outputs": [],
   "source": [
    "approx = approx_matrix_df.loc['U10022', 'N27448']"
   ]
  },
  {
   "cell_type": "code",
   "execution_count": 55,
   "metadata": {},
   "outputs": [
    {
     "data": {
      "text/plain": [
       "0.041518773083372366"
      ]
     },
     "execution_count": 55,
     "metadata": {},
     "output_type": "execute_result"
    }
   ],
   "source": [
    "t = 0\n",
    "if approx > t:\n",
    "    approx = 1\n",
    "else:\n",
    "    approx = 0\n",
    "\n",
    "cost = 1 - approx\n"
   ]
  },
  {
   "cell_type": "code",
   "execution_count": null,
   "metadata": {},
   "outputs": [],
   "source": []
  }
 ],
 "metadata": {
  "kernelspec": {
   "display_name": "Python [conda env:nf] *",
   "language": "python",
   "name": "conda-env-nf-py"
  },
  "language_info": {
   "codemirror_mode": {
    "name": "ipython",
    "version": 3
   },
   "file_extension": ".py",
   "mimetype": "text/x-python",
   "name": "python",
   "nbconvert_exporter": "python",
   "pygments_lexer": "ipython3",
   "version": "3.6.10"
  }
 },
 "nbformat": 4,
 "nbformat_minor": 4
}
